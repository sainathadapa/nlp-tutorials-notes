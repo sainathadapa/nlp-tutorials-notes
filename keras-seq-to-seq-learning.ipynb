{
 "cells": [
  {
   "cell_type": "markdown",
   "metadata": {},
   "source": [
    "https://blog.keras.io/a-ten-minute-introduction-to-sequence-to-sequence-learning-in-keras.html"
   ]
  },
  {
   "cell_type": "markdown",
   "metadata": {},
   "source": [
    "Sequence to sequence learning is about training models to convert sequences from one domain to sequences in another domain. This can be used for machine translation or for free-form question answering or in general, it is applicable any time you need to generate text"
   ]
  },
  {
   "cell_type": "markdown",
   "metadata": {},
   "source": [
    "There are multiple ways to handle this task, either using RNNs or using 1D convnets."
   ]
  },
  {
   "cell_type": "markdown",
   "metadata": {},
   "source": [
    "# Trivial case - Input and output sequences have same length"
   ]
  },
  {
   "cell_type": "markdown",
   "metadata": {},
   "source": [
    "When both input sequences and output sequences have the same length, you can implement such models simply with a keras LSTM or GRU layer. (or a stack)"
   ]
  },
  {
   "cell_type": "markdown",
   "metadata": {},
   "source": [
    "Teaching a RNN to learn to add numbers, encoded as character strings"
   ]
  },
  {
   "cell_type": "markdown",
   "metadata": {
    "ExecuteTime": {
     "end_time": "2017-10-04T10:46:01.192383Z",
     "start_time": "2017-10-04T10:46:01.184235Z"
    },
    "collapsed": true
   },
   "source": [
    "Input \"535+51\"\n",
    "Output \"596\""
   ]
  },
  {
   "cell_type": "code",
   "execution_count": 1,
   "metadata": {
    "ExecuteTime": {
     "end_time": "2017-12-21T10:41:53.193077Z",
     "start_time": "2017-12-21T10:41:51.719833Z"
    }
   },
   "outputs": [
    {
     "name": "stderr",
     "output_type": "stream",
     "text": [
      "Using TensorFlow backend.\n"
     ]
    }
   ],
   "source": [
    "from keras.models import Sequential\n",
    "from keras import layers\n",
    "import numpy as np"
   ]
  },
  {
   "cell_type": "code",
   "execution_count": 2,
   "metadata": {
    "ExecuteTime": {
     "end_time": "2017-12-21T10:41:53.239641Z",
     "start_time": "2017-12-21T10:41:53.195228Z"
    }
   },
   "outputs": [],
   "source": [
    "class CharacterTable(object):\n",
    "    \"\"\"Given a set of characters:\n",
    "    + Encode them to a one hot integer representation\n",
    "    + Decode the one hot integer representation to their character output\n",
    "    + Decode a vector of probabilities to their character output\n",
    "    \"\"\"\n",
    "    def __init__(self, chars):\n",
    "        \"\"\"Initialize character table.\n",
    "\n",
    "        # Arguments\n",
    "            chars: Characters that can appear in the input.\n",
    "        \"\"\"\n",
    "        self.chars = sorted(set(chars))\n",
    "        self.char_indices = dict((c, i) for i, c in enumerate(self.chars))\n",
    "        self.indices_char = dict((i, c) for i, c in enumerate(self.chars))\n",
    "\n",
    "    def encode(self, C, num_rows):\n",
    "        \"\"\"One hot encode given string C.\n",
    "\n",
    "        # Arguments\n",
    "            num_rows: Number of rows in the returned one hot encoding. This is\n",
    "                used to keep the # of rows for each data the same.\n",
    "        \"\"\"\n",
    "        x = np.zeros((num_rows, len(self.chars)))\n",
    "        for i, c in enumerate(C):\n",
    "            x[i, self.char_indices[c]] = 1\n",
    "        return x\n",
    "\n",
    "    def decode(self, x, calc_argmax=True):\n",
    "        if calc_argmax:\n",
    "            x = x.argmax(axis=-1)\n",
    "        return ''.join(self.indices_char[x] for x in x)"
   ]
  },
  {
   "cell_type": "code",
   "execution_count": 3,
   "metadata": {
    "ExecuteTime": {
     "end_time": "2017-12-21T10:41:53.354320Z",
     "start_time": "2017-12-21T10:41:53.241540Z"
    }
   },
   "outputs": [],
   "source": [
    "# Parameters for the model and dataset.\n",
    "TRAINING_SIZE = 50000\n",
    "DIGITS = 3\n",
    "INVERT = True"
   ]
  },
  {
   "cell_type": "code",
   "execution_count": 4,
   "metadata": {
    "ExecuteTime": {
     "end_time": "2017-12-21T10:41:53.423091Z",
     "start_time": "2017-12-21T10:41:53.358226Z"
    }
   },
   "outputs": [],
   "source": [
    "# Maximum length of input (e.g., '345+678')\n",
    "MAXLEN = DIGITS + 1 + DIGITS"
   ]
  },
  {
   "cell_type": "code",
   "execution_count": 5,
   "metadata": {
    "ExecuteTime": {
     "end_time": "2017-12-21T10:41:53.531378Z",
     "start_time": "2017-12-21T10:41:53.426230Z"
    }
   },
   "outputs": [],
   "source": [
    "# All the numbers, plus sign and space for padding.\n",
    "chars = '0123456789+ '\n",
    "ctable = CharacterTable(chars)"
   ]
  },
  {
   "cell_type": "code",
   "execution_count": 6,
   "metadata": {
    "ExecuteTime": {
     "end_time": "2017-12-21T10:42:03.821598Z",
     "start_time": "2017-12-21T10:41:53.708135Z"
    }
   },
   "outputs": [
    {
     "name": "stdout",
     "output_type": "stream",
     "text": [
      "Generating data...\n",
      "Total addition questions: 50000\n"
     ]
    }
   ],
   "source": [
    "print('Generating data...')\n",
    "questions = []\n",
    "expected = []\n",
    "seen = set()\n",
    "while len(questions) < TRAINING_SIZE:\n",
    "    f = lambda: int(''.join(np.random.choice(list('0123456789'))\n",
    "                    for i in range(np.random.randint(1, DIGITS + 1))))\n",
    "    a, b = f(), f()\n",
    "    # Skip any addition questions we've already seen\n",
    "    # Also skip any such that x+Y == Y+x (hence the sorting).\n",
    "    key = tuple(sorted((a, b)))\n",
    "    if key in seen:\n",
    "        continue\n",
    "    seen.add(key)\n",
    "    # Pad the data with spaces such that it is always MAXLEN.\n",
    "    q = '{}+{}'.format(a, b)\n",
    "    query = q + ' ' * (MAXLEN - len(q))\n",
    "    ans = str(a + b)\n",
    "    # Answers can be of maximum size DIGITS + 1.\n",
    "    ans += ' ' * (DIGITS + 1 - len(ans))\n",
    "    if INVERT:\n",
    "        # Reverse the query, e.g., '12+345  ' becomes '  543+21'. (Note the\n",
    "        # space used for padding.)\n",
    "        query = query[::-1]\n",
    "    questions.append(query)\n",
    "    expected.append(ans)\n",
    "print('Total addition questions:', len(questions))"
   ]
  },
  {
   "cell_type": "code",
   "execution_count": 7,
   "metadata": {
    "ExecuteTime": {
     "end_time": "2017-12-21T10:42:04.502590Z",
     "start_time": "2017-12-21T10:42:03.823822Z"
    }
   },
   "outputs": [
    {
     "name": "stdout",
     "output_type": "stream",
     "text": [
      "Vectorization...\n"
     ]
    }
   ],
   "source": [
    "print('Vectorization...')\n",
    "x = np.zeros((len(questions), MAXLEN, len(chars)), dtype=np.bool)\n",
    "y = np.zeros((len(questions), DIGITS + 1, len(chars)), dtype=np.bool)\n",
    "for i, sentence in enumerate(questions):\n",
    "    x[i] = ctable.encode(sentence, MAXLEN)\n",
    "for i, sentence in enumerate(expected):\n",
    "    y[i] = ctable.encode(sentence, DIGITS + 1)"
   ]
  },
  {
   "cell_type": "code",
   "execution_count": 8,
   "metadata": {
    "ExecuteTime": {
     "end_time": "2017-12-21T10:42:04.523403Z",
     "start_time": "2017-12-21T10:42:04.504921Z"
    }
   },
   "outputs": [],
   "source": [
    "# Shuffle (x, y) in unison as the later parts of x will almost all be larger\n",
    "# digits.\n",
    "indices = np.arange(len(y))\n",
    "np.random.shuffle(indices)\n",
    "x = x[indices]\n",
    "y = y[indices]"
   ]
  },
  {
   "cell_type": "code",
   "execution_count": 9,
   "metadata": {
    "ExecuteTime": {
     "end_time": "2017-12-21T10:42:04.583211Z",
     "start_time": "2017-12-21T10:42:04.525235Z"
    }
   },
   "outputs": [],
   "source": [
    "# Explicitly set apart 10% for validation data that we never train over.\n",
    "split_at = len(x) - len(x) // 10\n",
    "(x_train, x_val) = x[:split_at], x[split_at:]\n",
    "(y_train, y_val) = y[:split_at], y[split_at:]"
   ]
  },
  {
   "cell_type": "code",
   "execution_count": 10,
   "metadata": {
    "ExecuteTime": {
     "end_time": "2017-12-21T10:42:04.661012Z",
     "start_time": "2017-12-21T10:42:04.585972Z"
    }
   },
   "outputs": [
    {
     "name": "stdout",
     "output_type": "stream",
     "text": [
      "Training Data:\n",
      "(45000, 7, 12)\n",
      "(45000, 4, 12)\n"
     ]
    }
   ],
   "source": [
    "print('Training Data:')\n",
    "print(x_train.shape)\n",
    "print(y_train.shape)"
   ]
  },
  {
   "cell_type": "code",
   "execution_count": 11,
   "metadata": {
    "ExecuteTime": {
     "end_time": "2017-12-21T10:42:04.734523Z",
     "start_time": "2017-12-21T10:42:04.664232Z"
    }
   },
   "outputs": [
    {
     "name": "stdout",
     "output_type": "stream",
     "text": [
      "Validation Data:\n",
      "(5000, 7, 12)\n",
      "(5000, 4, 12)\n"
     ]
    }
   ],
   "source": [
    "print('Validation Data:')\n",
    "print(x_val.shape)\n",
    "print(y_val.shape)"
   ]
  },
  {
   "cell_type": "code",
   "execution_count": 12,
   "metadata": {
    "ExecuteTime": {
     "end_time": "2017-12-21T10:42:04.808913Z",
     "start_time": "2017-12-21T10:42:04.738964Z"
    }
   },
   "outputs": [],
   "source": [
    "from keras.layers import LSTM"
   ]
  },
  {
   "cell_type": "code",
   "execution_count": 13,
   "metadata": {
    "ExecuteTime": {
     "end_time": "2017-12-21T10:42:05.510872Z",
     "start_time": "2017-12-21T10:42:04.811779Z"
    }
   },
   "outputs": [],
   "source": [
    "model = Sequential()\n",
    "\n",
    "# Encode the input sequence using LSTM\n",
    "model.add(LSTM(128, input_shape = (MAXLEN, len(chars))))\n",
    "\n",
    "# As the decoder RNN's input,\n",
    "# repeatedly provide with the last hidden state of RNN for each time step\n",
    "# DIGITS+1 as that's the maximum length of the output, e.g. max output is 999+999 = 1998\n",
    "model.add(layers.RepeatVector(DIGITS + 1))\n",
    "\n",
    "# By setting return_sequences to True, return not only the last output but\n",
    "# all the outputs so far in the form of (num_samples, timesteps, output_dim).\n",
    "model.add(LSTM(128, return_sequences = True))\n",
    "\n",
    "# Apply a dense layer to the every temporal slice of an input. For each of step\n",
    "# of the output sequence, decide which character should be chosen.\n",
    "model.add(layers.TimeDistributed(layers.Dense(len(chars))))\n",
    "model.add(layers.Activation('softmax'))"
   ]
  },
  {
   "cell_type": "code",
   "execution_count": 14,
   "metadata": {
    "ExecuteTime": {
     "end_time": "2017-12-21T10:42:05.551831Z",
     "start_time": "2017-12-21T10:42:05.513222Z"
    }
   },
   "outputs": [],
   "source": [
    "model.compile(loss='categorical_crossentropy',\n",
    "              optimizer='adam',\n",
    "              metrics=['accuracy'])"
   ]
  },
  {
   "cell_type": "code",
   "execution_count": 15,
   "metadata": {
    "ExecuteTime": {
     "end_time": "2017-12-21T10:42:05.595295Z",
     "start_time": "2017-12-21T10:42:05.554418Z"
    }
   },
   "outputs": [
    {
     "name": "stdout",
     "output_type": "stream",
     "text": [
      "_________________________________________________________________\n",
      "Layer (type)                 Output Shape              Param #   \n",
      "=================================================================\n",
      "lstm_1 (LSTM)                (None, 128)               72192     \n",
      "_________________________________________________________________\n",
      "repeat_vector_1 (RepeatVecto (None, 4, 128)            0         \n",
      "_________________________________________________________________\n",
      "lstm_2 (LSTM)                (None, 4, 128)            131584    \n",
      "_________________________________________________________________\n",
      "time_distributed_1 (TimeDist (None, 4, 12)             1548      \n",
      "_________________________________________________________________\n",
      "activation_1 (Activation)    (None, 4, 12)             0         \n",
      "=================================================================\n",
      "Total params: 205,324\n",
      "Trainable params: 205,324\n",
      "Non-trainable params: 0\n",
      "_________________________________________________________________\n"
     ]
    }
   ],
   "source": [
    "model.summary()"
   ]
  },
  {
   "cell_type": "code",
   "execution_count": 17,
   "metadata": {
    "ExecuteTime": {
     "end_time": "2017-12-21T10:42:21.010120Z",
     "start_time": "2017-12-21T10:42:20.834959Z"
    }
   },
   "outputs": [
    {
     "data": {
      "text/html": [
       "<a href='keras-seq-to-seq-1.png' target='_blank'>keras-seq-to-seq-1.png</a><br>"
      ],
      "text/plain": [
       "/home/sainath/code/nlp-tutorials-notes/keras-seq-to-seq-1.png"
      ]
     },
     "execution_count": 17,
     "metadata": {},
     "output_type": "execute_result"
    }
   ],
   "source": [
    "from keras.utils import plot_model\n",
    "plot_model(model, to_file='keras-seq-to-seq-1.png', show_shapes=True, show_layer_names=True)  \n",
    "from IPython.display import FileLink\n",
    "FileLink('keras-seq-to-seq-1.png')"
   ]
  },
  {
   "cell_type": "code",
   "execution_count": 18,
   "metadata": {
    "ExecuteTime": {
     "end_time": "2017-12-21T10:47:01.711744Z",
     "start_time": "2017-12-21T10:42:21.436220Z"
    }
   },
   "outputs": [
    {
     "name": "stdout",
     "output_type": "stream",
     "text": [
      "Train on 45000 samples, validate on 5000 samples\n",
      "Epoch 1/25\n",
      " - 13s - loss: 1.8919 - acc: 0.3208 - val_loss: 1.7983 - val_acc: 0.3449\n",
      "Epoch 2/25\n",
      " - 11s - loss: 1.7564 - acc: 0.3529 - val_loss: 1.7223 - val_acc: 0.3641\n",
      "Epoch 3/25\n",
      " - 11s - loss: 1.6399 - acc: 0.3879 - val_loss: 1.5623 - val_acc: 0.4140\n",
      "Epoch 4/25\n",
      " - 11s - loss: 1.4697 - acc: 0.4493 - val_loss: 1.3708 - val_acc: 0.4824\n",
      "Epoch 5/25\n",
      " - 11s - loss: 1.3024 - acc: 0.5149 - val_loss: 1.2388 - val_acc: 0.5427\n",
      "Epoch 6/25\n",
      " - 11s - loss: 1.1791 - acc: 0.5647 - val_loss: 1.1160 - val_acc: 0.5921\n",
      "Epoch 7/25\n",
      " - 11s - loss: 1.0600 - acc: 0.6125 - val_loss: 1.0079 - val_acc: 0.6348\n",
      "Epoch 8/25\n",
      " - 11s - loss: 0.9552 - acc: 0.6565 - val_loss: 0.9138 - val_acc: 0.6624\n",
      "Epoch 9/25\n",
      " - 11s - loss: 0.8605 - acc: 0.6935 - val_loss: 0.8214 - val_acc: 0.7107\n",
      "Epoch 10/25\n",
      " - 11s - loss: 0.7647 - acc: 0.7299 - val_loss: 0.7095 - val_acc: 0.7479\n",
      "Epoch 11/25\n",
      " - 11s - loss: 0.5890 - acc: 0.7935 - val_loss: 0.4862 - val_acc: 0.8368\n",
      "Epoch 12/25\n",
      " - 11s - loss: 0.4047 - acc: 0.8760 - val_loss: 0.3451 - val_acc: 0.9053\n",
      "Epoch 13/25\n",
      " - 11s - loss: 0.2910 - acc: 0.9258 - val_loss: 0.2503 - val_acc: 0.9405\n",
      "Epoch 14/25\n",
      " - 11s - loss: 0.2171 - acc: 0.9520 - val_loss: 0.1962 - val_acc: 0.9539\n",
      "Epoch 15/25\n",
      " - 11s - loss: 0.1575 - acc: 0.9703 - val_loss: 0.1424 - val_acc: 0.9751\n",
      "Epoch 16/25\n",
      " - 11s - loss: 0.1179 - acc: 0.9811 - val_loss: 0.1142 - val_acc: 0.9797\n",
      "Epoch 17/25\n",
      " - 11s - loss: 0.1076 - acc: 0.9786 - val_loss: 0.0876 - val_acc: 0.9865\n",
      "Epoch 18/25\n",
      " - 11s - loss: 0.0732 - acc: 0.9898 - val_loss: 0.0695 - val_acc: 0.9888\n",
      "Epoch 19/25\n",
      " - 11s - loss: 0.0553 - acc: 0.9938 - val_loss: 0.0670 - val_acc: 0.9858\n",
      "Epoch 20/25\n",
      " - 11s - loss: 0.0490 - acc: 0.9936 - val_loss: 0.0472 - val_acc: 0.9935\n",
      "Epoch 21/25\n",
      " - 11s - loss: 0.0373 - acc: 0.9962 - val_loss: 0.0378 - val_acc: 0.9952\n",
      "Epoch 22/25\n",
      " - 11s - loss: 0.0654 - acc: 0.9841 - val_loss: 0.0318 - val_acc: 0.9972\n",
      "Epoch 23/25\n",
      " - 11s - loss: 0.0240 - acc: 0.9983 - val_loss: 0.0255 - val_acc: 0.9977\n",
      "Epoch 24/25\n",
      " - 11s - loss: 0.0199 - acc: 0.9986 - val_loss: 0.0241 - val_acc: 0.9965\n",
      "Epoch 25/25\n",
      " - 11s - loss: 0.0451 - acc: 0.9889 - val_loss: 0.0199 - val_acc: 0.9974\n"
     ]
    },
    {
     "data": {
      "text/plain": [
       "<keras.callbacks.History at 0x7fc0c7790908>"
      ]
     },
     "execution_count": 18,
     "metadata": {},
     "output_type": "execute_result"
    }
   ],
   "source": [
    "model.fit(x_train, y_train, batch_size=128, epochs=25, verbose=2, validation_data=(x_val, y_val))"
   ]
  },
  {
   "cell_type": "markdown",
   "metadata": {
    "collapsed": true
   },
   "source": [
    "# General case: different input and output sequence lengths"
   ]
  },
  {
   "cell_type": "markdown",
   "metadata": {},
   "source": [
    "Here's how it works:\n",
    "- A RNN Layer (or stack thereof) acts as 'encoder': it processes the input sequence and returns its own internal state. Note that we discard the outputs of the encoder RNN, only recovering the state. This state will serve as the 'context' or 'conditioning' of the decoder in the next step.\n",
    "- Another RNN layer (or stack thereof) acts as 'decoder': it is trained to predict the next characters of the target sequence, given previous characters of the target sequence. Specifically, it is trained to turn the target sequences into the same sequences but offset by onetimestep in the future, a training process called 'teacher forcing' in this context. Importantly, the encoder uses as initial state the state vectors from the encoder, which is how the decoder obtans information about what it is supposed to generate. Effectively, the decoder learns to generate targets[t+1...] given targets[...t], conditioned on the input sequence."
   ]
  },
  {
   "attachments": {
    "seq2seq-teacher-forcing.png": {
     "image/png": "[encoded data removed]"
    }
   },
   "cell_type": "markdown",
   "metadata": {},
   "source": [
    "![seq2seq-teacher-forcing.png](attachment:seq2seq-teacher-forcing.png)"
   ]
  },
  {
   "cell_type": "markdown",
   "metadata": {},
   "source": [
    "In inference mode, i.e. when we want to decode unknown input sequences, we go through a slightly different process:\n",
    "1. Encode the input sequence into state vectors\n",
    "2. Start with a target sequence of size 1 (just the start of the sequence character)\n",
    "3. Feed the state vectors and 1-char target sequence to the decoder to produce predictions for the next character\n",
    "4. Sample the next character using these predictions (we simply use argmax)\n",
    "5. Append the sampled character to the target sequence\n",
    "6. Repeat unitil we generate the end-of-sequence character or we hit the character limit"
   ]
  },
  {
   "attachments": {
    "seq2seq-inference.png": {
     "image/png": "[encoded data removed]"
    }
   },
   "cell_type": "markdown",
   "metadata": {},
   "source": [
    "![seq2seq-inference.png](attachment:seq2seq-inference.png)"
   ]
  },
  {
   "cell_type": "markdown",
   "metadata": {
    "ExecuteTime": {
     "end_time": "2017-10-15T14:57:47.951099Z",
     "start_time": "2017-10-15T09:19:21.935Z"
    }
   },
   "source": [
    "We will implement a basic character level sequence to sequence model. We apply it to translating short english sentences into short french sentences, character by character. Not that it is fairly unusual to do character-level machine translation, as word-level models are more common in this domain."
   ]
  },
  {
   "cell_type": "markdown",
   "metadata": {},
   "source": [
    "1. Turn the sentences into 3 np arrays, encoder_input_data, decoder_input_data, decoder_target_data:\n",
    "    - encoder_input_data is a 3D array of shape (num_pairs, max_english_sentence_length, num_english_characters) containing a one-hot vectorization of the english sentences\n",
    "    - decoder_input_data is a 3D array of shape (num_paris, max_frence_sentence_length, num_french_characters_ containing a one-hot vectorization of the french sentences\n",
    "    - decoder_target_data is the same as decoder_input_data but offset by one timestep\n",
    "2. Train a basic LSTM-based Seq2Seq model to predict decoder_target_data given encoder_input_data and decoder_input_data. Our model uses teacher forcing.\n",
    "3. Decode some sentences to check that the model is working"
   ]
  },
  {
   "cell_type": "code",
   "execution_count": 1,
   "metadata": {
    "ExecuteTime": {
     "end_time": "2017-12-21T11:26:43.434989Z",
     "start_time": "2017-12-21T11:26:41.956172Z"
    }
   },
   "outputs": [
    {
     "name": "stderr",
     "output_type": "stream",
     "text": [
      "Using TensorFlow backend.\n"
     ]
    }
   ],
   "source": [
    "from keras.models import Model\n",
    "from keras.layers import Input, LSTM, Dense\n",
    "import numpy as np"
   ]
  },
  {
   "cell_type": "code",
   "execution_count": 2,
   "metadata": {
    "ExecuteTime": {
     "end_time": "2017-12-21T11:26:43.442217Z",
     "start_time": "2017-12-21T11:26:43.437290Z"
    }
   },
   "outputs": [],
   "source": [
    "batch_size = 64      # Batch size for training.\n",
    "epochs = 100         # Number of epochs to train for.\n",
    "latent_dim = 256     # Latent dimensionality of the encoding space.\n",
    "num_samples = 10000  # Number of samples to train on.\n",
    "data_path = './data/fra.txt' # Path to the data txt file on disk"
   ]
  },
  {
   "cell_type": "code",
   "execution_count": 3,
   "metadata": {
    "ExecuteTime": {
     "end_time": "2017-12-21T11:26:43.792492Z",
     "start_time": "2017-12-21T11:26:43.444929Z"
    }
   },
   "outputs": [],
   "source": [
    "# Vectorize the data.\n",
    "input_texts = []\n",
    "target_texts = []\n",
    "input_characters = set()\n",
    "target_characters = set()\n",
    "lines = open(data_path).read().split('\\n')\n",
    "for line in lines[: min(num_samples, len(lines) - 1)]:\n",
    "    input_text, target_text = line.split('\\t')\n",
    "    # We use \"tab\" as the \"start sequence\" character\n",
    "    # for the targets, and \"\\n\" as \"end sequence\" character.\n",
    "    target_text = '\\t' + target_text + '\\n'\n",
    "    input_texts.append(input_text)\n",
    "    target_texts.append(target_text)\n",
    "    for char in input_text:\n",
    "        if char not in input_characters:\n",
    "            input_characters.add(char)\n",
    "    for char in target_text:\n",
    "        if char not in target_characters:\n",
    "            target_characters.add(char)"
   ]
  },
  {
   "cell_type": "code",
   "execution_count": 4,
   "metadata": {
    "ExecuteTime": {
     "end_time": "2017-12-21T11:26:43.806261Z",
     "start_time": "2017-12-21T11:26:43.794513Z"
    }
   },
   "outputs": [],
   "source": [
    "input_characters = sorted(list(input_characters))\n",
    "target_characters = sorted(list(target_characters))\n",
    "num_encoder_tokens = len(input_characters)\n",
    "num_decoder_tokens = len(target_characters)\n",
    "max_encoder_seq_length = max([len(txt) for txt in input_texts])\n",
    "max_decoder_seq_length = max([len(txt) for txt in target_texts])"
   ]
  },
  {
   "cell_type": "code",
   "execution_count": 5,
   "metadata": {
    "ExecuteTime": {
     "end_time": "2017-12-21T11:26:43.875045Z",
     "start_time": "2017-12-21T11:26:43.808107Z"
    }
   },
   "outputs": [
    {
     "name": "stdout",
     "output_type": "stream",
     "text": [
      "Number of samples: 10000\n",
      "Number of unique input tokens: 71\n",
      "Number of unique output tokens: 93\n",
      "Max sequence length for inputs: 16\n",
      "Max sequence length for outputs: 59\n"
     ]
    }
   ],
   "source": [
    "print('Number of samples:', len(input_texts))\n",
    "print('Number of unique input tokens:', num_encoder_tokens)\n",
    "print('Number of unique output tokens:', num_decoder_tokens)\n",
    "print('Max sequence length for inputs:', max_encoder_seq_length)\n",
    "print('Max sequence length for outputs:', max_decoder_seq_length)"
   ]
  },
  {
   "cell_type": "code",
   "execution_count": 6,
   "metadata": {
    "ExecuteTime": {
     "end_time": "2017-12-21T11:26:44.107853Z",
     "start_time": "2017-12-21T11:26:44.100736Z"
    }
   },
   "outputs": [],
   "source": [
    "input_token_index  = dict([(char, i) for i, char in enumerate(input_characters)])\n",
    "target_token_index = dict([(char, i) for i, char in enumerate(target_characters)])"
   ]
  },
  {
   "cell_type": "code",
   "execution_count": 7,
   "metadata": {
    "ExecuteTime": {
     "end_time": "2017-12-21T11:26:44.713040Z",
     "start_time": "2017-12-21T11:26:44.701861Z"
    }
   },
   "outputs": [],
   "source": [
    "encoder_input_data = np.zeros(\n",
    "    (len(input_texts), max_encoder_seq_length, num_encoder_tokens),\n",
    "    dtype='float32')\n",
    "decoder_input_data = np.zeros(\n",
    "    (len(input_texts), max_decoder_seq_length, num_decoder_tokens),\n",
    "    dtype='float32')\n",
    "decoder_target_data = np.zeros(\n",
    "    (len(input_texts), max_decoder_seq_length, num_decoder_tokens),\n",
    "    dtype='float32')"
   ]
  },
  {
   "cell_type": "code",
   "execution_count": 8,
   "metadata": {
    "ExecuteTime": {
     "end_time": "2017-12-21T11:26:45.493621Z",
     "start_time": "2017-12-21T11:26:45.165175Z"
    }
   },
   "outputs": [],
   "source": [
    "for i, (input_text, target_text) in enumerate(zip(input_texts, target_texts)):\n",
    "    for t, char in enumerate(input_text):\n",
    "        encoder_input_data[i, t, input_token_index[char]] = 1.\n",
    "    for t, char in enumerate(target_text):\n",
    "        # decoder_target_data is ahead of decoder_input_data by one timestep\n",
    "        decoder_input_data[i, t, target_token_index[char]] = 1.\n",
    "        if t > 0:\n",
    "            # decoder_target_data will be ahead by one timestep\n",
    "            # and will not include the start character.\n",
    "            decoder_target_data[i, t - 1, target_token_index[char]] = 1."
   ]
  },
  {
   "cell_type": "markdown",
   "metadata": {},
   "source": [
    "Because the training process and inference process (decoding sentences) are quite different, we use different models for both, albeit they all leverage the same inner layers."
   ]
  },
  {
   "cell_type": "markdown",
   "metadata": {},
   "source": [
    "This is our training model. It leverages three key features of Keras RNNs:\n",
    "- The return_state contructor argument, configuring a RNN layer to return a list where the first entry is the outputs and the next entries are the internal RNN states. This is used to recover the states of the encoder.\n",
    "- The inital_state call argument, specifying the initial state(s) of a RNN. This is used to pass the encoder states to the decoder as initial states.\n",
    "- The return_sequences constructor argument, configuring a RNN to return its full sequence of outputs (instead of just the last output, which the defaults behavior). This is used in the decoder."
   ]
  },
  {
   "cell_type": "code",
   "execution_count": 9,
   "metadata": {
    "ExecuteTime": {
     "end_time": "2017-12-21T11:26:46.949523Z",
     "start_time": "2017-12-21T11:26:46.574304Z"
    }
   },
   "outputs": [],
   "source": [
    "# Define an input sequence and process it.\n",
    "encoder_inputs = Input(shape=(None, num_encoder_tokens))\n",
    "encoder = LSTM(latent_dim, return_state=True)\n",
    "encoder_outputs, state_h, state_c = encoder(encoder_inputs)\n",
    "# We discard `encoder_outputs` and only keep the states.\n",
    "encoder_states = [state_h, state_c]"
   ]
  },
  {
   "cell_type": "code",
   "execution_count": 10,
   "metadata": {
    "ExecuteTime": {
     "end_time": "2017-12-21T11:26:47.549072Z",
     "start_time": "2017-12-21T11:26:47.152969Z"
    }
   },
   "outputs": [],
   "source": [
    "# Set up the decoder, using `encoder_states` as initial state.\n",
    "decoder_inputs = Input(shape=(None, num_decoder_tokens))\n",
    "# We set up our decoder to return full output sequences,\n",
    "# and to return internal states as well. We don't use the\n",
    "# return states in the training model, but we will use them in inference.\n",
    "decoder_lstm = LSTM(latent_dim, return_sequences=True, return_state=True)\n",
    "decoder_outputs, _, _ = decoder_lstm(decoder_inputs, initial_state=encoder_states)\n",
    "decoder_dense = Dense(num_decoder_tokens, activation='softmax')\n",
    "decoder_outputs = decoder_dense(decoder_outputs)"
   ]
  },
  {
   "cell_type": "code",
   "execution_count": 11,
   "metadata": {
    "ExecuteTime": {
     "end_time": "2017-12-21T11:26:47.786253Z",
     "start_time": "2017-12-21T11:26:47.780328Z"
    }
   },
   "outputs": [],
   "source": [
    "# Define the model that will turn\n",
    "# `encoder_input_data` & `decoder_input_data` into `decoder_target_data`\n",
    "model = Model([encoder_inputs, decoder_inputs], decoder_outputs)"
   ]
  },
  {
   "cell_type": "code",
   "execution_count": 12,
   "metadata": {
    "ExecuteTime": {
     "end_time": "2017-12-21T11:26:48.571276Z",
     "start_time": "2017-12-21T11:26:48.560702Z"
    }
   },
   "outputs": [
    {
     "name": "stdout",
     "output_type": "stream",
     "text": [
      "__________________________________________________________________________________________________\n",
      "Layer (type)                    Output Shape         Param #     Connected to                     \n",
      "==================================================================================================\n",
      "input_1 (InputLayer)            (None, None, 71)     0                                            \n",
      "__________________________________________________________________________________________________\n",
      "input_2 (InputLayer)            (None, None, 93)     0                                            \n",
      "__________________________________________________________________________________________________\n",
      "lstm_1 (LSTM)                   [(None, 256), (None, 335872      input_1[0][0]                    \n",
      "__________________________________________________________________________________________________\n",
      "lstm_2 (LSTM)                   [(None, None, 256),  358400      input_2[0][0]                    \n",
      "                                                                 lstm_1[0][1]                     \n",
      "                                                                 lstm_1[0][2]                     \n",
      "__________________________________________________________________________________________________\n",
      "dense_1 (Dense)                 (None, None, 93)     23901       lstm_2[0][0]                     \n",
      "==================================================================================================\n",
      "Total params: 718,173\n",
      "Trainable params: 718,173\n",
      "Non-trainable params: 0\n",
      "__________________________________________________________________________________________________\n"
     ]
    }
   ],
   "source": [
    "model.summary()"
   ]
  },
  {
   "cell_type": "code",
   "execution_count": 13,
   "metadata": {
    "ExecuteTime": {
     "end_time": "2017-12-21T11:26:49.590298Z",
     "start_time": "2017-12-21T11:26:49.380312Z"
    }
   },
   "outputs": [
    {
     "data": {
      "text/html": [
       "<a href='keras-seq-to-seq-2.png' target='_blank'>keras-seq-to-seq-2.png</a><br>"
      ],
      "text/plain": [
       "/home/sainath/code/nlp-tutorials-notes/keras-seq-to-seq-2.png"
      ]
     },
     "execution_count": 13,
     "metadata": {},
     "output_type": "execute_result"
    }
   ],
   "source": [
    "from keras.utils import plot_model\n",
    "plot_model(model, to_file='keras-seq-to-seq-2.png', show_shapes=True, show_layer_names=True)  \n",
    "from IPython.display import FileLink\n",
    "FileLink('keras-seq-to-seq-2.png')"
   ]
  },
  {
   "cell_type": "code",
   "execution_count": 14,
   "metadata": {
    "ExecuteTime": {
     "end_time": "2017-12-21T11:56:01.761014Z",
     "start_time": "2017-12-21T11:26:50.251861Z"
    }
   },
   "outputs": [
    {
     "name": "stdout",
     "output_type": "stream",
     "text": [
      "Train on 8000 samples, validate on 2000 samples\n",
      "Epoch 1/100\n",
      " - 19s - loss: 0.9302 - val_loss: 0.9850\n",
      "Epoch 2/100\n",
      " - 18s - loss: 0.7367 - val_loss: 0.7869\n",
      "Epoch 3/100\n",
      " - 17s - loss: 0.6253 - val_loss: 0.7140\n",
      "Epoch 4/100\n",
      " - 17s - loss: 0.5694 - val_loss: 0.6652\n",
      "Epoch 5/100\n",
      " - 18s - loss: 0.5290 - val_loss: 0.6307\n",
      "Epoch 6/100\n",
      " - 17s - loss: 0.4964 - val_loss: 0.6036\n",
      "Epoch 7/100\n",
      " - 17s - loss: 0.4696 - val_loss: 0.5835\n",
      "Epoch 8/100\n",
      " - 17s - loss: 0.4465 - val_loss: 0.5658\n",
      "Epoch 9/100\n",
      " - 17s - loss: 0.4267 - val_loss: 0.5488\n",
      "Epoch 10/100\n",
      " - 17s - loss: 0.4095 - val_loss: 0.5401\n",
      "Epoch 11/100\n",
      " - 18s - loss: 0.3937 - val_loss: 0.5312\n",
      "Epoch 12/100\n",
      " - 17s - loss: 0.3793 - val_loss: 0.5204\n",
      "Epoch 13/100\n",
      " - 17s - loss: 0.3653 - val_loss: 0.5117\n",
      "Epoch 14/100\n",
      " - 17s - loss: 0.3524 - val_loss: 0.5078\n",
      "Epoch 15/100\n",
      " - 17s - loss: 0.3400 - val_loss: 0.5003\n",
      "Epoch 16/100\n",
      " - 17s - loss: 0.3284 - val_loss: 0.4960\n",
      "Epoch 17/100\n",
      " - 17s - loss: 0.3175 - val_loss: 0.4954\n",
      "Epoch 18/100\n",
      " - 17s - loss: 0.3074 - val_loss: 0.4893\n",
      "Epoch 19/100\n",
      " - 18s - loss: 0.2977 - val_loss: 0.4922\n",
      "Epoch 20/100\n",
      " - 17s - loss: 0.2885 - val_loss: 0.4860\n",
      "Epoch 21/100\n",
      " - 17s - loss: 0.2793 - val_loss: 0.4875\n",
      "Epoch 22/100\n",
      " - 17s - loss: 0.2711 - val_loss: 0.4897\n",
      "Epoch 23/100\n",
      " - 17s - loss: 0.2629 - val_loss: 0.4813\n",
      "Epoch 24/100\n",
      " - 17s - loss: 0.2548 - val_loss: 0.4853\n",
      "Epoch 25/100\n",
      " - 17s - loss: 0.2474 - val_loss: 0.4868\n",
      "Epoch 26/100\n",
      " - 17s - loss: 0.2402 - val_loss: 0.4964\n",
      "Epoch 27/100\n",
      " - 18s - loss: 0.2333 - val_loss: 0.4910\n",
      "Epoch 28/100\n",
      " - 18s - loss: 0.2265 - val_loss: 0.4962\n",
      "Epoch 29/100\n",
      " - 17s - loss: 0.2202 - val_loss: 0.4944\n",
      "Epoch 30/100\n",
      " - 18s - loss: 0.2141 - val_loss: 0.4981\n",
      "Epoch 31/100\n",
      " - 17s - loss: 0.2082 - val_loss: 0.4986\n",
      "Epoch 32/100\n",
      " - 18s - loss: 0.2025 - val_loss: 0.5025\n",
      "Epoch 33/100\n",
      " - 17s - loss: 0.1967 - val_loss: 0.5089\n",
      "Epoch 34/100\n",
      " - 17s - loss: 0.1917 - val_loss: 0.5159\n",
      "Epoch 35/100\n",
      " - 17s - loss: 0.1864 - val_loss: 0.5155\n",
      "Epoch 36/100\n",
      " - 17s - loss: 0.1819 - val_loss: 0.5169\n",
      "Epoch 37/100\n",
      " - 17s - loss: 0.1771 - val_loss: 0.5213\n",
      "Epoch 38/100\n",
      " - 17s - loss: 0.1729 - val_loss: 0.5232\n",
      "Epoch 39/100\n",
      " - 17s - loss: 0.1687 - val_loss: 0.5291\n",
      "Epoch 40/100\n",
      " - 18s - loss: 0.1647 - val_loss: 0.5357\n",
      "Epoch 41/100\n",
      " - 18s - loss: 0.1601 - val_loss: 0.5390\n",
      "Epoch 42/100\n",
      " - 18s - loss: 0.1566 - val_loss: 0.5431\n",
      "Epoch 43/100\n",
      " - 18s - loss: 0.1528 - val_loss: 0.5478\n",
      "Epoch 44/100\n",
      " - 17s - loss: 0.1493 - val_loss: 0.5511\n",
      "Epoch 45/100\n",
      " - 18s - loss: 0.1461 - val_loss: 0.5555\n",
      "Epoch 46/100\n",
      " - 18s - loss: 0.1427 - val_loss: 0.5643\n",
      "Epoch 47/100\n",
      " - 17s - loss: 0.1396 - val_loss: 0.5700\n",
      "Epoch 48/100\n",
      " - 17s - loss: 0.1368 - val_loss: 0.5756\n",
      "Epoch 49/100\n",
      " - 17s - loss: 0.1333 - val_loss: 0.5776\n",
      "Epoch 50/100\n",
      " - 18s - loss: 0.1306 - val_loss: 0.5800\n",
      "Epoch 51/100\n",
      " - 18s - loss: 0.1282 - val_loss: 0.5919\n",
      "Epoch 52/100\n",
      " - 18s - loss: 0.1254 - val_loss: 0.5814\n",
      "Epoch 53/100\n",
      " - 17s - loss: 0.1226 - val_loss: 0.5921\n",
      "Epoch 54/100\n",
      " - 18s - loss: 0.1203 - val_loss: 0.6054\n",
      "Epoch 55/100\n",
      " - 18s - loss: 0.1180 - val_loss: 0.6074\n",
      "Epoch 56/100\n",
      " - 18s - loss: 0.1156 - val_loss: 0.6083\n",
      "Epoch 57/100\n",
      " - 17s - loss: 0.1133 - val_loss: 0.6101\n",
      "Epoch 58/100\n",
      " - 18s - loss: 0.1112 - val_loss: 0.6189\n",
      "Epoch 59/100\n",
      " - 18s - loss: 0.1093 - val_loss: 0.6232\n",
      "Epoch 60/100\n",
      " - 17s - loss: 0.1073 - val_loss: 0.6311\n",
      "Epoch 61/100\n",
      " - 17s - loss: 0.1051 - val_loss: 0.6292\n",
      "Epoch 62/100\n",
      " - 18s - loss: 0.1033 - val_loss: 0.6336\n",
      "Epoch 63/100\n",
      " - 17s - loss: 0.1017 - val_loss: 0.6392\n",
      "Epoch 64/100\n",
      " - 18s - loss: 0.0996 - val_loss: 0.6408\n",
      "Epoch 65/100\n",
      " - 18s - loss: 0.0981 - val_loss: 0.6433\n",
      "Epoch 66/100\n",
      " - 18s - loss: 0.0964 - val_loss: 0.6533\n",
      "Epoch 67/100\n",
      " - 17s - loss: 0.0944 - val_loss: 0.6562\n",
      "Epoch 68/100\n",
      " - 18s - loss: 0.0931 - val_loss: 0.6583\n",
      "Epoch 69/100\n",
      " - 17s - loss: 0.0915 - val_loss: 0.6611\n",
      "Epoch 70/100\n",
      " - 18s - loss: 0.0899 - val_loss: 0.6641\n",
      "Epoch 71/100\n",
      " - 17s - loss: 0.0885 - val_loss: 0.6668\n",
      "Epoch 72/100\n",
      " - 17s - loss: 0.0870 - val_loss: 0.6804\n",
      "Epoch 73/100\n",
      " - 17s - loss: 0.0855 - val_loss: 0.6780\n",
      "Epoch 74/100\n",
      " - 17s - loss: 0.0839 - val_loss: 0.6803\n",
      "Epoch 75/100\n",
      " - 17s - loss: 0.0829 - val_loss: 0.6837\n",
      "Epoch 76/100\n",
      " - 17s - loss: 0.0813 - val_loss: 0.6888\n",
      "Epoch 77/100\n",
      " - 17s - loss: 0.0801 - val_loss: 0.6937\n",
      "Epoch 78/100\n",
      " - 17s - loss: 0.0787 - val_loss: 0.7036\n",
      "Epoch 79/100\n",
      " - 17s - loss: 0.0776 - val_loss: 0.7002\n",
      "Epoch 80/100\n",
      " - 17s - loss: 0.0761 - val_loss: 0.7101\n",
      "Epoch 81/100\n",
      " - 17s - loss: 0.0755 - val_loss: 0.7106\n",
      "Epoch 82/100\n",
      " - 17s - loss: 0.0740 - val_loss: 0.7195\n",
      "Epoch 83/100\n",
      " - 17s - loss: 0.0726 - val_loss: 0.7184\n",
      "Epoch 84/100\n",
      " - 18s - loss: 0.0720 - val_loss: 0.7185\n",
      "Epoch 85/100\n",
      " - 17s - loss: 0.0709 - val_loss: 0.7264\n",
      "Epoch 86/100\n",
      " - 17s - loss: 0.0700 - val_loss: 0.7244\n",
      "Epoch 87/100\n",
      " - 18s - loss: 0.0687 - val_loss: 0.7305\n",
      "Epoch 88/100\n",
      " - 17s - loss: 0.0675 - val_loss: 0.7375\n",
      "Epoch 89/100\n",
      " - 17s - loss: 0.0668 - val_loss: 0.7345\n",
      "Epoch 90/100\n",
      " - 18s - loss: 0.0659 - val_loss: 0.7436\n",
      "Epoch 91/100\n",
      " - 17s - loss: 0.0650 - val_loss: 0.7557\n",
      "Epoch 92/100\n",
      " - 18s - loss: 0.0645 - val_loss: 0.7438\n",
      "Epoch 93/100\n",
      " - 17s - loss: 0.0632 - val_loss: 0.7546\n",
      "Epoch 94/100\n",
      " - 18s - loss: 0.0628 - val_loss: 0.7539\n",
      "Epoch 95/100\n",
      " - 18s - loss: 0.0617 - val_loss: 0.7576\n",
      "Epoch 96/100\n",
      " - 18s - loss: 0.0609 - val_loss: 0.7640\n",
      "Epoch 97/100\n",
      " - 17s - loss: 0.0599 - val_loss: 0.7656\n",
      "Epoch 98/100\n",
      " - 17s - loss: 0.0592 - val_loss: 0.7714\n",
      "Epoch 99/100\n",
      " - 17s - loss: 0.0586 - val_loss: 0.7719\n",
      "Epoch 100/100\n",
      " - 17s - loss: 0.0577 - val_loss: 0.7681\n"
     ]
    },
    {
     "data": {
      "text/plain": [
       "<keras.callbacks.History at 0x7ff6e015cc50>"
      ]
     },
     "execution_count": 14,
     "metadata": {},
     "output_type": "execute_result"
    }
   ],
   "source": [
    "# Run training\n",
    "model.compile(optimizer='rmsprop', loss='categorical_crossentropy')\n",
    "model.fit([encoder_input_data, decoder_input_data], decoder_target_data,\n",
    "          batch_size=batch_size,\n",
    "          epochs=epochs,\n",
    "          validation_split=0.2,\n",
    "          verbose=2)"
   ]
  },
  {
   "cell_type": "markdown",
   "metadata": {},
   "source": [
    "Next: inference mode (sampling).\n",
    "Here's the drill:\n",
    "1. encode input and retrieve initial decoder state\n",
    "2. run one step of decoder with this initial state and a \"start of sequence\" token as target. Output will be the next target token\n",
    "3. Repeat with the current target token and current states"
   ]
  },
  {
   "cell_type": "code",
   "execution_count": 15,
   "metadata": {
    "ExecuteTime": {
     "end_time": "2017-12-21T12:09:59.600306Z",
     "start_time": "2017-12-21T12:09:59.454850Z"
    }
   },
   "outputs": [],
   "source": [
    "# Define sampling models\n",
    "encoder_model = Model(encoder_inputs, encoder_states)\n",
    "\n",
    "decoder_state_input_h = Input(shape=(latent_dim,))\n",
    "decoder_state_input_c = Input(shape=(latent_dim,))\n",
    "decoder_states_inputs = [decoder_state_input_h, decoder_state_input_c]\n",
    "decoder_outputs, state_h, state_c = decoder_lstm(decoder_inputs, initial_state=decoder_states_inputs)\n",
    "decoder_states = [state_h, state_c]\n",
    "decoder_outputs = decoder_dense(decoder_outputs)\n",
    "decoder_model = Model(\n",
    "    [decoder_inputs] + decoder_states_inputs,\n",
    "    [decoder_outputs] + decoder_states)"
   ]
  },
  {
   "cell_type": "code",
   "execution_count": 17,
   "metadata": {
    "ExecuteTime": {
     "end_time": "2017-12-21T12:10:27.726318Z",
     "start_time": "2017-12-21T12:10:27.721020Z"
    }
   },
   "outputs": [],
   "source": [
    "# Reverse-lookup token index to decode sequences back to\n",
    "# something readable.\n",
    "reverse_input_char_index = dict((i, char) for char, i in input_token_index.items())\n",
    "reverse_target_char_index = dict((i, char) for char, i in target_token_index.items())"
   ]
  },
  {
   "cell_type": "code",
   "execution_count": 18,
   "metadata": {
    "ExecuteTime": {
     "end_time": "2017-12-21T12:10:39.059873Z",
     "start_time": "2017-12-21T12:10:38.999776Z"
    }
   },
   "outputs": [],
   "source": [
    "def decode_sequence(input_seq):\n",
    "    # Encode the input as state vectors.\n",
    "    states_value = encoder_model.predict(input_seq)\n",
    "\n",
    "    # Generate empty target sequence of length 1.\n",
    "    target_seq = np.zeros((1, 1, num_decoder_tokens))\n",
    "    # Populate the first character of target sequence with the start character.\n",
    "    target_seq[0, 0, target_token_index['\\t']] = 1.\n",
    "\n",
    "    # Sampling loop for a batch of sequences\n",
    "    # (to simplify, here we assume a batch of size 1).\n",
    "    stop_condition = False\n",
    "    decoded_sentence = ''\n",
    "    while not stop_condition:\n",
    "        output_tokens, h, c = decoder_model.predict(\n",
    "            [target_seq] + states_value)\n",
    "\n",
    "        # Sample a token\n",
    "        sampled_token_index = np.argmax(output_tokens[0, -1, :])\n",
    "        sampled_char = reverse_target_char_index[sampled_token_index]\n",
    "        decoded_sentence += sampled_char\n",
    "\n",
    "        # Exit condition: either hit max length\n",
    "        # or find stop character.\n",
    "        if (sampled_char == '\\n' or\n",
    "           len(decoded_sentence) > max_decoder_seq_length):\n",
    "            stop_condition = True\n",
    "\n",
    "        # Update the target sequence (of length 1).\n",
    "        target_seq = np.zeros((1, 1, num_decoder_tokens))\n",
    "        target_seq[0, 0, sampled_token_index] = 1.\n",
    "\n",
    "        # Update states\n",
    "        states_value = [h, c]\n",
    "\n",
    "    return decoded_sentence"
   ]
  },
  {
   "cell_type": "code",
   "execution_count": 19,
   "metadata": {
    "ExecuteTime": {
     "end_time": "2017-12-21T12:10:52.172265Z",
     "start_time": "2017-12-21T12:10:47.302743Z"
    }
   },
   "outputs": [
    {
     "name": "stdout",
     "output_type": "stream",
     "text": [
      "-\n",
      "Input sentence: Go.\n",
      "Decoded sentence: Va !\n",
      "\n",
      "-\n",
      "Input sentence: Run!\n",
      "Decoded sentence: Cours !\n",
      "\n",
      "-\n",
      "Input sentence: Run!\n",
      "Decoded sentence: Cours !\n",
      "\n",
      "-\n",
      "Input sentence: Wow!\n",
      "Decoded sentence: Ça alors !\n",
      "\n",
      "-\n",
      "Input sentence: Fire!\n",
      "Decoded sentence: Au feu !\n",
      "\n",
      "-\n",
      "Input sentence: Help!\n",
      "Decoded sentence: À l'aide !\n",
      "\n",
      "-\n",
      "Input sentence: Jump.\n",
      "Decoded sentence: Saute.\n",
      "\n",
      "-\n",
      "Input sentence: Stop!\n",
      "Decoded sentence: Stop !\n",
      "\n",
      "-\n",
      "Input sentence: Stop!\n",
      "Decoded sentence: Stop !\n",
      "\n",
      "-\n",
      "Input sentence: Stop!\n",
      "Decoded sentence: Stop !\n",
      "\n",
      "-\n",
      "Input sentence: Wait!\n",
      "Decoded sentence: Attends !\n",
      "\n",
      "-\n",
      "Input sentence: Wait!\n",
      "Decoded sentence: Attends !\n",
      "\n",
      "-\n",
      "Input sentence: I see.\n",
      "Decoded sentence: Je cloursai.\n",
      "\n",
      "-\n",
      "Input sentence: I try.\n",
      "Decoded sentence: J'essaye.\n",
      "\n",
      "-\n",
      "Input sentence: I won!\n",
      "Decoded sentence: J'ai gagné !\n",
      "\n",
      "-\n",
      "Input sentence: I won!\n",
      "Decoded sentence: J'ai gagné !\n",
      "\n",
      "-\n",
      "Input sentence: Oh no!\n",
      "Decoded sentence: Oh non !\n",
      "\n",
      "-\n",
      "Input sentence: Attack!\n",
      "Decoded sentence: Attaque !\n",
      "\n",
      "-\n",
      "Input sentence: Attack!\n",
      "Decoded sentence: Attaque !\n",
      "\n",
      "-\n",
      "Input sentence: Cheers!\n",
      "Decoded sentence: Tchin-tchin !\n",
      "\n",
      "-\n",
      "Input sentence: Cheers!\n",
      "Decoded sentence: Tchin-tchin !\n",
      "\n",
      "-\n",
      "Input sentence: Cheers!\n",
      "Decoded sentence: Tchin-tchin !\n",
      "\n",
      "-\n",
      "Input sentence: Cheers!\n",
      "Decoded sentence: Tchin-tchin !\n",
      "\n",
      "-\n",
      "Input sentence: Get up.\n",
      "Decoded sentence: Lève-toi.\n",
      "\n",
      "-\n",
      "Input sentence: Got it!\n",
      "Decoded sentence: Bot !\n",
      "\n",
      "-\n",
      "Input sentence: Got it!\n",
      "Decoded sentence: Bot !\n",
      "\n",
      "-\n",
      "Input sentence: Got it?\n",
      "Decoded sentence: Compris ?\n",
      "\n",
      "-\n",
      "Input sentence: Got it?\n",
      "Decoded sentence: Compris ?\n",
      "\n",
      "-\n",
      "Input sentence: Got it?\n",
      "Decoded sentence: Compris ?\n",
      "\n",
      "-\n",
      "Input sentence: Hop in.\n",
      "Decoded sentence: Monte.\n",
      "\n",
      "-\n",
      "Input sentence: Hop in.\n",
      "Decoded sentence: Monte.\n",
      "\n",
      "-\n",
      "Input sentence: Hug me.\n",
      "Decoded sentence: Serre-moi dans tes brass !\n",
      "\n",
      "-\n",
      "Input sentence: Hug me.\n",
      "Decoded sentence: Serre-moi dans tes brass !\n",
      "\n",
      "-\n",
      "Input sentence: I fell.\n",
      "Decoded sentence: Je suis tombé.\n",
      "\n",
      "-\n",
      "Input sentence: I fell.\n",
      "Decoded sentence: Je suis tombé.\n",
      "\n",
      "-\n",
      "Input sentence: I know.\n",
      "Decoded sentence: Je sais.\n",
      "\n",
      "-\n",
      "Input sentence: I left.\n",
      "Decoded sentence: Je suis partie.\n",
      "\n",
      "-\n",
      "Input sentence: I left.\n",
      "Decoded sentence: Je suis partie.\n",
      "\n",
      "-\n",
      "Input sentence: I lost.\n",
      "Decoded sentence: J'ai perdu moi.\n",
      "\n",
      "-\n",
      "Input sentence: I'm 19.\n",
      "Decoded sentence: Je suis chez moi.\n",
      "\n",
      "-\n",
      "Input sentence: I'm OK.\n",
      "Decoded sentence: Je vais bien.\n",
      "\n",
      "-\n",
      "Input sentence: I'm OK.\n",
      "Decoded sentence: Je vais bien.\n",
      "\n",
      "-\n",
      "Input sentence: Listen.\n",
      "Decoded sentence: Écoutez !\n",
      "\n",
      "-\n",
      "Input sentence: No way!\n",
      "Decoded sentence: C'est hors de question !\n",
      "\n",
      "-\n",
      "Input sentence: No way!\n",
      "Decoded sentence: C'est hors de question !\n",
      "\n",
      "-\n",
      "Input sentence: No way!\n",
      "Decoded sentence: C'est hors de question !\n",
      "\n",
      "-\n",
      "Input sentence: No way!\n",
      "Decoded sentence: C'est hors de question !\n",
      "\n",
      "-\n",
      "Input sentence: No way!\n",
      "Decoded sentence: C'est hors de question !\n",
      "\n",
      "-\n",
      "Input sentence: No way!\n",
      "Decoded sentence: C'est hors de question !\n",
      "\n",
      "-\n",
      "Input sentence: No way!\n",
      "Decoded sentence: C'est hors de question !\n",
      "\n",
      "-\n",
      "Input sentence: No way!\n",
      "Decoded sentence: C'est hors de question !\n",
      "\n",
      "-\n",
      "Input sentence: Really?\n",
      "Decoded sentence: Vraiment ?\n",
      "\n",
      "-\n",
      "Input sentence: Really?\n",
      "Decoded sentence: Vraiment ?\n",
      "\n",
      "-\n",
      "Input sentence: Really?\n",
      "Decoded sentence: Vraiment ?\n",
      "\n",
      "-\n",
      "Input sentence: Thanks.\n",
      "Decoded sentence: Merci !\n",
      "\n",
      "-\n",
      "Input sentence: We try.\n",
      "Decoded sentence: On essaye.\n",
      "\n",
      "-\n",
      "Input sentence: We won.\n",
      "Decoded sentence: Nous l'avons emporté.\n",
      "\n",
      "-\n",
      "Input sentence: We won.\n",
      "Decoded sentence: Nous l'avons emporté.\n",
      "\n",
      "-\n",
      "Input sentence: We won.\n",
      "Decoded sentence: Nous l'avons emporté.\n",
      "\n",
      "-\n",
      "Input sentence: We won.\n",
      "Decoded sentence: Nous l'avons emporté.\n",
      "\n",
      "-\n",
      "Input sentence: Ask Tom.\n",
      "Decoded sentence: Demande à Tom.\n",
      "\n",
      "-\n",
      "Input sentence: Awesome!\n",
      "Decoded sentence: Faitast-iton !\n",
      "\n",
      "-\n",
      "Input sentence: Be calm.\n",
      "Decoded sentence: Soyez calmes !\n",
      "\n",
      "-\n",
      "Input sentence: Be calm.\n",
      "Decoded sentence: Soyez calmes !\n",
      "\n",
      "-\n",
      "Input sentence: Be calm.\n",
      "Decoded sentence: Soyez calmes !\n",
      "\n",
      "-\n",
      "Input sentence: Be cool.\n",
      "Decoded sentence: Sois gentil !\n",
      "\n",
      "-\n",
      "Input sentence: Be fair.\n",
      "Decoded sentence: Soyez justes !\n",
      "\n",
      "-\n",
      "Input sentence: Be fair.\n",
      "Decoded sentence: Soyez justes !\n",
      "\n",
      "-\n",
      "Input sentence: Be fair.\n",
      "Decoded sentence: Soyez justes !\n",
      "\n",
      "-\n",
      "Input sentence: Be fair.\n",
      "Decoded sentence: Soyez justes !\n",
      "\n",
      "-\n",
      "Input sentence: Be fair.\n",
      "Decoded sentence: Soyez justes !\n",
      "\n",
      "-\n",
      "Input sentence: Be fair.\n",
      "Decoded sentence: Soyez justes !\n",
      "\n",
      "-\n",
      "Input sentence: Be kind.\n",
      "Decoded sentence: Sois gentil.\n",
      "\n",
      "-\n",
      "Input sentence: Be nice.\n",
      "Decoded sentence: Soyez gentilles !\n",
      "\n",
      "-\n",
      "Input sentence: Be nice.\n",
      "Decoded sentence: Soyez gentilles !\n",
      "\n",
      "-\n",
      "Input sentence: Be nice.\n",
      "Decoded sentence: Soyez gentilles !\n",
      "\n",
      "-\n",
      "Input sentence: Be nice.\n",
      "Decoded sentence: Soyez gentilles !\n",
      "\n",
      "-\n",
      "Input sentence: Be nice.\n",
      "Decoded sentence: Soyez gentilles !\n",
      "\n",
      "-\n",
      "Input sentence: Be nice.\n",
      "Decoded sentence: Soyez gentilles !\n",
      "\n",
      "-\n",
      "Input sentence: Beat it.\n",
      "Decoded sentence: Dégage !\n",
      "\n",
      "-\n",
      "Input sentence: Call me.\n",
      "Decoded sentence: Appelle-moi !\n",
      "\n",
      "-\n",
      "Input sentence: Call me.\n",
      "Decoded sentence: Appelle-moi !\n",
      "\n",
      "-\n",
      "Input sentence: Call us.\n",
      "Decoded sentence: Appelle-nous !\n",
      "\n",
      "-\n",
      "Input sentence: Call us.\n",
      "Decoded sentence: Appelle-nous !\n",
      "\n",
      "-\n",
      "Input sentence: Come in.\n",
      "Decoded sentence: Entrez !\n",
      "\n",
      "-\n",
      "Input sentence: Come in.\n",
      "Decoded sentence: Entrez !\n",
      "\n",
      "-\n",
      "Input sentence: Come in.\n",
      "Decoded sentence: Entrez !\n",
      "\n",
      "-\n",
      "Input sentence: Come in.\n",
      "Decoded sentence: Entrez !\n",
      "\n",
      "-\n",
      "Input sentence: Come on!\n",
      "Decoded sentence: Allez !\n",
      "\n",
      "-\n",
      "Input sentence: Come on.\n",
      "Decoded sentence: Viens !\n",
      "\n",
      "-\n",
      "Input sentence: Come on.\n",
      "Decoded sentence: Viens !\n",
      "\n",
      "-\n",
      "Input sentence: Come on.\n",
      "Decoded sentence: Viens !\n",
      "\n",
      "-\n",
      "Input sentence: Drop it!\n",
      "Decoded sentence: Laissez-le tomber !\n",
      "\n",
      "-\n",
      "Input sentence: Drop it!\n",
      "Decoded sentence: Laissez-le tomber !\n",
      "\n",
      "-\n",
      "Input sentence: Drop it!\n",
      "Decoded sentence: Laissez-le tomber !\n",
      "\n",
      "-\n",
      "Input sentence: Drop it!\n",
      "Decoded sentence: Laissez-le tomber !\n",
      "\n",
      "-\n",
      "Input sentence: Get out!\n",
      "Decoded sentence: Sors !\n",
      "\n",
      "-\n",
      "Input sentence: Get out!\n",
      "Decoded sentence: Sors !\n",
      "\n",
      "-\n",
      "Input sentence: Get out!\n",
      "Decoded sentence: Sors !\n",
      "\n",
      "-\n",
      "Input sentence: Get out.\n",
      "Decoded sentence: Sors.\n",
      "\n"
     ]
    }
   ],
   "source": [
    "for seq_index in range(100):\n",
    "    # Take one sequence (part of the training test)\n",
    "    # for trying out decoding.\n",
    "    input_seq = encoder_input_data[seq_index: seq_index + 1]\n",
    "    decoded_sentence = decode_sequence(input_seq)\n",
    "    print('-')\n",
    "    print('Input sentence:', input_texts[seq_index])\n",
    "    print('Decoded sentence:', decoded_sentence)\n"
   ]
  },
  {
   "cell_type": "code",
   "execution_count": null,
   "metadata": {},
   "outputs": [],
   "source": []
  }
 ],
 "metadata": {
  "anaconda-cloud": {},
  "kernelspec": {
   "display_name": "Python [default]",
   "language": "python",
   "name": "python3"
  },
  "language_info": {
   "codemirror_mode": {
    "name": "ipython",
    "version": 3
   },
   "file_extension": ".py",
   "mimetype": "text/x-python",
   "name": "python",
   "nbconvert_exporter": "python",
   "pygments_lexer": "ipython3",
   "version": "3.5.4"
  },
  "toc": {
   "nav_menu": {},
   "number_sections": true,
   "sideBar": true,
   "skip_h1_title": false,
   "toc_cell": false,
   "toc_position": {},
   "toc_section_display": "block",
   "toc_window_display": false
  },
  "varInspector": {
   "cols": {
    "lenName": 16,
    "lenType": 16,
    "lenVar": 40
   },
   "kernels_config": {
    "python": {
     "delete_cmd_postfix": "",
     "delete_cmd_prefix": "del ",
     "library": "var_list.py",
     "varRefreshCmd": "print(var_dic_list())"
    },
    "r": {
     "delete_cmd_postfix": ") ",
     "delete_cmd_prefix": "rm(",
     "library": "var_list.r",
     "varRefreshCmd": "cat(var_dic_list()) "
    }
   },
   "types_to_exclude": [
    "module",
    "function",
    "builtin_function_or_method",
    "instance",
    "_Feature"
   ],
   "window_display": false
  }
 },
 "nbformat": 4,
 "nbformat_minor": 2
}
