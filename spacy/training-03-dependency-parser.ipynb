{
 "cells": [
  {
   "cell_type": "markdown",
   "metadata": {},
   "source": [
    "https://github.com/explosion/spaCy/blob/master/LICENSE"
   ]
  },
  {
   "cell_type": "markdown",
   "metadata": {},
   "source": [
    "Example of training spaCy dependency parser, starting off with an existing\n",
    "model or a blank model. For more details, see the documentation:\n",
    "* Training: https://spacy.io/usage/training#section-tagger-parser\n",
    "* Dependency Parse: https://spacy.io/usage/linguistic-features#dependency-parse"
   ]
  },
  {
   "cell_type": "code",
   "execution_count": 1,
   "metadata": {
    "ExecuteTime": {
     "end_time": "2018-04-30T11:39:26.757110Z",
     "start_time": "2018-04-30T11:39:26.511098Z"
    }
   },
   "outputs": [],
   "source": [
    "import random\n",
    "from pathlib import Path\n",
    "import spacy"
   ]
  },
  {
   "cell_type": "code",
   "execution_count": 2,
   "metadata": {
    "ExecuteTime": {
     "end_time": "2018-04-30T11:39:27.768684Z",
     "start_time": "2018-04-30T11:39:27.764660Z"
    }
   },
   "outputs": [],
   "source": [
    "# training data\n",
    "TRAIN_DATA = [\n",
    "    (\"They trade mortgage-backed securities.\", {\n",
    "        'heads': [1, 1, 4, 4, 5, 1, 1],\n",
    "        'deps': ['nsubj', 'ROOT', 'compound', 'punct', 'nmod', 'dobj', 'punct']\n",
    "    }),\n",
    "    (\"I like London and Berlin.\", {\n",
    "        'heads': [1, 1, 1, 2, 2, 1],\n",
    "        'deps': ['nsubj', 'ROOT', 'dobj', 'cc', 'conj', 'punct']\n",
    "    })\n",
    "]"
   ]
  },
  {
   "cell_type": "code",
   "execution_count": 3,
   "metadata": {
    "ExecuteTime": {
     "end_time": "2018-04-30T11:39:28.417795Z",
     "start_time": "2018-04-30T11:39:28.288158Z"
    }
   },
   "outputs": [],
   "source": [
    "nlp = spacy.blank('en')"
   ]
  },
  {
   "cell_type": "code",
   "execution_count": 4,
   "metadata": {
    "ExecuteTime": {
     "end_time": "2018-04-30T11:39:54.155892Z",
     "start_time": "2018-04-30T11:39:54.153164Z"
    }
   },
   "outputs": [],
   "source": [
    "# add the parser to the pipeline if it doesn't exist\n",
    "# nlp.create_pipe works for built-ins that are registered with spaCy\n",
    "if 'parser' not in nlp.pipe_names:\n",
    "    parser = nlp.create_pipe('parser')\n",
    "    nlp.add_pipe(parser, first=True)"
   ]
  },
  {
   "cell_type": "code",
   "execution_count": 5,
   "metadata": {
    "ExecuteTime": {
     "end_time": "2018-04-30T11:40:03.818981Z",
     "start_time": "2018-04-30T11:40:03.813285Z"
    }
   },
   "outputs": [],
   "source": [
    "# add labels to the parser\n",
    "for _, annotations in TRAIN_DATA:\n",
    "    for dep in annotations.get('deps', []):\n",
    "        parser.add_label(dep)"
   ]
  },
  {
   "cell_type": "code",
   "execution_count": 6,
   "metadata": {
    "ExecuteTime": {
     "end_time": "2018-04-30T11:40:09.428702Z",
     "start_time": "2018-04-30T11:40:06.861246Z"
    }
   },
   "outputs": [
    {
     "name": "stdout",
     "output_type": "stream",
     "text": [
      "Warning: Unnamed vectors -- this won't allow multiple vectors models to be loaded. (Shape: (0, 0))\n",
      "{'parser': 14.141747042648603}\n",
      "{'parser': 8.855948711589104}\n",
      "{'parser': 6.2255389432232455}\n",
      "{'parser': 4.949621295755755}\n",
      "{'parser': 3.007197869062118}\n",
      "{'parser': 1.257717654555111}\n",
      "{'parser': 3.988629501106004}\n",
      "{'parser': 0.3553556270657353}\n",
      "{'parser': 0.00010969843792011904}\n",
      "{'parser': 2.3639529078560907e-08}\n"
     ]
    }
   ],
   "source": [
    "# get names of other pipes to disable them during training\n",
    "other_pipes = [pipe for pipe in nlp.pipe_names if pipe != 'parser']\n",
    "with nlp.disable_pipes(*other_pipes):  # only train parser\n",
    "    optimizer = nlp.begin_training()\n",
    "    for itn in range(10):\n",
    "        random.shuffle(TRAIN_DATA)\n",
    "        losses = {}\n",
    "        for text, annotations in TRAIN_DATA:\n",
    "            nlp.update([text], [annotations], sgd=optimizer, losses=losses)\n",
    "        print(losses)"
   ]
  },
  {
   "cell_type": "code",
   "execution_count": 7,
   "metadata": {
    "ExecuteTime": {
     "end_time": "2018-04-30T11:40:12.408333Z",
     "start_time": "2018-04-30T11:40:12.390178Z"
    }
   },
   "outputs": [
    {
     "name": "stdout",
     "output_type": "stream",
     "text": [
      "Dependencies [('I', 'nsubj', 'like'), ('like', 'ROOT', 'like'), ('securities', 'dobj', 'like'), ('.', 'punct', 'like')]\n"
     ]
    }
   ],
   "source": [
    "# test the trained model\n",
    "test_text = \"I like securities.\"\n",
    "doc = nlp(test_text)\n",
    "print('Dependencies', [(t.text, t.dep_, t.head.text) for t in doc])\n"
   ]
  },
  {
   "cell_type": "code",
   "execution_count": null,
   "metadata": {},
   "outputs": [],
   "source": []
  }
 ],
 "metadata": {
  "kernelspec": {
   "display_name": "Python 3",
   "language": "python",
   "name": "python3"
  },
  "language_info": {
   "codemirror_mode": {
    "name": "ipython",
    "version": 3
   },
   "file_extension": ".py",
   "mimetype": "text/x-python",
   "name": "python",
   "nbconvert_exporter": "python",
   "pygments_lexer": "ipython3",
   "version": "3.6.5"
  },
  "toc": {
   "base_numbering": 1,
   "nav_menu": {},
   "number_sections": true,
   "sideBar": true,
   "skip_h1_title": false,
   "title_cell": "Table of Contents",
   "title_sidebar": "Contents",
   "toc_cell": false,
   "toc_position": {},
   "toc_section_display": true,
   "toc_window_display": false
  }
 },
 "nbformat": 4,
 "nbformat_minor": 2
}
