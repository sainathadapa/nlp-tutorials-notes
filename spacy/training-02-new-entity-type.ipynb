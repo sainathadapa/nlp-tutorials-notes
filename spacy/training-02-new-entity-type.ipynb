{
 "cells": [
  {
   "cell_type": "markdown",
   "metadata": {},
   "source": [
    "https://github.com/explosion/spaCy/blob/master/LICENSE"
   ]
  },
  {
   "cell_type": "markdown",
   "metadata": {},
   "source": [
    "Example of training an additional entity type\n",
    "\n",
    "This script shows how to add a new entity type to an existing pre-trained NER\n",
    "model. To keep the example short and simple, only four sentences are provided\n",
    "as examples. In practice, you'll need many more — a few hundred would be a\n",
    "good start. You will also likely need to mix in examples of other entity\n",
    "types, which might be obtained by running the entity recognizer over unlabelled\n",
    "sentences, and adding their annotations to the training set.\n",
    "\n",
    "The actual training is performed by looping over the examples, and calling\n",
    "`nlp.entity.update()`. The `update()` method steps through the words of the\n",
    "input. At each word, it makes a prediction. It then consults the annotations\n",
    "provided on the GoldParse instance, to see whether it was right. If it was\n",
    "wrong, it adjusts its weights so that the correct action will score higher\n",
    "next time.\n",
    "\n",
    "After training your model, you can save it to a directory. We recommend\n",
    "wrapping models as Python packages, for ease of deployment.\n",
    "\n",
    "For more details, see the documentation:\n",
    "* Training: https://spacy.io/usage/training#section-ner\n",
    "* NER: https://spacy.io/usage/linguistic-features#named-entities"
   ]
  },
  {
   "cell_type": "code",
   "execution_count": 1,
   "metadata": {
    "ExecuteTime": {
     "end_time": "2018-04-30T11:41:35.812863Z",
     "start_time": "2018-04-30T11:41:35.553187Z"
    }
   },
   "outputs": [],
   "source": [
    "import random\n",
    "from pathlib import Path\n",
    "import spacy"
   ]
  },
  {
   "cell_type": "code",
   "execution_count": 2,
   "metadata": {
    "ExecuteTime": {
     "end_time": "2018-04-30T11:41:36.518747Z",
     "start_time": "2018-04-30T11:41:36.513249Z"
    }
   },
   "outputs": [],
   "source": [
    "# new entity label\n",
    "LABEL = 'ANIMAL'"
   ]
  },
  {
   "cell_type": "code",
   "execution_count": 3,
   "metadata": {
    "ExecuteTime": {
     "end_time": "2018-04-30T11:41:37.941276Z",
     "start_time": "2018-04-30T11:41:37.929472Z"
    }
   },
   "outputs": [],
   "source": [
    "# training data\n",
    "# Note: If you're using an existing model, make sure to mix in examples of\n",
    "# other entity types that spaCy correctly recognized before. Otherwise, your\n",
    "# model might learn the new type, but \"forget\" what it previously knew.\n",
    "# https://explosion.ai/blog/pseudo-rehearsal-catastrophic-forgetting\n",
    "TRAIN_DATA = [\n",
    "    (\"Horses are too tall and they pretend to care about your feelings\", {\n",
    "        'entities': [(0, 6, 'ANIMAL')]\n",
    "    }),\n",
    "\n",
    "    (\"Do they bite?\", {\n",
    "        'entities': []\n",
    "    }),\n",
    "\n",
    "    (\"horses are too tall and they pretend to care about your feelings\", {\n",
    "        'entities': [(0, 6, 'ANIMAL')]\n",
    "    }),\n",
    "\n",
    "    (\"horses pretend to care about your feelings\", {\n",
    "        'entities': [(0, 6, 'ANIMAL')]\n",
    "    }),\n",
    "\n",
    "    (\"they pretend to care about your feelings, those horses\", {\n",
    "        'entities': [(48, 54, 'ANIMAL')]\n",
    "    }),\n",
    "\n",
    "    (\"horses?\", {\n",
    "        'entities': [(0, 6, 'ANIMAL')]\n",
    "    })\n",
    "]"
   ]
  },
  {
   "cell_type": "code",
   "execution_count": 4,
   "metadata": {
    "ExecuteTime": {
     "end_time": "2018-04-30T11:41:39.397386Z",
     "start_time": "2018-04-30T11:41:39.287052Z"
    }
   },
   "outputs": [],
   "source": [
    "nlp = spacy.blank('en')"
   ]
  },
  {
   "cell_type": "code",
   "execution_count": 5,
   "metadata": {
    "ExecuteTime": {
     "end_time": "2018-04-30T11:41:39.890342Z",
     "start_time": "2018-04-30T11:41:39.882692Z"
    }
   },
   "outputs": [],
   "source": [
    "ner = nlp.create_pipe('ner')\n",
    "nlp.add_pipe(ner)"
   ]
  },
  {
   "cell_type": "code",
   "execution_count": 6,
   "metadata": {
    "ExecuteTime": {
     "end_time": "2018-04-30T11:41:40.453428Z",
     "start_time": "2018-04-30T11:41:40.446634Z"
    }
   },
   "outputs": [],
   "source": [
    "ner.add_label(LABEL)   # add new entity label to entity recognizer"
   ]
  },
  {
   "cell_type": "code",
   "execution_count": 7,
   "metadata": {
    "ExecuteTime": {
     "end_time": "2018-04-30T11:41:41.720441Z",
     "start_time": "2018-04-30T11:41:41.116689Z"
    }
   },
   "outputs": [
    {
     "name": "stdout",
     "output_type": "stream",
     "text": [
      "Warning: Unnamed vectors -- this won't allow multiple vectors models to be loaded. (Shape: (0, 0))\n"
     ]
    }
   ],
   "source": [
    "# Note that 'begin_training' initializes the models, so it'll zero out\n",
    "# existing entity types.\n",
    "optimizer = nlp.begin_training()"
   ]
  },
  {
   "cell_type": "code",
   "execution_count": 8,
   "metadata": {
    "ExecuteTime": {
     "end_time": "2018-04-30T11:41:49.601822Z",
     "start_time": "2018-04-30T11:41:41.725062Z"
    }
   },
   "outputs": [
    {
     "name": "stdout",
     "output_type": "stream",
     "text": [
      "{'ner': 18.435354814301867}\n",
      "{'ner': 8.046508206126969}\n",
      "{'ner': 6.5207909090344245}\n",
      "{'ner': 1.9985643577822343}\n",
      "{'ner': 1.24925943804981}\n",
      "{'ner': 2.0000000000152793}\n",
      "{'ner': 2.196974158287136}\n",
      "{'ner': 1.9964701116472081}\n",
      "{'ner': 1.1266417879729893}\n",
      "{'ner': 3.721874032300565e-12}\n",
      "{'ner': 0.00013615695945970124}\n",
      "{'ner': 0.0005255360156585591}\n",
      "{'ner': 3.1043147026457582e-12}\n",
      "{'ner': 3.242987489675821e-09}\n",
      "{'ner': 0.09188444533001185}\n",
      "{'ner': 6.126406952439933e-17}\n",
      "{'ner': 2.9525606308057107e-16}\n",
      "{'ner': 2.181247467067094e-19}\n",
      "{'ner': 6.604785017077264e-24}\n",
      "{'ner': 1.0096982251651984e-26}\n"
     ]
    }
   ],
   "source": [
    "# get names of other pipes to disable them during training\n",
    "other_pipes = [pipe for pipe in nlp.pipe_names if pipe != 'ner']\n",
    "with nlp.disable_pipes(*other_pipes):  # only train NER\n",
    "    for itn in range(20):\n",
    "        random.shuffle(TRAIN_DATA)\n",
    "        losses = {}\n",
    "        for text, annotations in TRAIN_DATA:\n",
    "            nlp.update([text], [annotations], sgd=optimizer, drop=0.35,\n",
    "                       losses=losses)\n",
    "        print(losses)"
   ]
  },
  {
   "cell_type": "code",
   "execution_count": 9,
   "metadata": {
    "ExecuteTime": {
     "end_time": "2018-04-30T11:41:49.621501Z",
     "start_time": "2018-04-30T11:41:49.603883Z"
    }
   },
   "outputs": [
    {
     "name": "stdout",
     "output_type": "stream",
     "text": [
      "Entities in 'Do you like horses?'\n"
     ]
    }
   ],
   "source": [
    "# test the trained model\n",
    "test_text = 'Do you like horses?'\n",
    "doc = nlp(test_text)\n",
    "print(\"Entities in '%s'\" % test_text)\n",
    "for ent in doc.ents:\n",
    "    print(ent.label_, ent.text)"
   ]
  },
  {
   "cell_type": "code",
   "execution_count": null,
   "metadata": {},
   "outputs": [],
   "source": []
  }
 ],
 "metadata": {
  "kernelspec": {
   "display_name": "Python 3",
   "language": "python",
   "name": "python3"
  },
  "language_info": {
   "codemirror_mode": {
    "name": "ipython",
    "version": 3
   },
   "file_extension": ".py",
   "mimetype": "text/x-python",
   "name": "python",
   "nbconvert_exporter": "python",
   "pygments_lexer": "ipython3",
   "version": "3.6.5"
  },
  "toc": {
   "base_numbering": 1,
   "nav_menu": {},
   "number_sections": true,
   "sideBar": true,
   "skip_h1_title": false,
   "title_cell": "Table of Contents",
   "title_sidebar": "Contents",
   "toc_cell": false,
   "toc_position": {},
   "toc_section_display": true,
   "toc_window_display": false
  }
 },
 "nbformat": 4,
 "nbformat_minor": 2
}
