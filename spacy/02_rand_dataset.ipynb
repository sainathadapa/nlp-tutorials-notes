{
 "cells": [
  {
   "cell_type": "markdown",
   "metadata": {},
   "source": [
    "# RAND Dataset analysis"
   ]
  },
  {
   "cell_type": "markdown",
   "metadata": {},
   "source": [
    "This is an open challenge to apply what you have learnt analysing Pride and Prejudice with spaCy on a dataset of real events. We have preprocessed the [RAND Terrorism Dataset]((http://www.rand.org/nsrd/projects/terrorism-incidents.html) for this task reducing the data to 10033 articles from 1968 to 2009.\n",
    "\n",
    "Can you find out the following using the code you have written?\n",
    "- Who are the terrorist groups and other persons mentioned in each article?\n",
    "- What locations are mentioned in each article? Hint: a location just has a different label to a person\n",
    "- From all of your entities, can you find out which named entities are terrorists from the syntactic relationships?\n",
    "- With all of this information, can you plot a figure expressing the relationships between locations and terrorists?\n",
    "\n",
    "There are no right answers to any of these questions, and there might not even be an answer at all."
   ]
  },
  {
   "cell_type": "markdown",
   "metadata": {},
   "source": [
    "#### Example result using the full ~40,000 article dataset\n",
    "\n",
    "![Heatmap of terrorist group and country](../example_output_full.png)"
   ]
  },
  {
   "cell_type": "code",
   "execution_count": 1,
   "metadata": {
    "ExecuteTime": {
     "end_time": "2018-04-28T14:29:24.735021Z",
     "start_time": "2018-04-28T14:24:34.343799Z"
    }
   },
   "outputs": [],
   "source": [
    "# To get you started we can import Pandas and Seaborn which might help you\n",
    "# build a graph or visualisation of the data\n",
    "% matplotlib inline\n",
    "\n",
    "from collections import defaultdict, Counter\n",
    "\n",
    "import matplotlib.pyplot as plt\n",
    "import matplotlib as mpl\n",
    "import pandas as pd\n",
    "import seaborn as sns\n",
    "import spacy\n",
    "\n",
    "nlp = spacy.load('en')\n",
    "\n",
    "def read_file_to_list(file_name):\n",
    "    with open(file_name, 'r') as file:\n",
    "        return file.readlines()\n",
    "\n",
    "# The file has been re-encoded in UTF-8, the source encoding is Latin-1\n",
    "terrorism_articles = read_file_to_list('../data/rand-terrorism-dataset.txt')\n",
    "\n",
    "# Create a list of spaCy Doc objects representing articles\n",
    "terrorism_articles_nlp = [nlp(art) for art in terrorism_articles]"
   ]
  },
  {
   "cell_type": "markdown",
   "metadata": {},
   "source": [
    "## Example solution"
   ]
  },
  {
   "cell_type": "markdown",
   "metadata": {},
   "source": [
    "### Define some geographical areas and groups to inspect\n",
    "\n",
    "These are commonly mentioned in the full dataset, which you can prove for yourself using the same approaches as in the previous tutorial for Pride and Prejudice. You can process the full dataset at once into one spaCy span using the read_file() function. "
   ]
  },
  {
   "cell_type": "code",
   "execution_count": 2,
   "metadata": {
    "ExecuteTime": {
     "end_time": "2018-04-28T14:30:22.982984Z",
     "start_time": "2018-04-28T14:30:22.977278Z"
    }
   },
   "outputs": [],
   "source": [
    "common_terrorist_groups = [\n",
    "    'taliban', \n",
    "    'al - qaeda', \n",
    "    'hamas',  \n",
    "    'fatah', \n",
    "    'plo', \n",
    "    'bilad al - rafidayn'\n",
    "]\n",
    "\n",
    "common_locations = [\n",
    "    'iraq',\n",
    "    'baghdad', \n",
    "    'kirkuk', \n",
    "    'mosul', \n",
    "    'afghanistan', \n",
    "    'kabul',\n",
    "    'basra', \n",
    "    'palestine', \n",
    "    'gaza', \n",
    "    'israel', \n",
    "    'istanbul', \n",
    "    'beirut', \n",
    "    'pakistan'\n",
    "]"
   ]
  },
  {
   "cell_type": "markdown",
   "metadata": {},
   "source": [
    "## Inspect each article for mentions of groups and locations"
   ]
  },
  {
   "cell_type": "code",
   "execution_count": 3,
   "metadata": {
    "ExecuteTime": {
     "end_time": "2018-04-28T14:30:54.404202Z",
     "start_time": "2018-04-28T14:30:54.146233Z"
    }
   },
   "outputs": [
    {
     "data": {
      "text/plain": [
       "12"
      ]
     },
     "execution_count": 3,
     "metadata": {},
     "output_type": "execute_result"
    }
   ],
   "source": [
    "location_entity_dict = defaultdict(Counter)\n",
    "\n",
    "for article in terrorism_articles_nlp:\n",
    "    #Get all the groups and location entity in the article\n",
    "    article_terrorist_cands = [ent.lemma_ for ent in article.ents if ent.label_ == 'PERSON' or ent.label_ == 'ORG']\n",
    "    article_location_cands = [ent.lemma_ for ent in article.ents if ent.label_ == 'GPE']\n",
    "\n",
    "    #Filter groups and locations for only those which we are interested in\n",
    "    terrorist_candidates = [ent for ent in article_terrorist_cands if ent in common_terrorist_groups]\n",
    "    location_candidates = [loc for loc in article_location_cands if loc in common_locations]\n",
    "\n",
    "    for found_entity in terrorist_candidates:\n",
    "        for found_location in location_candidates:\n",
    "            location_entity_dict[found_entity][found_location] += 1\n",
    "\n",
    "# Let's inspect a specific combination as a cursory check on the for loop operating correctly\n",
    "location_entity_dict['plo']['beirut']"
   ]
  },
  {
   "cell_type": "markdown",
   "metadata": {},
   "source": [
    "## Transform defaultdict to a Pandas DataFrame"
   ]
  },
  {
   "cell_type": "code",
   "execution_count": 4,
   "metadata": {
    "ExecuteTime": {
     "end_time": "2018-04-28T14:30:57.011349Z",
     "start_time": "2018-04-28T14:30:56.983360Z"
    }
   },
   "outputs": [
    {
     "data": {
      "text/html": [
       "<div>\n",
       "<style scoped>\n",
       "    .dataframe tbody tr th:only-of-type {\n",
       "        vertical-align: middle;\n",
       "    }\n",
       "\n",
       "    .dataframe tbody tr th {\n",
       "        vertical-align: top;\n",
       "    }\n",
       "\n",
       "    .dataframe thead th {\n",
       "        text-align: right;\n",
       "    }\n",
       "</style>\n",
       "<table border=\"1\" class=\"dataframe\">\n",
       "  <thead>\n",
       "    <tr style=\"text-align: right;\">\n",
       "      <th></th>\n",
       "      <th>al - qaeda</th>\n",
       "      <th>bilad al - rafidayn</th>\n",
       "      <th>fatah</th>\n",
       "      <th>hamas</th>\n",
       "      <th>plo</th>\n",
       "      <th>taliban</th>\n",
       "    </tr>\n",
       "  </thead>\n",
       "  <tbody>\n",
       "    <tr>\n",
       "      <th>afghanistan</th>\n",
       "      <td>6</td>\n",
       "      <td>0</td>\n",
       "      <td>0</td>\n",
       "      <td>0</td>\n",
       "      <td>0</td>\n",
       "      <td>266</td>\n",
       "    </tr>\n",
       "    <tr>\n",
       "      <th>baghdad</th>\n",
       "      <td>19</td>\n",
       "      <td>33</td>\n",
       "      <td>0</td>\n",
       "      <td>0</td>\n",
       "      <td>0</td>\n",
       "      <td>0</td>\n",
       "    </tr>\n",
       "    <tr>\n",
       "      <th>basra</th>\n",
       "      <td>0</td>\n",
       "      <td>4</td>\n",
       "      <td>0</td>\n",
       "      <td>0</td>\n",
       "      <td>0</td>\n",
       "      <td>0</td>\n",
       "    </tr>\n",
       "    <tr>\n",
       "      <th>beirut</th>\n",
       "      <td>0</td>\n",
       "      <td>0</td>\n",
       "      <td>1</td>\n",
       "      <td>1</td>\n",
       "      <td>12</td>\n",
       "      <td>0</td>\n",
       "    </tr>\n",
       "    <tr>\n",
       "      <th>gaza</th>\n",
       "      <td>0</td>\n",
       "      <td>0</td>\n",
       "      <td>11</td>\n",
       "      <td>70</td>\n",
       "      <td>0</td>\n",
       "      <td>0</td>\n",
       "    </tr>\n",
       "    <tr>\n",
       "      <th>iraq</th>\n",
       "      <td>49</td>\n",
       "      <td>23</td>\n",
       "      <td>1</td>\n",
       "      <td>0</td>\n",
       "      <td>8</td>\n",
       "      <td>0</td>\n",
       "    </tr>\n",
       "    <tr>\n",
       "      <th>israel</th>\n",
       "      <td>1</td>\n",
       "      <td>0</td>\n",
       "      <td>19</td>\n",
       "      <td>27</td>\n",
       "      <td>39</td>\n",
       "      <td>0</td>\n",
       "    </tr>\n",
       "    <tr>\n",
       "      <th>istanbul</th>\n",
       "      <td>3</td>\n",
       "      <td>0</td>\n",
       "      <td>0</td>\n",
       "      <td>0</td>\n",
       "      <td>0</td>\n",
       "      <td>0</td>\n",
       "    </tr>\n",
       "    <tr>\n",
       "      <th>kabul</th>\n",
       "      <td>2</td>\n",
       "      <td>0</td>\n",
       "      <td>0</td>\n",
       "      <td>0</td>\n",
       "      <td>0</td>\n",
       "      <td>49</td>\n",
       "    </tr>\n",
       "    <tr>\n",
       "      <th>kirkuk</th>\n",
       "      <td>5</td>\n",
       "      <td>0</td>\n",
       "      <td>0</td>\n",
       "      <td>0</td>\n",
       "      <td>0</td>\n",
       "      <td>0</td>\n",
       "    </tr>\n",
       "    <tr>\n",
       "      <th>mosul</th>\n",
       "      <td>17</td>\n",
       "      <td>4</td>\n",
       "      <td>0</td>\n",
       "      <td>0</td>\n",
       "      <td>0</td>\n",
       "      <td>0</td>\n",
       "    </tr>\n",
       "    <tr>\n",
       "      <th>pakistan</th>\n",
       "      <td>6</td>\n",
       "      <td>0</td>\n",
       "      <td>0</td>\n",
       "      <td>0</td>\n",
       "      <td>0</td>\n",
       "      <td>17</td>\n",
       "    </tr>\n",
       "    <tr>\n",
       "      <th>palestine</th>\n",
       "      <td>3</td>\n",
       "      <td>6</td>\n",
       "      <td>0</td>\n",
       "      <td>0</td>\n",
       "      <td>1</td>\n",
       "      <td>0</td>\n",
       "    </tr>\n",
       "  </tbody>\n",
       "</table>\n",
       "</div>"
      ],
      "text/plain": [
       "             al - qaeda  bilad al - rafidayn  fatah  hamas  plo  taliban\n",
       "afghanistan           6                    0      0      0    0      266\n",
       "baghdad              19                   33      0      0    0        0\n",
       "basra                 0                    4      0      0    0        0\n",
       "beirut                0                    0      1      1   12        0\n",
       "gaza                  0                    0     11     70    0        0\n",
       "iraq                 49                   23      1      0    8        0\n",
       "israel                1                    0     19     27   39        0\n",
       "istanbul              3                    0      0      0    0        0\n",
       "kabul                 2                    0      0      0    0       49\n",
       "kirkuk                5                    0      0      0    0        0\n",
       "mosul                17                    4      0      0    0        0\n",
       "pakistan              6                    0      0      0    0       17\n",
       "palestine             3                    6      0      0    1        0"
      ]
     },
     "execution_count": 4,
     "metadata": {},
     "output_type": "execute_result"
    }
   ],
   "source": [
    "# Transform the dictionary into a pandas DataFrame and fill NaN values with zeroes\n",
    "location_entity_df = pd.DataFrame.from_dict(dict(location_entity_dict), dtype=int)\n",
    "location_entity_full_df = location_entity_df.fillna(value=0).astype(int)\n",
    "# Show DF to console\n",
    "location_entity_full_df"
   ]
  },
  {
   "cell_type": "code",
   "execution_count": 5,
   "metadata": {
    "ExecuteTime": {
     "end_time": "2018-04-28T14:31:06.412249Z",
     "start_time": "2018-04-28T14:31:05.895141Z"
    }
   },
   "outputs": [
    {
     "data": {
      "image/png": "[encoded data removed]",
      "text/plain": [
       "<Figure size 432x288 with 1 Axes>"
      ]
     },
     "metadata": {},
     "output_type": "display_data"
    }
   ],
   "source": [
    "# Seaborn can transform a DataFrame directly into a figure\n",
    "\n",
    "plt.figure()\n",
    "hmap = sns.heatmap(location_entity_full_df, annot=True, fmt='d', cmap='YlGnBu', cbar=False)\n",
    "\n",
    "# Add features using the under the hood plt interface\n",
    "plt.title('Global Incidents by Terrorist group')\n",
    "plt.xticks(rotation=30)\n",
    "plt.show()"
   ]
  },
  {
   "cell_type": "code",
   "execution_count": 6,
   "metadata": {
    "ExecuteTime": {
     "end_time": "2018-04-28T14:31:08.213170Z",
     "start_time": "2018-04-28T14:31:07.991020Z"
    }
   },
   "outputs": [
    {
     "data": {
      "image/png": "[encoded data removed]",
      "text/plain": [
       "<Figure size 432x288 with 1 Axes>"
      ]
     },
     "metadata": {},
     "output_type": "display_data"
    }
   ],
   "source": [
    "# You can also mask all the zero figures using features of the DataFrame\n",
    "heat_mask = location_entity_df.isnull()\n",
    "\n",
    "hmap = sns.heatmap(location_entity_full_df, annot=True, fmt='d', cmap='YlGnBu', cbar=False, mask=heat_mask)\n",
    "\n",
    "# Add features using the under the hood plt interface\n",
    "sns.axes_style('white')\n",
    "plt.title('Global Incidents by Terrorist group')\n",
    "plt.xticks(rotation=30)\n",
    "plt.show()"
   ]
  },
  {
   "cell_type": "code",
   "execution_count": null,
   "metadata": {},
   "outputs": [],
   "source": []
  }
 ],
 "metadata": {
  "kernelspec": {
   "display_name": "Python 3",
   "language": "python",
   "name": "python3"
  },
  "language_info": {
   "codemirror_mode": {
    "name": "ipython",
    "version": 3
   },
   "file_extension": ".py",
   "mimetype": "text/x-python",
   "name": "python",
   "nbconvert_exporter": "python",
   "pygments_lexer": "ipython3",
   "version": "3.6.5"
  },
  "toc": {
   "base_numbering": 1,
   "nav_menu": {},
   "number_sections": true,
   "sideBar": true,
   "skip_h1_title": false,
   "title_cell": "Table of Contents",
   "title_sidebar": "Contents",
   "toc_cell": false,
   "toc_position": {},
   "toc_section_display": true,
   "toc_window_display": false
  }
 },
 "nbformat": 4,
 "nbformat_minor": 1
}
