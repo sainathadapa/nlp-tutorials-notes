{
 "cells": [
  {
   "cell_type": "markdown",
   "metadata": {},
   "source": [
    "https://github.com/explosion/spaCy/blob/master/LICENSE"
   ]
  },
  {
   "cell_type": "markdown",
   "metadata": {},
   "source": [
    "Example of training spaCy's named entity recognizer, starting off with an\n",
    "existing model or a blank model.\n",
    "\n",
    "For more details, see the documentation:\n",
    "* Training: https://spacy.io/usage/training#section-ner\n",
    "* NER: https://spacy.io/usage/linguistic-features#named-entities"
   ]
  },
  {
   "cell_type": "code",
   "execution_count": 1,
   "metadata": {
    "ExecuteTime": {
     "end_time": "2018-04-30T11:44:06.503132Z",
     "start_time": "2018-04-30T11:44:06.251079Z"
    }
   },
   "outputs": [],
   "source": [
    "import random\n",
    "from pathlib import Path\n",
    "import spacy"
   ]
  },
  {
   "cell_type": "code",
   "execution_count": 2,
   "metadata": {
    "ExecuteTime": {
     "end_time": "2018-04-30T11:44:07.363340Z",
     "start_time": "2018-04-30T11:44:07.350400Z"
    }
   },
   "outputs": [],
   "source": [
    "TRAIN_DATA = [\n",
    "    ('Who is Shaka Khan?', {\n",
    "        'entities': [(7, 17, 'PERSON')]\n",
    "    }),\n",
    "    ('I like London and Berlin.', {\n",
    "        'entities': [(7, 13, 'LOC'), (18, 24, 'LOC')]\n",
    "    })\n",
    "]"
   ]
  },
  {
   "cell_type": "code",
   "execution_count": 3,
   "metadata": {
    "ExecuteTime": {
     "end_time": "2018-04-30T11:44:08.375229Z",
     "start_time": "2018-04-30T11:44:08.258185Z"
    }
   },
   "outputs": [],
   "source": [
    "nlp = spacy.blank('en')"
   ]
  },
  {
   "cell_type": "code",
   "execution_count": 4,
   "metadata": {
    "ExecuteTime": {
     "end_time": "2018-04-30T11:44:20.314692Z",
     "start_time": "2018-04-30T11:44:20.311951Z"
    }
   },
   "outputs": [],
   "source": [
    "ner = nlp.create_pipe('ner')\n",
    "nlp.add_pipe(ner, last=True)"
   ]
  },
  {
   "cell_type": "code",
   "execution_count": 5,
   "metadata": {
    "ExecuteTime": {
     "end_time": "2018-04-30T11:44:27.370907Z",
     "start_time": "2018-04-30T11:44:27.364014Z"
    }
   },
   "outputs": [],
   "source": [
    "# add labels\n",
    "for _, annotations in TRAIN_DATA:\n",
    "    for ent in annotations.get('entities'):\n",
    "        ner.add_label(ent[2])"
   ]
  },
  {
   "cell_type": "code",
   "execution_count": 6,
   "metadata": {
    "ExecuteTime": {
     "end_time": "2018-04-30T11:44:44.632829Z",
     "start_time": "2018-04-30T11:44:32.041885Z"
    },
    "scrolled": true
   },
   "outputs": [
    {
     "name": "stdout",
     "output_type": "stream",
     "text": [
      "Warning: Unnamed vectors -- this won't allow multiple vectors models to be loaded. (Shape: (0, 0))\n",
      "{'ner': 16.235757490620017}\n",
      "{'ner': 13.01175731967129}\n",
      "{'ner': 10.872870404702994}\n",
      "{'ner': 6.7520108227067865}\n",
      "{'ner': 11.270936255721608}\n",
      "{'ner': 8.677501894709211}\n",
      "{'ner': 6.5614776042387035}\n",
      "{'ner': 7.317424037225578}\n",
      "{'ner': 9.39236497294058}\n",
      "{'ner': 5.926565954928012}\n",
      "{'ner': 5.80514592810008}\n",
      "{'ner': 9.848136051044275}\n",
      "{'ner': 5.21263195669442}\n",
      "{'ner': 2.311033142309743}\n",
      "{'ner': 3.961020756766131}\n",
      "{'ner': 5.114914817656618}\n",
      "{'ner': 0.01482071524596984}\n",
      "{'ner': 2.0738199233090326}\n",
      "{'ner': 0.8535795233154776}\n",
      "{'ner': 0.10320643632971646}\n",
      "{'ner': 3.2304784020091533}\n",
      "{'ner': 3.9366866879333484}\n",
      "{'ner': 0.45400242268461977}\n",
      "{'ner': 2.4191047049540034e-06}\n",
      "{'ner': 1.3981112792385961}\n",
      "{'ner': 0.008570982444339582}\n",
      "{'ner': 0.00023454407742679525}\n",
      "{'ner': 1.1047200503546818e-05}\n",
      "{'ner': 9.507984257665279e-06}\n",
      "{'ner': 1.1411061163155201e-07}\n",
      "{'ner': 0.00023665812537962782}\n",
      "{'ner': 1.8445421464827263}\n",
      "{'ner': 4.849918925771717e-07}\n",
      "{'ner': 4.654769725250924e-08}\n",
      "{'ner': 0.0002966445402698739}\n",
      "{'ner': 1.8192871282054317e-11}\n",
      "{'ner': 5.521603023633612e-12}\n",
      "{'ner': 1.9894955158233643}\n",
      "{'ner': 5.88656448038736e-08}\n",
      "{'ner': 3.591057204262867e-10}\n",
      "{'ner': 0.2857853684786953}\n",
      "{'ner': 0.9001221670755277}\n",
      "{'ner': 0.3121735704439317}\n",
      "{'ner': 1.2928743455647416e-06}\n",
      "{'ner': 8.631621806198808e-11}\n",
      "{'ner': 1.7616420140075657}\n",
      "{'ner': 1.9336051946576018}\n",
      "{'ner': 1.9201037450345528e-15}\n",
      "{'ner': 2.611782169431632e-08}\n",
      "{'ner': 3.109751912353152e-20}\n",
      "{'ner': 2.5566304079607517e-09}\n",
      "{'ner': 6.996673992539195e-27}\n",
      "{'ner': 6.002475393246318e-11}\n",
      "{'ner': 1.418618630393655e-14}\n",
      "{'ner': 5.34944024328421e-06}\n",
      "{'ner': 2.821639564032593e-15}\n",
      "{'ner': 2.6094829769236197e-10}\n",
      "{'ner': 2.3095015883827617e-10}\n",
      "{'ner': 2.0056241467262127e-13}\n",
      "{'ner': 4.122841455489464e-22}\n",
      "{'ner': 3.9855467773079795e-14}\n",
      "{'ner': 4.684394648201961e-06}\n",
      "{'ner': 2.6769240789184402e-14}\n",
      "{'ner': 2.2287152037823884e-21}\n",
      "{'ner': 5.88566422266016e-07}\n",
      "{'ner': 0.0023007274139672574}\n",
      "{'ner': 0.006474064537371427}\n",
      "{'ner': 6.986319685737097e-13}\n",
      "{'ner': 1.0436874221418651e-20}\n",
      "{'ner': 6.99677678454816e-20}\n",
      "{'ner': 0.8265221714973628}\n",
      "{'ner': 5.037028736817978e-13}\n",
      "{'ner': 8.87702844198752e-16}\n",
      "{'ner': 1.4373936492451128e-08}\n",
      "{'ner': 1.222972795315118e-20}\n",
      "{'ner': 2.9754493444034006e-14}\n",
      "{'ner': 1.0676987182797849e-13}\n",
      "{'ner': 3.663346032657646e-19}\n",
      "{'ner': 2.8523880327000927e-15}\n",
      "{'ner': 2.3323531967745647e-17}\n",
      "{'ner': 3.514701307544487e-14}\n",
      "{'ner': 2.1336956474517498e-12}\n",
      "{'ner': 7.301023191629631e-17}\n",
      "{'ner': 4.4099575471983976e-15}\n",
      "{'ner': 4.22875013713734e-17}\n",
      "{'ner': 1.8007881236489315e-21}\n",
      "{'ner': 5.660614355147283e-12}\n",
      "{'ner': 1.3348485027569238e-16}\n",
      "{'ner': 7.247949779744687e-15}\n",
      "{'ner': 6.411059872777121e-16}\n",
      "{'ner': 2.9555364160891424e-23}\n",
      "{'ner': 9.994544621277796e-15}\n",
      "{'ner': 1.9999964237213135}\n",
      "{'ner': 1.297330623158295e-21}\n",
      "{'ner': 1.194372771351482e-06}\n",
      "{'ner': 1.3298255450194165e-10}\n",
      "{'ner': 1.0854093662985331e-13}\n",
      "{'ner': 7.805899111445761e-27}\n",
      "{'ner': 8.685869433049497e-16}\n",
      "{'ner': 1.0725629429382649e-10}\n"
     ]
    }
   ],
   "source": [
    "# get names of other pipes to disable them during training\n",
    "other_pipes = [pipe for pipe in nlp.pipe_names if pipe != 'ner']\n",
    "with nlp.disable_pipes(*other_pipes):  # only train NER\n",
    "    optimizer = nlp.begin_training()\n",
    "    for itn in range(100):\n",
    "        random.shuffle(TRAIN_DATA)\n",
    "        losses = {}\n",
    "        for text, annotations in TRAIN_DATA:\n",
    "            nlp.update(\n",
    "                [text],  # batch of texts\n",
    "                [annotations],  # batch of annotations\n",
    "                drop=0.5,  # dropout - make it harder to memorise data\n",
    "                sgd=optimizer,  # callable to update weights\n",
    "                losses=losses)\n",
    "        print(losses)"
   ]
  },
  {
   "cell_type": "code",
   "execution_count": 7,
   "metadata": {
    "ExecuteTime": {
     "end_time": "2018-04-30T11:44:44.651091Z",
     "start_time": "2018-04-30T11:44:44.634816Z"
    }
   },
   "outputs": [
    {
     "name": "stdout",
     "output_type": "stream",
     "text": [
      "Entities [('Shaka Khan', 'PERSON')]\n",
      "Tokens [('Who', '', 2), ('is', '', 2), ('Shaka', 'PERSON', 3), ('Khan', 'PERSON', 1), ('?', '', 2)]\n",
      "Entities [('London', 'LOC'), ('Berlin', 'LOC')]\n",
      "Tokens [('I', '', 2), ('like', '', 2), ('London', 'LOC', 3), ('and', '', 2), ('Berlin', 'LOC', 3), ('.', '', 2)]\n"
     ]
    }
   ],
   "source": [
    "# test the trained model\n",
    "for text, _ in TRAIN_DATA:\n",
    "    doc = nlp(text)\n",
    "    print('Entities', [(ent.text, ent.label_) for ent in doc.ents])\n",
    "    print('Tokens', [(t.text, t.ent_type_, t.ent_iob) for t in doc])"
   ]
  },
  {
   "cell_type": "code",
   "execution_count": null,
   "metadata": {},
   "outputs": [],
   "source": []
  }
 ],
 "metadata": {
  "kernelspec": {
   "display_name": "Python 3",
   "language": "python",
   "name": "python3"
  },
  "language_info": {
   "codemirror_mode": {
    "name": "ipython",
    "version": 3
   },
   "file_extension": ".py",
   "mimetype": "text/x-python",
   "name": "python",
   "nbconvert_exporter": "python",
   "pygments_lexer": "ipython3",
   "version": "3.6.5"
  },
  "toc": {
   "base_numbering": 1,
   "nav_menu": {},
   "number_sections": true,
   "sideBar": true,
   "skip_h1_title": false,
   "title_cell": "Table of Contents",
   "title_sidebar": "Contents",
   "toc_cell": false,
   "toc_position": {},
   "toc_section_display": true,
   "toc_window_display": false
  }
 },
 "nbformat": 4,
 "nbformat_minor": 2
}
