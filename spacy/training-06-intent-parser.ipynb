{
 "cells": [
  {
   "cell_type": "markdown",
   "metadata": {},
   "source": [
    "https://github.com/explosion/spaCy/blob/master/LICENSE"
   ]
  },
  {
   "cell_type": "markdown",
   "metadata": {},
   "source": [
    "Using the parser to recognise your own semantics\n",
    "\n",
    "spaCy's parser component can be used to trained to predict any type of tree\n",
    "structure over your input text. You can also predict trees over whole documents\n",
    "or chat logs, with connections between the sentence-roots used to annotate\n",
    "discourse structure. In this example, we'll build a message parser for a common\n",
    "\"chat intent\": finding local businesses. Our message semantics will have the\n",
    "following types of relations: ROOT, PLACE, QUALITY, ATTRIBUTE, TIME, LOCATION.\n",
    "\n",
    "- \"show me the best hotel in berlin\"\n",
    "- ('show', 'ROOT', 'show')\n",
    "- ('best', 'QUALITY', 'hotel') --> hotel with QUALITY best\n",
    "- ('hotel', 'PLACE', 'show') --> show PLACE hotel\n",
    "- ('berlin', 'LOCATION', 'hotel') --> hotel with LOCATION berlin"
   ]
  },
  {
   "cell_type": "code",
   "execution_count": 1,
   "metadata": {
    "ExecuteTime": {
     "end_time": "2018-04-30T11:47:26.401590Z",
     "start_time": "2018-04-30T11:47:26.163889Z"
    }
   },
   "outputs": [],
   "source": [
    "import random\n",
    "import spacy\n",
    "from pathlib import Path"
   ]
  },
  {
   "cell_type": "code",
   "execution_count": 2,
   "metadata": {
    "ExecuteTime": {
     "end_time": "2018-04-30T11:47:54.583738Z",
     "start_time": "2018-04-30T11:47:54.565405Z"
    }
   },
   "outputs": [],
   "source": [
    "# training data: texts, heads and dependency labels\n",
    "# for no relation, we simply chose an arbitrary dependency label, e.g. '-'\n",
    "TRAIN_DATA = [\n",
    "    (\"find a cafe with great wifi\", {\n",
    "        'heads': [0, 2, 0, 5, 5, 2],  # index of token head\n",
    "        'deps': ['ROOT', '-', 'PLACE', '-', 'QUALITY', 'ATTRIBUTE']\n",
    "    }),\n",
    "    (\"find a hotel near the beach\", {\n",
    "        'heads': [0, 2, 0, 5, 5, 2],\n",
    "        'deps': ['ROOT', '-', 'PLACE', 'QUALITY', '-', 'ATTRIBUTE']\n",
    "    }),\n",
    "    (\"find me the closest gym that's open late\", {\n",
    "        'heads': [0, 0, 4, 4, 0, 6, 4, 6, 6],\n",
    "        'deps': ['ROOT', '-', '-', 'QUALITY', 'PLACE', '-', '-', 'ATTRIBUTE', 'TIME']\n",
    "    }),\n",
    "    (\"show me the cheapest store that sells flowers\", {\n",
    "        'heads': [0, 0, 4, 4, 0, 4, 4, 4],  # attach \"flowers\" to store!\n",
    "        'deps': ['ROOT', '-', '-', 'QUALITY', 'PLACE', '-', '-', 'PRODUCT']\n",
    "    }),\n",
    "    (\"find a nice restaurant in london\", {\n",
    "        'heads': [0, 3, 3, 0, 3, 3],\n",
    "        'deps': ['ROOT', '-', 'QUALITY', 'PLACE', '-', 'LOCATION']\n",
    "    }),\n",
    "    (\"show me the coolest hostel in berlin\", {\n",
    "        'heads': [0, 0, 4, 4, 0, 4, 4],\n",
    "        'deps': ['ROOT', '-', '-', 'QUALITY', 'PLACE', '-', 'LOCATION']\n",
    "    }),\n",
    "    (\"find a good italian restaurant near work\", {\n",
    "        'heads': [0, 4, 4, 4, 0, 4, 5],\n",
    "        'deps': ['ROOT', '-', 'QUALITY', 'ATTRIBUTE', 'PLACE', 'ATTRIBUTE', 'LOCATION']\n",
    "    })\n",
    "]"
   ]
  },
  {
   "cell_type": "code",
   "execution_count": 3,
   "metadata": {
    "ExecuteTime": {
     "end_time": "2018-04-30T11:48:00.935249Z",
     "start_time": "2018-04-30T11:48:00.799964Z"
    }
   },
   "outputs": [],
   "source": [
    "nlp = spacy.blank('en')"
   ]
  },
  {
   "cell_type": "code",
   "execution_count": 4,
   "metadata": {
    "ExecuteTime": {
     "end_time": "2018-04-30T11:48:04.684432Z",
     "start_time": "2018-04-30T11:48:04.678240Z"
    }
   },
   "outputs": [],
   "source": [
    "parser = nlp.create_pipe('parser')\n",
    "nlp.add_pipe(parser, first=True)"
   ]
  },
  {
   "cell_type": "code",
   "execution_count": 5,
   "metadata": {
    "ExecuteTime": {
     "end_time": "2018-04-30T11:48:07.168785Z",
     "start_time": "2018-04-30T11:48:07.166180Z"
    }
   },
   "outputs": [],
   "source": [
    "for text, annotations in TRAIN_DATA:\n",
    "    for dep in annotations.get('deps', []):\n",
    "        parser.add_label(dep)"
   ]
  },
  {
   "cell_type": "code",
   "execution_count": 6,
   "metadata": {
    "ExecuteTime": {
     "end_time": "2018-04-30T11:48:11.886094Z",
     "start_time": "2018-04-30T11:48:08.203275Z"
    }
   },
   "outputs": [
    {
     "name": "stdout",
     "output_type": "stream",
     "text": [
      "Warning: Unnamed vectors -- this won't allow multiple vectors models to be loaded. (Shape: (0, 0))\n",
      "{'parser': 47.59957589333203}\n",
      "{'parser': 36.84128908866564}\n",
      "{'parser': 22.815627198833546}\n",
      "{'parser': 21.863796436639667}\n",
      "{'parser': 7.818227429146986}\n"
     ]
    }
   ],
   "source": [
    "other_pipes = [pipe for pipe in nlp.pipe_names if pipe != 'parser']\n",
    "with nlp.disable_pipes(*other_pipes):  # only train parser\n",
    "    optimizer = nlp.begin_training()\n",
    "    for itn in range(5):\n",
    "        random.shuffle(TRAIN_DATA)\n",
    "        losses = {}\n",
    "        for text, annotations in TRAIN_DATA:\n",
    "            nlp.update([text], [annotations], sgd=optimizer, losses=losses)\n",
    "        print(losses)"
   ]
  },
  {
   "cell_type": "code",
   "execution_count": 7,
   "metadata": {
    "ExecuteTime": {
     "end_time": "2018-04-30T11:48:14.312042Z",
     "start_time": "2018-04-30T11:48:14.304314Z"
    }
   },
   "outputs": [],
   "source": [
    "def test_model(nlp):\n",
    "    texts = [\"find a hotel with good wifi\",\n",
    "             \"find me the cheapest gym near work\",\n",
    "             \"show me the best hotel in berlin\"]\n",
    "    docs = nlp.pipe(texts)\n",
    "    for doc in docs:\n",
    "        print(doc.text)\n",
    "        print([(t.text, t.dep_, t.head.text) for t in doc if t.dep_ != '-'])"
   ]
  },
  {
   "cell_type": "code",
   "execution_count": 8,
   "metadata": {
    "ExecuteTime": {
     "end_time": "2018-04-30T11:48:17.448276Z",
     "start_time": "2018-04-30T11:48:17.392263Z"
    }
   },
   "outputs": [
    {
     "name": "stdout",
     "output_type": "stream",
     "text": [
      "find a hotel with good wifi\n",
      "[('find', 'ROOT', 'find'), ('hotel', 'PLACE', 'find'), ('good', 'QUALITY', 'wifi'), ('wifi', 'ATTRIBUTE', 'hotel')]\n",
      "find me the cheapest gym near work\n",
      "[('find', 'ROOT', 'find'), ('cheapest', 'QUALITY', 'gym'), ('gym', 'PLACE', 'find'), ('near', 'ATTRIBUTE', 'gym'), ('work', 'TIME', 'near')]\n",
      "show me the best hotel in berlin\n",
      "[('show', 'ROOT', 'show'), ('best', 'QUALITY', 'hotel'), ('hotel', 'PLACE', 'show'), ('berlin', 'LOCATION', 'hotel')]\n"
     ]
    }
   ],
   "source": [
    "test_model(nlp)"
   ]
  },
  {
   "cell_type": "code",
   "execution_count": null,
   "metadata": {},
   "outputs": [],
   "source": []
  }
 ],
 "metadata": {
  "kernelspec": {
   "display_name": "Python 3",
   "language": "python",
   "name": "python3"
  },
  "language_info": {
   "codemirror_mode": {
    "name": "ipython",
    "version": 3
   },
   "file_extension": ".py",
   "mimetype": "text/x-python",
   "name": "python",
   "nbconvert_exporter": "python",
   "pygments_lexer": "ipython3",
   "version": "3.6.5"
  },
  "toc": {
   "base_numbering": 1,
   "nav_menu": {},
   "number_sections": true,
   "sideBar": true,
   "skip_h1_title": false,
   "title_cell": "Table of Contents",
   "title_sidebar": "Contents",
   "toc_cell": false,
   "toc_position": {},
   "toc_section_display": true,
   "toc_window_display": false
  }
 },
 "nbformat": 4,
 "nbformat_minor": 2
}
