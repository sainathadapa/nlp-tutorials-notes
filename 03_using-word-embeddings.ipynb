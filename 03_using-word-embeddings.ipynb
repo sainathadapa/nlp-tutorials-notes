{
 "cells": [
  {
   "cell_type": "code",
   "execution_count": 1,
   "metadata": {
    "ExecuteTime": {
     "end_time": "2017-10-14T21:34:18.215923Z",
     "start_time": "2017-10-14T21:34:00.937244Z"
    },
    "collapsed": false,
    "deletable": true,
    "editable": true
   },
   "outputs": [
    {
     "name": "stderr",
     "output_type": "stream",
     "text": [
      "Using TensorFlow backend.\n"
     ]
    },
    {
     "data": {
      "text/plain": [
       "'2.0.8'"
      ]
     },
     "execution_count": 1,
     "metadata": {},
     "output_type": "execute_result"
    }
   ],
   "source": [
    "import keras\n",
    "keras.__version__"
   ]
  },
  {
   "cell_type": "markdown",
   "metadata": {
    "deletable": true,
    "editable": true
   },
   "source": [
    "There are two ways to obtain word embeddings:\n",
    "\n",
    "1. Learn word embeddings jointly with the main task you care about (e.g. document classification or sentiment prediction). In this setup, you would start with random word vectors, then learn your word vectors in the same way that you learn the weights of a neural network.\n",
    "2. Load into your model word embeddings that were pre-computed using a different machine learning task than the one you are trying to solve. These are called \"pre-trained word embeddings\"."
   ]
  },
  {
   "cell_type": "markdown",
   "metadata": {
    "deletable": true,
    "editable": true,
    "heading_collapsed": true
   },
   "source": [
    "# Learning word embeddings with the Embedding layer"
   ]
  },
  {
   "cell_type": "code",
   "execution_count": 2,
   "metadata": {
    "ExecuteTime": {
     "end_time": "2017-10-14T21:34:18.220697Z",
     "start_time": "2017-10-14T21:34:18.217648Z"
    },
    "collapsed": true,
    "deletable": true,
    "editable": true,
    "hidden": true
   },
   "outputs": [],
   "source": [
    "from keras.layers import Embedding"
   ]
  },
  {
   "cell_type": "code",
   "execution_count": 3,
   "metadata": {
    "ExecuteTime": {
     "end_time": "2017-10-14T21:34:18.318838Z",
     "start_time": "2017-10-14T21:34:18.223566Z"
    },
    "collapsed": true,
    "deletable": true,
    "editable": true,
    "hidden": true
   },
   "outputs": [],
   "source": [
    "# the embedding layer takes at least two arguments\n",
    "# the number of possible tokens, here (1000) (1+maximum word index)\n",
    "# and the dimensionality of the embeddings, here 64\n",
    "embedding_layer = Embedding(1000, 64)"
   ]
  },
  {
   "cell_type": "markdown",
   "metadata": {
    "deletable": true,
    "editable": true,
    "hidden": true
   },
   "source": [
    "- The Embedding layer is best understood as a dictionary mapping integer indices (which stand for specific words) to dense vectors.\n",
    "- The Embedding layer takes as input a 2D tensor of integers, of shape (samples, sequence_length), where each entry is a sequence of integers\n",
    "- It can embed sequences of variable lengths\n",
    "- All sequences in a batach must have the same length\n",
    "- This layer returns a 3D floating tensor, of shape (samples, sequence_length, embedding_dimensionality)"
   ]
  },
  {
   "cell_type": "markdown",
   "metadata": {
    "deletable": true,
    "editable": true,
    "heading_collapsed": true
   },
   "source": [
    "# IMDB movie review sentiment prediciton task"
   ]
  },
  {
   "cell_type": "code",
   "execution_count": 4,
   "metadata": {
    "ExecuteTime": {
     "end_time": "2017-10-14T21:34:18.409363Z",
     "start_time": "2017-10-14T21:34:18.321803Z"
    },
    "collapsed": true,
    "deletable": true,
    "editable": true,
    "hidden": true
   },
   "outputs": [],
   "source": [
    "from keras.datasets import imdb\n",
    "from keras import preprocessing"
   ]
  },
  {
   "cell_type": "code",
   "execution_count": 5,
   "metadata": {
    "ExecuteTime": {
     "end_time": "2017-10-14T21:34:18.501143Z",
     "start_time": "2017-10-14T21:34:18.413427Z"
    },
    "collapsed": true,
    "deletable": true,
    "editable": true,
    "hidden": true
   },
   "outputs": [],
   "source": [
    "# number of words to consider as features\n",
    "max_features = 10000\n",
    "# cut texts after this number of words\n",
    "maxlen = 20"
   ]
  },
  {
   "cell_type": "code",
   "execution_count": 6,
   "metadata": {
    "ExecuteTime": {
     "end_time": "2017-10-14T21:34:24.107800Z",
     "start_time": "2017-10-14T21:34:18.505482Z"
    },
    "collapsed": false,
    "deletable": true,
    "editable": true,
    "hidden": true
   },
   "outputs": [],
   "source": [
    "(X_train, y_train), (X_test, y_test) = imdb.load_data(num_words = max_features)"
   ]
  },
  {
   "cell_type": "code",
   "execution_count": 7,
   "metadata": {
    "ExecuteTime": {
     "end_time": "2017-10-14T21:34:24.114703Z",
     "start_time": "2017-10-14T21:34:24.109836Z"
    },
    "collapsed": false,
    "deletable": true,
    "editable": true,
    "hidden": true
   },
   "outputs": [
    {
     "data": {
      "text/plain": [
       "array([ list([1, 14, 22, 16, 43, 530, 973, 1622, 1385, 65, 458, 4468, 66, 3941, 4, 173, 36, 256, 5, 25, 100, 43, 838, 112, 50, 670, 2, 9, 35, 480, 284, 5, 150, 4, 172, 112, 167, 2, 336, 385, 39, 4, 172, 4536, 1111, 17, 546, 38, 13, 447, 4, 192, 50, 16, 6, 147, 2025, 19, 14, 22, 4, 1920, 4613, 469, 4, 22, 71, 87, 12, 16, 43, 530, 38, 76, 15, 13, 1247, 4, 22, 17, 515, 17, 12, 16, 626, 18, 2, 5, 62, 386, 12, 8, 316, 8, 106, 5, 4, 2223, 5244, 16, 480, 66, 3785, 33, 4, 130, 12, 16, 38, 619, 5, 25, 124, 51, 36, 135, 48, 25, 1415, 33, 6, 22, 12, 215, 28, 77, 52, 5, 14, 407, 16, 82, 2, 8, 4, 107, 117, 5952, 15, 256, 4, 2, 7, 3766, 5, 723, 36, 71, 43, 530, 476, 26, 400, 317, 46, 7, 4, 2, 1029, 13, 104, 88, 4, 381, 15, 297, 98, 32, 2071, 56, 26, 141, 6, 194, 7486, 18, 4, 226, 22, 21, 134, 476, 26, 480, 5, 144, 30, 5535, 18, 51, 36, 28, 224, 92, 25, 104, 4, 226, 65, 16, 38, 1334, 88, 12, 16, 283, 5, 16, 4472, 113, 103, 32, 15, 16, 5345, 19, 178, 32]),\n",
       "       list([1, 194, 1153, 194, 8255, 78, 228, 5, 6, 1463, 4369, 5012, 134, 26, 4, 715, 8, 118, 1634, 14, 394, 20, 13, 119, 954, 189, 102, 5, 207, 110, 3103, 21, 14, 69, 188, 8, 30, 23, 7, 4, 249, 126, 93, 4, 114, 9, 2300, 1523, 5, 647, 4, 116, 9, 35, 8163, 4, 229, 9, 340, 1322, 4, 118, 9, 4, 130, 4901, 19, 4, 1002, 5, 89, 29, 952, 46, 37, 4, 455, 9, 45, 43, 38, 1543, 1905, 398, 4, 1649, 26, 6853, 5, 163, 11, 3215, 2, 4, 1153, 9, 194, 775, 7, 8255, 2, 349, 2637, 148, 605, 2, 8003, 15, 123, 125, 68, 2, 6853, 15, 349, 165, 4362, 98, 5, 4, 228, 9, 43, 2, 1157, 15, 299, 120, 5, 120, 174, 11, 220, 175, 136, 50, 9, 4373, 228, 8255, 5, 2, 656, 245, 2350, 5, 4, 9837, 131, 152, 491, 18, 2, 32, 7464, 1212, 14, 9, 6, 371, 78, 22, 625, 64, 1382, 9, 8, 168, 145, 23, 4, 1690, 15, 16, 4, 1355, 5, 28, 6, 52, 154, 462, 33, 89, 78, 285, 16, 145, 95]),\n",
       "       list([1, 14, 47, 8, 30, 31, 7, 4, 249, 108, 7, 4, 5974, 54, 61, 369, 13, 71, 149, 14, 22, 112, 4, 2401, 311, 12, 16, 3711, 33, 75, 43, 1829, 296, 4, 86, 320, 35, 534, 19, 263, 4821, 1301, 4, 1873, 33, 89, 78, 12, 66, 16, 4, 360, 7, 4, 58, 316, 334, 11, 4, 1716, 43, 645, 662, 8, 257, 85, 1200, 42, 1228, 2578, 83, 68, 3912, 15, 36, 165, 1539, 278, 36, 69, 2, 780, 8, 106, 14, 6905, 1338, 18, 6, 22, 12, 215, 28, 610, 40, 6, 87, 326, 23, 2300, 21, 23, 22, 12, 272, 40, 57, 31, 11, 4, 22, 47, 6, 2307, 51, 9, 170, 23, 595, 116, 595, 1352, 13, 191, 79, 638, 89, 2, 14, 9, 8, 106, 607, 624, 35, 534, 6, 227, 7, 129, 113]),\n",
       "       ...,\n",
       "       list([1, 11, 6, 230, 245, 6401, 9, 6, 1225, 446, 2, 45, 2174, 84, 8322, 4007, 21, 4, 912, 84, 2, 325, 725, 134, 2, 1715, 84, 5, 36, 28, 57, 1099, 21, 8, 140, 8, 703, 5, 2, 84, 56, 18, 1644, 14, 9, 31, 7, 4, 9406, 1209, 2295, 2, 1008, 18, 6, 20, 207, 110, 563, 12, 8, 2901, 2, 8, 97, 6, 20, 53, 4767, 74, 4, 460, 364, 1273, 29, 270, 11, 960, 108, 45, 40, 29, 2961, 395, 11, 6, 4065, 500, 7, 2, 89, 364, 70, 29, 140, 4, 64, 4780, 11, 4, 2678, 26, 178, 4, 529, 443, 2, 5, 27, 710, 117, 2, 8123, 165, 47, 84, 37, 131, 818, 14, 595, 10, 10, 61, 1242, 1209, 10, 10, 288, 2260, 1702, 34, 2901, 2, 4, 65, 496, 4, 231, 7, 790, 5, 6, 320, 234, 2766, 234, 1119, 1574, 7, 496, 4, 139, 929, 2901, 2, 7750, 5, 4241, 18, 4, 8497, 2, 250, 11, 1818, 7561, 4, 4217, 5408, 747, 1115, 372, 1890, 1006, 541, 9303, 7, 4, 59, 2, 4, 3586, 2]),\n",
       "       list([1, 1446, 7079, 69, 72, 3305, 13, 610, 930, 8, 12, 582, 23, 5, 16, 484, 685, 54, 349, 11, 4120, 2959, 45, 58, 1466, 13, 197, 12, 16, 43, 23, 2, 5, 62, 30, 145, 402, 11, 4131, 51, 575, 32, 61, 369, 71, 66, 770, 12, 1054, 75, 100, 2198, 8, 4, 105, 37, 69, 147, 712, 75, 3543, 44, 257, 390, 5, 69, 263, 514, 105, 50, 286, 1814, 23, 4, 123, 13, 161, 40, 5, 421, 4, 116, 16, 897, 13, 2, 40, 319, 5872, 112, 6700, 11, 4803, 121, 25, 70, 3468, 4, 719, 3798, 13, 18, 31, 62, 40, 8, 7200, 4, 2, 7, 14, 123, 5, 942, 25, 8, 721, 12, 145, 5, 202, 12, 160, 580, 202, 12, 6, 52, 58, 2, 92, 401, 728, 12, 39, 14, 251, 8, 15, 251, 5, 2, 12, 38, 84, 80, 124, 12, 9, 23]),\n",
       "       list([1, 17, 6, 194, 337, 7, 4, 204, 22, 45, 254, 8, 106, 14, 123, 4, 2, 270, 2, 5, 2, 2, 732, 2098, 101, 405, 39, 14, 1034, 4, 1310, 9, 115, 50, 305, 12, 47, 4, 168, 5, 235, 7, 38, 111, 699, 102, 7, 4, 4039, 9245, 9, 24, 6, 78, 1099, 17, 2345, 2, 21, 27, 9685, 6139, 5, 2, 1603, 92, 1183, 4, 1310, 7, 4, 204, 42, 97, 90, 35, 221, 109, 29, 127, 27, 118, 8, 97, 12, 157, 21, 6789, 2, 9, 6, 66, 78, 1099, 4, 631, 1191, 5, 2642, 272, 191, 1070, 6, 7585, 8, 2197, 2, 2, 544, 5, 383, 1271, 848, 1468, 2, 497, 2, 8, 1597, 8778, 2, 21, 60, 27, 239, 9, 43, 8368, 209, 405, 10, 10, 12, 764, 40, 4, 248, 20, 12, 16, 5, 174, 1791, 72, 7, 51, 6, 1739, 22, 4, 204, 131, 9])], dtype=object)"
      ]
     },
     "execution_count": 7,
     "metadata": {},
     "output_type": "execute_result"
    }
   ],
   "source": [
    "X_train"
   ]
  },
  {
   "cell_type": "code",
   "execution_count": 8,
   "metadata": {
    "ExecuteTime": {
     "end_time": "2017-10-14T21:34:24.230040Z",
     "start_time": "2017-10-14T21:34:24.117079Z"
    },
    "collapsed": false,
    "deletable": true,
    "editable": true,
    "hidden": true
   },
   "outputs": [
    {
     "data": {
      "text/plain": [
       "(25000,)"
      ]
     },
     "execution_count": 8,
     "metadata": {},
     "output_type": "execute_result"
    }
   ],
   "source": [
    "X_train.shape"
   ]
  },
  {
   "cell_type": "code",
   "execution_count": 9,
   "metadata": {
    "ExecuteTime": {
     "end_time": "2017-10-14T21:34:24.975609Z",
     "start_time": "2017-10-14T21:34:24.233372Z"
    },
    "collapsed": true,
    "deletable": true,
    "editable": true,
    "hidden": true
   },
   "outputs": [],
   "source": [
    "# this turns our lists of integers into a 2D integer tensor of shape (samples, maxlen)\n",
    "X_train = preprocessing.sequence.pad_sequences(X_train, maxlen = maxlen)\n",
    "X_test  = preprocessing.sequence.pad_sequences(X_test, maxlen = maxlen)"
   ]
  },
  {
   "cell_type": "code",
   "execution_count": 10,
   "metadata": {
    "ExecuteTime": {
     "end_time": "2017-10-14T21:34:24.984274Z",
     "start_time": "2017-10-14T21:34:24.978337Z"
    },
    "collapsed": true,
    "deletable": true,
    "editable": true,
    "hidden": true
   },
   "outputs": [],
   "source": [
    "?preprocessing.sequence.pad_sequences"
   ]
  },
  {
   "cell_type": "code",
   "execution_count": 11,
   "metadata": {
    "ExecuteTime": {
     "end_time": "2017-10-14T21:34:25.099643Z",
     "start_time": "2017-10-14T21:34:24.986434Z"
    },
    "collapsed": false,
    "deletable": true,
    "editable": true,
    "hidden": true
   },
   "outputs": [
    {
     "data": {
      "text/plain": [
       "(25000, 20)"
      ]
     },
     "execution_count": 11,
     "metadata": {},
     "output_type": "execute_result"
    }
   ],
   "source": [
    "X_train.shape"
   ]
  },
  {
   "cell_type": "code",
   "execution_count": 12,
   "metadata": {
    "ExecuteTime": {
     "end_time": "2017-10-14T21:34:25.192981Z",
     "start_time": "2017-10-14T21:34:25.102838Z"
    },
    "collapsed": false,
    "deletable": true,
    "editable": true,
    "hidden": true
   },
   "outputs": [
    {
     "data": {
      "text/plain": [
       "array([[  65,   16,   38, ...,   19,  178,   32],\n",
       "       [  23,    4, 1690, ...,   16,  145,   95],\n",
       "       [1352,   13,  191, ...,    7,  129,  113],\n",
       "       ..., \n",
       "       [  11, 1818, 7561, ...,    4, 3586,    2],\n",
       "       [  92,  401,  728, ...,   12,    9,   23],\n",
       "       [ 764,   40,    4, ...,  204,  131,    9]], dtype=int32)"
      ]
     },
     "execution_count": 12,
     "metadata": {},
     "output_type": "execute_result"
    }
   ],
   "source": [
    "X_train"
   ]
  },
  {
   "cell_type": "code",
   "execution_count": 13,
   "metadata": {
    "ExecuteTime": {
     "end_time": "2017-10-14T21:34:25.288100Z",
     "start_time": "2017-10-14T21:34:25.196747Z"
    },
    "collapsed": true,
    "deletable": true,
    "editable": true,
    "hidden": true
   },
   "outputs": [],
   "source": [
    "from keras.models import Sequential\n",
    "from keras.layers import Flatten, Dense"
   ]
  },
  {
   "cell_type": "code",
   "execution_count": 14,
   "metadata": {
    "ExecuteTime": {
     "end_time": "2017-10-14T21:34:25.453055Z",
     "start_time": "2017-10-14T21:34:25.292522Z"
    },
    "collapsed": false,
    "deletable": true,
    "editable": true,
    "hidden": true
   },
   "outputs": [
    {
     "name": "stdout",
     "output_type": "stream",
     "text": [
      "_________________________________________________________________\n",
      "Layer (type)                 Output Shape              Param #   \n",
      "=================================================================\n",
      "embedding_2 (Embedding)      (None, 20, 8)             80000     \n",
      "_________________________________________________________________\n",
      "flatten_1 (Flatten)          (None, 160)               0         \n",
      "_________________________________________________________________\n",
      "dense_1 (Dense)              (None, 1)                 161       \n",
      "=================================================================\n",
      "Total params: 80,161\n",
      "Trainable params: 80,161\n",
      "Non-trainable params: 0\n",
      "_________________________________________________________________\n"
     ]
    }
   ],
   "source": [
    "model = Sequential()\n",
    "model.add(Embedding(10000, 8, input_length = maxlen))\n",
    "# our activations have shape (samples, maxlen, 8) now\n",
    "model.add(Flatten())\n",
    "# shape is (samples, maxlen*8)\n",
    "model.add(Dense(1, activation = 'sigmoid'))\n",
    "model.compile(optimizer = 'rmsprop', loss = 'binary_crossentropy', metrics = ['acc'])\n",
    "model.summary()"
   ]
  },
  {
   "cell_type": "code",
   "execution_count": 15,
   "metadata": {
    "ExecuteTime": {
     "end_time": "2017-10-14T21:34:43.307297Z",
     "start_time": "2017-10-14T21:34:25.455484Z"
    },
    "collapsed": false,
    "deletable": true,
    "editable": true,
    "hidden": true
   },
   "outputs": [
    {
     "name": "stdout",
     "output_type": "stream",
     "text": [
      "Train on 20000 samples, validate on 5000 samples\n",
      "Epoch 1/10\n",
      "1s - loss: 0.6560 - acc: 0.6482 - val_loss: 0.5906 - val_acc: 0.7146\n",
      "Epoch 2/10\n",
      "1s - loss: 0.5189 - acc: 0.7595 - val_loss: 0.5117 - val_acc: 0.7364\n",
      "Epoch 3/10\n",
      "1s - loss: 0.4512 - acc: 0.7933 - val_loss: 0.4949 - val_acc: 0.7470\n",
      "Epoch 4/10\n",
      "1s - loss: 0.4190 - acc: 0.8069 - val_loss: 0.4905 - val_acc: 0.7538\n",
      "Epoch 5/10\n",
      "1s - loss: 0.3965 - acc: 0.8198 - val_loss: 0.4914 - val_acc: 0.7572\n",
      "Epoch 6/10\n",
      "1s - loss: 0.3784 - acc: 0.8311 - val_loss: 0.4953 - val_acc: 0.7594\n",
      "Epoch 7/10\n",
      "1s - loss: 0.3624 - acc: 0.8419 - val_loss: 0.5004 - val_acc: 0.7574\n",
      "Epoch 8/10\n",
      "1s - loss: 0.3474 - acc: 0.8484 - val_loss: 0.5058 - val_acc: 0.7572\n",
      "Epoch 9/10\n",
      "1s - loss: 0.3330 - acc: 0.8582 - val_loss: 0.5122 - val_acc: 0.7528\n",
      "Epoch 10/10\n",
      "1s - loss: 0.3194 - acc: 0.8669 - val_loss: 0.5183 - val_acc: 0.7554\n"
     ]
    }
   ],
   "source": [
    "history = model.fit(X_train, y_train,\n",
    "                   epochs = 10, batch_size = 32, \n",
    "                   validation_split = 0.2, verbose = 2)"
   ]
  },
  {
   "cell_type": "markdown",
   "metadata": {
    "deletable": true,
    "editable": true
   },
   "source": [
    "# Using pre-trained word embeddings"
   ]
  },
  {
   "cell_type": "markdown",
   "metadata": {
    "deletable": true,
    "editable": true,
    "heading_collapsed": true
   },
   "source": [
    "## Download imdb raw data"
   ]
  },
  {
   "cell_type": "code",
   "execution_count": 16,
   "metadata": {
    "ExecuteTime": {
     "end_time": "2017-10-14T21:34:44.429945Z",
     "start_time": "2017-10-14T21:34:43.310937Z"
    },
    "collapsed": true,
    "deletable": true,
    "editable": true,
    "hidden": true
   },
   "outputs": [],
   "source": [
    "import os\n",
    "\n",
    "imdb_dir = './aclImdb'\n",
    "train_dir = os.path.join(imdb_dir, 'train')\n",
    "\n",
    "labels = []\n",
    "texts = []\n",
    "\n",
    "for label_type in ['neg', 'pos']:\n",
    "    dir_name = os.path.join(train_dir, label_type)\n",
    "    for fname in os.listdir(dir_name):\n",
    "        if fname[-4:] == '.txt':\n",
    "            f = open(os.path.join(dir_name, fname))\n",
    "            texts.append(f.read())\n",
    "            f.close()\n",
    "            if label_type == 'neg':\n",
    "                labels.append(0)\n",
    "            else:\n",
    "                labels.append(1)"
   ]
  },
  {
   "cell_type": "code",
   "execution_count": 17,
   "metadata": {
    "ExecuteTime": {
     "end_time": "2017-10-14T21:34:44.439126Z",
     "start_time": "2017-10-14T21:34:44.432190Z"
    },
    "collapsed": false,
    "deletable": true,
    "editable": true,
    "hidden": true
   },
   "outputs": [
    {
     "data": {
      "text/plain": [
       "[0, 0, 0, 0, 0]"
      ]
     },
     "execution_count": 17,
     "metadata": {},
     "output_type": "execute_result"
    }
   ],
   "source": [
    "labels[:5]"
   ]
  },
  {
   "cell_type": "code",
   "execution_count": 18,
   "metadata": {
    "ExecuteTime": {
     "end_time": "2017-10-14T21:34:44.532936Z",
     "start_time": "2017-10-14T21:34:44.441563Z"
    },
    "collapsed": false,
    "deletable": true,
    "editable": true,
    "hidden": true
   },
   "outputs": [
    {
     "data": {
      "text/plain": [
       "[\"Like most comments I saw this film under the name of The Witching which is the reissue title. Apparently Necromancy which is the original is better but I doubt it.<br /><br />Most scenes of the witching still include most necromancy scenes and these are still bad. In many ways I think the added nudity of the witching at least added some entertainment value! But don't be fooled -there's only 3 scenes with nudity and it's of the people standing around variety. No diabolique rumpy pumpy involved!<br /><br />This movie is so inherently awful it's difficult to know what to criticise first. The dialogue is awful and straight out of the Troma locker. At least Troma is tongue in cheek though. This is straight-faced boredom personified. The acting is variable with Pamela Franklin (Flora the possessed kid in The Innocents would you believe!) the worst with her high-pitched screechy voice. Welles seems merely waiting for his pay cheque. The other female lead has a creepy face so I don't know why Pamela thought she could trust her in the film! And the doctor is pretty bad too. He also looks worringly like Gene Wilder.<br /><br />It is ineptly filmed with scenes changing for no reason and editing is choppy. This is because the witching is a copy and paste job and not a subtle one at that. Only the lighting is OK. The sound is also dreadful and it's difficult to hear with the appalling new soundtrack which never shuts up. The 'ghost' mother is also equally rubbish but the actress is so hilariously bad at acting that at least it provides some unintentional laughs.<br /><br />Really this film (the witching at least) is only for the unwary. It can't have many sane fans as it's pretty unwatchable and I actually found it mind-numbingly dull! <br /><br />The best bit was when the credits rolled - enough said so simply better to this poor excuse for a movie LIKE THE PLAGUE!\",\n",
       " 'This is the worst movie I have seen for years! It starts ridicoulus and continues in the same way. I thnik when is something going to happen in this film,,,, and the the acting is worse. The ending lifts it a bit and saves the movie from a total flop. Mark Wahlberg is a bad actor in a bad movie. Sorry Tim Burton Batman was good but this one sucks.',\n",
       " 'This movie should not be watched as it was meant to be a flop. Ram Gopal Verma first wanted to make this a remake of classic bollywood movie \"Sholay\", but after having problems with the original makers decided to go ahead with the project and... i guess leave all the good parts of the movie (acting, script, songs, music, comedy, action etc) out and shoot the movie just because he already happen to hire the crew. Waste of money, waste of time. After making movies like Rangeela, Satya, and Company he pulled a Coppola (Godfather) on us; What were you thinking RGV? Anyways, the story is, though hard to follow, is almost like the Old sholay. Ajay Devgan playing Heero (Beeru, sholay) and Ajay, new kid on the block playing Ajay (Jay,sholay). Both \"bad yet funny\" friends help a cop capture a bad guy first. Later in the movie, now Retired cop hires them as personal security and safeguarding from the hands of a very most wanted Bubban played by Amitabh Bachan. In case you haven\\'t been watching Bollywood movies, the Good guys win in the end. There I just saved you 3 precious hours of your life!',\n",
       " \"Although Bette Davis did a WONDERFUL job as Mildred, I felt that the film wasn't the best I had seen. At the end of the movie I was left feeling like there was something missing in it.<br /><br />Bette Davis did a perfect job, though, and she made me hate her and pity her all the while. Leslie Howard did very good as the lovelorn Philip Carey, and I so pitied him throughout the movie for being in love with such a horrible dame. It's such a sad thing when one finds him/herself in love with a bad seed. And especially if it's someone like Philp Carey, who is a sensitive person, though pathetic.<br /><br />In the end, the acting was what came through and not the plot. The ending scene was particularly good, but I am not one to give it away. Although others may find this movie good, I was one who found it so-so. I should recommend this movie to those who like a bad seed so they can see what may happen to them if they find themselves in love with that horrible person.\",\n",
       " 'What a great word \"re-imagining\" is. Isn\\'t that what they call Dawn of the Dead MMIV (2004)? A clever word indeed - it disguises the term that everyone has grown to hate, \"remake\" that is, and makes it almost sound as if the process of making one was creative and involved the imagination. Well, damn, was I misled. At least I was seduced more by the thought of countless gore and unbridled violence than by the idea of \"re-imagining,\" though it played a role.<br /><br />Still, why make a remake? Directors do it for only a few reasons really: to update a movie for a modern audience, or because they personally love the original and want to make a tribute to it. An homage, if you will. Nonetheless, it all generally (I do admit exceptions) boils down to one thing: stealing someone\\'s idea and reshaping it (or \"re-imagining\" it) so that those who would never see it or understand it would pay money to see it. It\\'s like Coles\\'/Cliffs\\' notes; dump everything in a blender, purify all that is more puzzling and curious and throw in a few artificial flavors. In other words, a great marketing scheme.<br /><br />So what\\'s wrong with this one? Well, I\\'ll start with what I liked. I liked the opening scenes. Thanks to CGI and a bigger budget we could actually get a grasp of the chaos of the zombie holocaust Romero tried to communicate in the original through minimalist means. We see the city in ruins, thousands of zombies: chaos and death. Two words that look beautiful on screen. Then it all falls apart.<br /><br />This set-up leads nowhere. The movie does what almost every remake does. It adds more of everything except character, atmosphere, and story. It\\'s noisier, (in some sense) bloodier, and more full of main characters who appear only to die in nonsensical subplots. The setting, the mall which played a crucial role in the original film\\'s story and theme, is purely coincidental. The idea communicated in Romero\\'s film, the pure ecstatic joy of having \"a mall all to yourself as a fortress,\" is gone here. Further, this \"re-imagining\" has no moxie, no spirit, no balls. It assumes (probably quite rightly) that the audience has no attention span and doesn\\'t bother to get us interested in the characters or the story. The film is rushed and misses the quieter interactions of the four characters of the original. You actually grew to care about those people in Romero\\'s version because there was a certain realism to their existence despite the insanity outside the mall. Here, you don\\'t care when or who goes: what matters is how they go.<br /><br />What else is their to say? The film is not scary. It has one or two \"jump\" scenes and it tries to make up for the rest with gore and loud special effects. As a story it\\'s really too choppy to be followed and the conflicts between the characters are too underdeveloped to save it. The humor is also reduced to a few one-liners (and one really good character: Andy). After that, what remains? An ending that is plainly ridiculous and far inferior to the subdued, inevitable ambiguity of the original film. But, despite it being a pretty bad film (though not quite as bad as some other remakes), it should be remembered for one thing: it kicked The Passion of Christ from it\\'s number one spot in the box office. Well done zombies.']"
      ]
     },
     "execution_count": 18,
     "metadata": {},
     "output_type": "execute_result"
    }
   ],
   "source": [
    "texts[:5]"
   ]
  },
  {
   "cell_type": "markdown",
   "metadata": {
    "deletable": true,
    "editable": true
   },
   "source": [
    "## Tokenize the data"
   ]
  },
  {
   "cell_type": "code",
   "execution_count": 19,
   "metadata": {
    "ExecuteTime": {
     "end_time": "2017-10-14T21:34:44.631975Z",
     "start_time": "2017-10-14T21:34:44.535752Z"
    },
    "collapsed": true,
    "deletable": true,
    "editable": true
   },
   "outputs": [],
   "source": [
    "from keras.preprocessing.text import Tokenizer\n",
    "from keras.preprocessing.sequence import pad_sequences\n",
    "import numpy as np"
   ]
  },
  {
   "cell_type": "code",
   "execution_count": 20,
   "metadata": {
    "ExecuteTime": {
     "end_time": "2017-10-14T21:34:44.737685Z",
     "start_time": "2017-10-14T21:34:44.636349Z"
    },
    "collapsed": true,
    "deletable": true,
    "editable": true
   },
   "outputs": [],
   "source": [
    "maxlen = 100  # We will cut reviews after 100 words\n",
    "training_samples = 200  # We will be training on 200 samples\n",
    "validation_samples = 10000  # We will be validating on 10000 samples\n",
    "max_words = 10000  # We will only consider the top 10,000 words in the dataset"
   ]
  },
  {
   "cell_type": "code",
   "execution_count": 21,
   "metadata": {
    "ExecuteTime": {
     "end_time": "2017-10-14T21:34:54.911768Z",
     "start_time": "2017-10-14T21:34:44.741459Z"
    },
    "collapsed": false,
    "deletable": true,
    "editable": true
   },
   "outputs": [],
   "source": [
    "tokenizer = Tokenizer(num_words = max_words)\n",
    "tokenizer.fit_on_texts(texts)\n",
    "sequences = tokenizer.texts_to_sequences(texts)"
   ]
  },
  {
   "cell_type": "code",
   "execution_count": 22,
   "metadata": {
    "ExecuteTime": {
     "end_time": "2017-10-14T21:34:54.962366Z",
     "start_time": "2017-10-14T21:34:54.914074Z"
    },
    "collapsed": false,
    "deletable": true,
    "editable": true
   },
   "outputs": [
    {
     "data": {
      "text/plain": [
       "{'industry\\x85': 83335,\n",
       " 'dorff': 13676,\n",
       " 'hog': 13499,\n",
       " 'mcnamara': 21230,\n",
       " 'knuckle': 18442,\n",
       " 'stories\\x85': 77858,\n",
       " 'practitioner': 22438,\n",
       " 'permissible': 86017,\n",
       " 'flexible': 23027,\n",
       " \"harris'\": 18611,\n",
       " 'climates': 40524,\n",
       " 'parakeet': 39097,\n",
       " 'candidature': 88376,\n",
       " 'gin': 24471,\n",
       " 'collisions': 43361,\n",
       " 'washburn': 33932,\n",
       " 'revolutions': 19814,\n",
       " 'whirlpool': 28605,\n",
       " 'tools': 7834,\n",
       " 'vents': 28343,\n",
       " '500ad': 42871,\n",
       " 'whatch': 66444,\n",
       " \"stopkewich's\": 84833,\n",
       " 'ugh': 6589,\n",
       " 'strasberg': 32205,\n",
       " 'deconstruct': 20012,\n",
       " 'avowedly': 76345,\n",
       " 'biplane': 36080,\n",
       " 'drusse': 33979,\n",
       " 'inquisitive': 29623,\n",
       " 'floorpan': 84697,\n",
       " 'cylons': 12479,\n",
       " 'vivek': 33248,\n",
       " 'zones': 23123,\n",
       " 'comicy': 62665,\n",
       " \"'piece\": 36671,\n",
       " 'peet': 12150,\n",
       " 'proposed': 16411,\n",
       " 'grunts': 17493,\n",
       " 'barcelona': 18677,\n",
       " 'commender': 34668,\n",
       " 'hickville': 54204,\n",
       " 'frikkin': 59769,\n",
       " 'subtitle': 14560,\n",
       " 'cowered': 61239,\n",
       " 'kyrano': 35123,\n",
       " 'roses': 10759,\n",
       " 'rohal': 87733,\n",
       " 'unashamed': 22507,\n",
       " 'mameha': 25615,\n",
       " 'preferring': 16964,\n",
       " \"'london's\": 81840,\n",
       " \"lily'\": 57569,\n",
       " 'gens': 27239,\n",
       " 'althea': 55520,\n",
       " 'ambiguous': 5148,\n",
       " 'perverted': 7868,\n",
       " 'masturbates': 24318,\n",
       " 'monorail': 36095,\n",
       " 'assassins': 10593,\n",
       " \"collora's\": 35746,\n",
       " 'derm': 87028,\n",
       " 'capulet': 35052,\n",
       " 'macho': 5633,\n",
       " 'assistants': 15006,\n",
       " 'bemoan': 33035,\n",
       " 'penquin': 38183,\n",
       " 'opposing': 10207,\n",
       " \"burns'\": 40583,\n",
       " 'janos': 15474,\n",
       " 'zavet': 61423,\n",
       " 'katana': 27339,\n",
       " \"friend'\": 35111,\n",
       " 'appelonia': 82714,\n",
       " 'piven': 41878,\n",
       " 'sybil': 10226,\n",
       " 'donovan': 15708,\n",
       " 'interpretations': 7507,\n",
       " \"frith's\": 80896,\n",
       " 'thermometer': 30856,\n",
       " \"clair's\": 40489,\n",
       " 'minding': 18529,\n",
       " '1982s': 52405,\n",
       " 'caprios': 76914,\n",
       " 'showman': 21506,\n",
       " \"raj's\": 40566,\n",
       " 'rested': 36363,\n",
       " 'strongboy': 87124,\n",
       " 'ghod': 46877,\n",
       " 'margarethe': 25062,\n",
       " 'panders': 23432,\n",
       " 'jag': 30324,\n",
       " 'disorder': 5910,\n",
       " 'dye': 12726,\n",
       " 'heaping': 20667,\n",
       " 'chum': 23746,\n",
       " 'waaay': 33539,\n",
       " 'borge': 30419,\n",
       " \"barlow's\": 75014,\n",
       " 'condemns': 27846,\n",
       " 'physically': 3104,\n",
       " 'idiosyncratic': 14499,\n",
       " 'asssociated': 68853,\n",
       " 'mvd': 56825,\n",
       " 'affective': 39482,\n",
       " 'purplish': 79365,\n",
       " 'spiritualism': 29347,\n",
       " 'reveled': 48609,\n",
       " 'crispen': 74748,\n",
       " \"kind'\": 84017,\n",
       " \"tomlinson's\": 51595,\n",
       " \"bootstraps'\": 69479,\n",
       " 'eisei': 52930,\n",
       " 'snub': 84653,\n",
       " 'bowman': 27106,\n",
       " \"danes'\": 20399,\n",
       " 'incompetents': 45983,\n",
       " 'vi': 39925,\n",
       " 'mesmerizes': 48387,\n",
       " 'aides': 27099,\n",
       " 'sandu': 24323,\n",
       " 'mclendon': 55436,\n",
       " 'abhimaan': 82749,\n",
       " 'rattlesnakes': 44487,\n",
       " 'blasphemy': 17848,\n",
       " 'prometheus': 56941,\n",
       " 'fondly': 11729,\n",
       " 'sewer': 11357,\n",
       " 'fof': 41765,\n",
       " 'hustlers': 38231,\n",
       " 'cluelessness': 27705,\n",
       " \"'hip'\": 55267,\n",
       " 'barton': 8777,\n",
       " \"hines'\": 36532,\n",
       " \"'religion\": 85016,\n",
       " 'vejigante': 54460,\n",
       " 'ramps': 67881,\n",
       " 'narrations': 29079,\n",
       " 'electrical': 13017,\n",
       " 'staple': 10195,\n",
       " 'casts': 6019,\n",
       " 'romolo': 48202,\n",
       " 'fundamentals': 23382,\n",
       " 'kkk': 22253,\n",
       " 'puri': 10507,\n",
       " 'pheromonal': 71473,\n",
       " 'pamphleteering': 77269,\n",
       " 'spotters': 85450,\n",
       " \"four's\": 86528,\n",
       " 'sobbingly': 61637,\n",
       " 'ohs': 56968,\n",
       " 'hepton': 27359,\n",
       " 'contorts': 43954,\n",
       " 'mork': 26142,\n",
       " 'meaning': 1214,\n",
       " 'curio': 16136,\n",
       " 'verge': 7899,\n",
       " 'rakhi': 42399,\n",
       " 'spiritless': 37832,\n",
       " 'andalusia': 70725,\n",
       " 'theat': 65953,\n",
       " 'hpd2': 44349,\n",
       " 'dumpy': 22096,\n",
       " 'francken': 88358,\n",
       " 'peter': 823,\n",
       " 'macneille': 34341,\n",
       " 'treatments': 18743,\n",
       " 'trespass': 47691,\n",
       " 'pasa': 68100,\n",
       " 'carstone': 40475,\n",
       " 'bribed': 26509,\n",
       " 'atem': 68835,\n",
       " 'oater': 29747,\n",
       " 'muddies': 43602,\n",
       " 'hsd': 65062,\n",
       " 'low': 361,\n",
       " \"monkey'\": 68788,\n",
       " \"hunting'\": 67980,\n",
       " 'novac': 78327,\n",
       " 'nobility': 12462,\n",
       " 'flightsuit': 70394,\n",
       " \"x'er\": 53828,\n",
       " 'furthermore': 4100,\n",
       " 'sugared': 80196,\n",
       " 'nbody': 68735,\n",
       " 'regional': 15790,\n",
       " 'stephane': 34535,\n",
       " 'catharses': 75364,\n",
       " 'stiffness': 45103,\n",
       " 'sharyn': 39790,\n",
       " 'carter': 3506,\n",
       " 'unserious': 50533,\n",
       " 'kasdan': 16765,\n",
       " 'licoln': 78627,\n",
       " \"serpent's\": 83550,\n",
       " 'atchison': 74104,\n",
       " 'bechlarn': 50802,\n",
       " \"european'\": 46519,\n",
       " 'acclaimed': 5374,\n",
       " 'meticulously': 22377,\n",
       " 'populations': 24999,\n",
       " \"bake's\": 27391,\n",
       " 'campest': 66508,\n",
       " 'survive': 2005,\n",
       " 'hysterics': 15155,\n",
       " 'retiree': 46536,\n",
       " 'tenniel': 68051,\n",
       " 'panting': 20854,\n",
       " 'forbrydelsens': 40740,\n",
       " 'softness': 33053,\n",
       " 'flourish': 16620,\n",
       " 'gratitude': 12966,\n",
       " 'rowen': 58875,\n",
       " \"b'elanna\": 43991,\n",
       " 'refreshes': 48288,\n",
       " \"cassidy's\": 20365,\n",
       " 'zodiac': 7921,\n",
       " 'urmitz': 73608,\n",
       " 'pageant': 21748,\n",
       " 'haight': 71000,\n",
       " 'godby': 81938,\n",
       " \"schmid's\": 30337,\n",
       " 'odets': 56500,\n",
       " 'steart': 63190,\n",
       " 'autograph': 18500,\n",
       " \"'thriller'\": 45948,\n",
       " 'nearest': 8568,\n",
       " 'blethyn': 17046,\n",
       " 'dully': 38228,\n",
       " 'sheltered': 17079,\n",
       " 'crucifux': 68304,\n",
       " \"ronda's\": 82238,\n",
       " 'cry': 1412,\n",
       " 'dorks': 28737,\n",
       " 'actio': 80351,\n",
       " \"'i'd\": 68063,\n",
       " 'trnka': 21848,\n",
       " 'cucumber': 47851,\n",
       " 'maude': 16039,\n",
       " 'byron': 8491,\n",
       " 'hoaky': 85219,\n",
       " 'channel': 1305,\n",
       " 'suriani': 55052,\n",
       " 'mcinnery': 81555,\n",
       " 'telegraphing': 71836,\n",
       " 'gruelling': 53170,\n",
       " 'aliens': 2533,\n",
       " 'classify': 12513,\n",
       " 'excommunication': 45644,\n",
       " 'smartaleck': 44748,\n",
       " 'nailbiters': 75648,\n",
       " 'distractingly': 36808,\n",
       " 'saawariya': 51754,\n",
       " \"rock'n'roll\": 18409,\n",
       " 'scan': 10183,\n",
       " 'massacres': 22489,\n",
       " 'disordered': 31090,\n",
       " \"'see'\": 49337,\n",
       " 'audie': 29142,\n",
       " 'boudoir': 65661,\n",
       " \"o'neill\": 9580,\n",
       " \"franco's\": 20124,\n",
       " 'highwater': 48965,\n",
       " \"malick's\": 48308,\n",
       " 'taxpayer': 41186,\n",
       " 'gorky': 72650,\n",
       " 'equidor': 75241,\n",
       " \"chanteuse's\": 74313,\n",
       " 'characters\\x97the': 76329,\n",
       " 'intersection': 26123,\n",
       " \"chick'\": 59537,\n",
       " 'swishy': 58988,\n",
       " 'privileged': 12890,\n",
       " \"death's\": 32100,\n",
       " 'daltrey': 39597,\n",
       " 'charleston': 26537,\n",
       " 'lasso': 68166,\n",
       " 'larry': 2789,\n",
       " 'ming': 12013,\n",
       " 'necklaces': 29265,\n",
       " 'schindlers': 42726,\n",
       " 'fridge': 12375,\n",
       " 'solemnity': 33028,\n",
       " 'unstoned': 84451,\n",
       " '40min': 64413,\n",
       " 'biblical': 5981,\n",
       " 'rushing': 12828,\n",
       " \"fernando's\": 59135,\n",
       " 'mucci': 73501,\n",
       " 'collage': 11976,\n",
       " '34th': 28851,\n",
       " 'wez': 75329,\n",
       " 'attended': 7012,\n",
       " 'ahn': 49319,\n",
       " 'balloonist': 83593,\n",
       " 'voyeur': 14491,\n",
       " 'datedness': 66009,\n",
       " 'ineffectiveness': 46035,\n",
       " 'stacking': 22924,\n",
       " 'speckled': 41785,\n",
       " 'beatiful': 47654,\n",
       " 'mcandrew': 25248,\n",
       " \"imdb's\": 10334,\n",
       " 'rivière': 50373,\n",
       " 'kay': 4808,\n",
       " \"tourneur's\": 28331,\n",
       " 'yali': 40161,\n",
       " 'godlike': 47660,\n",
       " 'evenhanded': 75251,\n",
       " 'rules': 2265,\n",
       " \"board's\": 46544,\n",
       " 'magnum': 11900,\n",
       " 'penis': 8944,\n",
       " 'gangsterism': 36487,\n",
       " 'slideshow': 71884,\n",
       " 'hutchins': 52647,\n",
       " 'burnett': 15882,\n",
       " 'turgenev': 59693,\n",
       " 'comedian': 3018,\n",
       " 'omnipresent': 19557,\n",
       " 'impersonating': 11969,\n",
       " 'spicing': 43377,\n",
       " 'forgoes': 47272,\n",
       " \"schlesinger's\": 34559,\n",
       " 'scratched': 17080,\n",
       " 'chronologically': 17930,\n",
       " 'larval': 41453,\n",
       " 'slotnick': 43503,\n",
       " \"'03\": 34507,\n",
       " 'largess': 44308,\n",
       " 'kiosk': 41042,\n",
       " 'desensitization': 56695,\n",
       " 'sears': 30746,\n",
       " 'wavelength': 24957,\n",
       " 'chitchat': 78232,\n",
       " 'democide': 54653,\n",
       " 'matter': 548,\n",
       " 'polygamous': 67282,\n",
       " 'meddle': 39973,\n",
       " 'upends': 78762,\n",
       " 'petrillo': 74613,\n",
       " 'forerunners': 51045,\n",
       " 'unmemorably': 67767,\n",
       " \"make's\": 43737,\n",
       " 'spinell': 68428,\n",
       " 'daimajin': 88203,\n",
       " 'smoothie': 80474,\n",
       " 'guantanamo': 24206,\n",
       " \"ramme's\": 83504,\n",
       " 'assumed': 5020,\n",
       " \"'curtain'\": 77677,\n",
       " 'rigshospitalet': 77184,\n",
       " 'serialkiller': 81492,\n",
       " 'somethihng': 59671,\n",
       " 'jeniffer': 43685,\n",
       " 'youngest': 5491,\n",
       " 'employees': 8376,\n",
       " 'poofed': 53885,\n",
       " 'bizzzzare': 63742,\n",
       " 'tripplehorn': 45643,\n",
       " 'dryfus': 75452,\n",
       " 'nélson': 79283,\n",
       " \"suspects'\": 43289,\n",
       " \"isabelle's\": 35784,\n",
       " \"child's\": 6165,\n",
       " 'widest': 37010,\n",
       " 'illinois': 11745,\n",
       " 'hibernia': 42048,\n",
       " 'sais': 29763,\n",
       " 'comraderie': 71139,\n",
       " 'scamp': 51170,\n",
       " 'hears': 5208,\n",
       " 'heeded': 34752,\n",
       " 'bessie': 21797,\n",
       " 'silently': 12488,\n",
       " 'psychotherapy': 57792,\n",
       " 'ization': 76535,\n",
       " 'anesthesiologists': 66379,\n",
       " 'defaults': 46646,\n",
       " 'meteorites': 45802,\n",
       " 'whiskers': 29816,\n",
       " 'roubaix': 49609,\n",
       " 'deafening': 29498,\n",
       " 'marginalize': 45264,\n",
       " 'roedel': 26052,\n",
       " 'maypo': 71744,\n",
       " 'continents': 21987,\n",
       " 'sunniness': 62368,\n",
       " 'hospitalised': 33175,\n",
       " 'summerson': 78556,\n",
       " 'shanti': 27940,\n",
       " \"'till\": 24143,\n",
       " 'basing': 16555,\n",
       " 'turd': 6486,\n",
       " \"'flopped'\": 65816,\n",
       " 'indelible': 15939,\n",
       " 'calming': 38845,\n",
       " 'corbin': 8633,\n",
       " 'stay': 786,\n",
       " \"einstein's\": 18662,\n",
       " 'summerisle': 36297,\n",
       " 'norah': 25965,\n",
       " 'adventurers': 23239,\n",
       " 'western': 1008,\n",
       " 'souci': 73311,\n",
       " \"harbor'\": 59282,\n",
       " 'inciteful': 73937,\n",
       " \"lincoln's\": 12074,\n",
       " 'amuse': 10014,\n",
       " \"53'\": 70622,\n",
       " 'thesiger': 20482,\n",
       " 'translate': 7247,\n",
       " \"'contamination\": 54253,\n",
       " 'hôtel': 71993,\n",
       " 'hebetude': 31837,\n",
       " 'sequiturs': 24550,\n",
       " 'violating': 18987,\n",
       " 'mobsters': 11739,\n",
       " 'alcatraz': 17984,\n",
       " 'arouses': 22284,\n",
       " \"u2's\": 52060,\n",
       " \"gopal's\": 59459,\n",
       " 'devgun': 38728,\n",
       " 'julianne': 27878,\n",
       " 'pressly': 38617,\n",
       " \"perdition'\": 51304,\n",
       " 'pitcher': 13236,\n",
       " \"'ferris\": 68657,\n",
       " 'aristos': 84858,\n",
       " \"doo'\": 45367,\n",
       " 'mystery': 733,\n",
       " '69': 22674,\n",
       " 'nom': 48481,\n",
       " 'rag': 15744,\n",
       " 'hypermodern': 70464,\n",
       " \"mulroney's\": 61460,\n",
       " 'utmost': 12128,\n",
       " 'cropper': 31907,\n",
       " 'tether': 53287,\n",
       " '1600': 36747,\n",
       " \"mecha's\": 57676,\n",
       " 'refuges': 76055,\n",
       " 'perrine': 42111,\n",
       " 'artisanal': 72166,\n",
       " 'unfurnished': 45146,\n",
       " 'singers': 5122,\n",
       " 'pinpoints': 50025,\n",
       " 'buds': 20251,\n",
       " 'doffs': 55463,\n",
       " 'whove': 80208,\n",
       " 'ipod': 27997,\n",
       " 'dror': 60532,\n",
       " 'reccommend': 75467,\n",
       " 'sheeze': 66271,\n",
       " \"hiraizumi's\": 64637,\n",
       " 'uncharismatic': 26874,\n",
       " \"wannabee's\": 80120,\n",
       " 'colm': 18848,\n",
       " 'hayter': 30385,\n",
       " 'remission': 87853,\n",
       " 'tense': 3093,\n",
       " 'closures': 31788,\n",
       " 'guardians': 21111,\n",
       " 'tidal': 26476,\n",
       " 'geraldine': 11274,\n",
       " 'piédras': 78117,\n",
       " 'hilmir': 55641,\n",
       " 'partisan': 30872,\n",
       " 'arrive': 3847,\n",
       " 'rahm': 80548,\n",
       " 'seahunt': 50525,\n",
       " 'shity': 60203,\n",
       " 'tactful': 47004,\n",
       " 'cheezoid': 57752,\n",
       " 'cycles': 24003,\n",
       " 'hyung': 38610,\n",
       " 'natty': 47432,\n",
       " 'revolta': 71190,\n",
       " 'slouchy': 77048,\n",
       " 'skirts': 13627,\n",
       " 'apprenticeship': 46605,\n",
       " 'poor': 335,\n",
       " 'prenez': 71353,\n",
       " 'strunzdumm': 80950,\n",
       " 'devolve': 27953,\n",
       " 'startles': 39056,\n",
       " 'ewan': 9981,\n",
       " 'verisimilitude': 19631,\n",
       " 'sonar': 82580,\n",
       " \"hurley's\": 53568,\n",
       " 'ounce': 9936,\n",
       " 'ciochetti': 74969,\n",
       " 'glorified': 10902,\n",
       " 'alterations': 24723,\n",
       " \"mitch's\": 35820,\n",
       " 'ilan': 46421,\n",
       " 'dracula': 3982,\n",
       " 'bismol': 42302,\n",
       " 'seams': 19599,\n",
       " 'hagerty': 37128,\n",
       " 'discourages': 25867,\n",
       " 'delane': 42504,\n",
       " 'venture': 5559,\n",
       " \"desplechin's\": 31745,\n",
       " 'dudley': 5968,\n",
       " 'adv': 14843,\n",
       " 'char': 20373,\n",
       " 'dimentional': 44322,\n",
       " \"'likeable'\": 54952,\n",
       " 'fleetwood': 34346,\n",
       " 'lazy': 2868,\n",
       " \"1961's\": 59939,\n",
       " 'sluttish': 26440,\n",
       " 'cheeky': 13298,\n",
       " 'zan': 41224,\n",
       " 'hahahhaa': 52902,\n",
       " 'nino': 24567,\n",
       " '1947': 11546,\n",
       " 'worshipping': 25279,\n",
       " \"'black\": 17478,\n",
       " 'hocked': 43397,\n",
       " \"'bewitched'\": 75950,\n",
       " 'calicos': 51832,\n",
       " 'axl': 59426,\n",
       " 'deray': 70456,\n",
       " \"speilberg's\": 48229,\n",
       " \"fuhrer's\": 42737,\n",
       " 'subjectively': 31851,\n",
       " 'godfather': 3513,\n",
       " 'casino': 6169,\n",
       " 'blvd': 33560,\n",
       " 'mcintire': 9875,\n",
       " 'oooo': 29494,\n",
       " 'conspirators': 24842,\n",
       " 'deadbeat': 19359,\n",
       " 'schaefer': 51113,\n",
       " 'food': 1643,\n",
       " \"'we've\": 44679,\n",
       " 'boyz': 18992,\n",
       " 'paragraph': 8189,\n",
       " 'juke': 33685,\n",
       " 'tipped': 22331,\n",
       " 'eater': 9595,\n",
       " 'pile': 2438,\n",
       " 'pm': 13469,\n",
       " 'mancoy': 74541,\n",
       " 'dorcas': 48571,\n",
       " 'yoji': 34067,\n",
       " 'tournier': 81819,\n",
       " 'emasculating': 50252,\n",
       " 'tap': 3923,\n",
       " \"'sister\": 32159,\n",
       " 'exacting': 22242,\n",
       " 'sensitises': 73535,\n",
       " 'shoeing': 65638,\n",
       " \"kill's\": 28422,\n",
       " 'lizzie': 17006,\n",
       " 'yore': 23391,\n",
       " 'bergdorf': 30220,\n",
       " 'eggheads': 43081,\n",
       " 'loring': 52658,\n",
       " 'geträumte': 48013,\n",
       " 'satterfield': 66958,\n",
       " 'escalators': 59535,\n",
       " 'cordobes': 58861,\n",
       " 'bambino': 26660,\n",
       " 'disillusioned': 12333,\n",
       " \"3's\": 41600,\n",
       " 'hardass': 42312,\n",
       " 'shut': 2928,\n",
       " 'raters': 30594,\n",
       " 'hookin': 53611,\n",
       " 'culls': 85796,\n",
       " 'dester': 49389,\n",
       " 'close': 488,\n",
       " 'foiling': 35452,\n",
       " \"'birth\": 44918,\n",
       " 'emelius': 51681,\n",
       " 'cote': 40581,\n",
       " \"'zombified'\": 42017,\n",
       " 'nudge': 21328,\n",
       " \"eyes'\": 22128,\n",
       " 'unremarked': 46863,\n",
       " 'tampers': 54925,\n",
       " 'lupton': 83931,\n",
       " 'homage': 3476,\n",
       " 'snitch': 79739,\n",
       " 'gag': 3289,\n",
       " 'definetly': 21138,\n",
       " 'arthur': 1604,\n",
       " 'googling': 44106,\n",
       " \"patty's\": 45746,\n",
       " 'polls': 39151,\n",
       " 'inexistent': 36818,\n",
       " 'defintely': 67553,\n",
       " 'hyun': 41857,\n",
       " 'stark': 5332,\n",
       " 'superlguing': 60005,\n",
       " 'blinkered': 33609,\n",
       " 'pledging': 44113,\n",
       " \"bodyguard's\": 75800,\n",
       " 'norrland': 48738,\n",
       " \"s'est\": 51914,\n",
       " 'cracked': 11657,\n",
       " 'dunny': 72322,\n",
       " 'eastman': 26644,\n",
       " 'landing\\x85': 87541,\n",
       " 'collector': 8388,\n",
       " 'procedurals': 60627,\n",
       " 'partly': 3524,\n",
       " \"spheeris's\": 85804,\n",
       " 'oafs': 42245,\n",
       " 'skunks': 44134,\n",
       " \"shakti's\": 85127,\n",
       " 'predominantly': 17396,\n",
       " 'licence': 24502,\n",
       " 'disablement': 80048,\n",
       " 'sheet': 9709,\n",
       " 'kippei': 86582,\n",
       " 'philosophers': 31921,\n",
       " \"thomas's\": 75236,\n",
       " 'magazine': 3407,\n",
       " 'fw': 74365,\n",
       " 'meddlesome': 35553,\n",
       " 'sempergratis': 78349,\n",
       " 'stevenses': 83077,\n",
       " \"menzies'\": 54425,\n",
       " 'mehndi': 34518,\n",
       " 'sichuan': 34673,\n",
       " \"schaffer's\": 44730,\n",
       " 'nota': 80060,\n",
       " 'arousal': 41559,\n",
       " 'jong': 17562,\n",
       " \"shootin'\": 37106,\n",
       " 'materials': 10375,\n",
       " 'mercial': 46257,\n",
       " 'heresy': 36259,\n",
       " 'direfully': 53178,\n",
       " 'rsther': 52473,\n",
       " 'oompah': 64225,\n",
       " 'gleaned': 29894,\n",
       " 'testicles': 29430,\n",
       " 'smit': 59506,\n",
       " \"clooney's\": 22536,\n",
       " \"preminger's\": 13371,\n",
       " \"forman's\": 44184,\n",
       " 'stockinged': 74424,\n",
       " 'completely': 337,\n",
       " 'strutting': 18251,\n",
       " 'kickers': 59876,\n",
       " \"boris'\": 55999,\n",
       " 'egress': 43055,\n",
       " 'dy': 75357,\n",
       " 'writen': 66959,\n",
       " 'honestly': 1247,\n",
       " 'associate': 8268,\n",
       " \"gallipolli'\": 76977,\n",
       " 'seaton': 28639,\n",
       " 'hoven': 87921,\n",
       " 'king': 708,\n",
       " \"2480's\": 78062,\n",
       " 'cinderella': 2382,\n",
       " 'charlesmanson': 52447,\n",
       " 'boise': 67380,\n",
       " 'expansion': 18227,\n",
       " 'woodlands': 37801,\n",
       " 'meaningless': 4025,\n",
       " 'adopting': 21417,\n",
       " 'cowers': 46426,\n",
       " 'bunk': 26043,\n",
       " 'differed': 28017,\n",
       " 'url': 36454,\n",
       " \"'prince'\": 73530,\n",
       " \"welles's\": 51084,\n",
       " 'whirled': 51477,\n",
       " 'zag': 46594,\n",
       " \"lego'\": 52745,\n",
       " 'lillihamer': 85616,\n",
       " 'suffering': 2071,\n",
       " 'adela': 49958,\n",
       " 'aquarius': 36565,\n",
       " 'russain': 71377,\n",
       " 'simular': 41216,\n",
       " 'cleanest': 31889,\n",
       " '1958': 7552,\n",
       " 'slater': 8029,\n",
       " 'thru': 4420,\n",
       " 'manco': 83174,\n",
       " 'hokey': 5639,\n",
       " 'avenues': 25388,\n",
       " \"89's\": 57324,\n",
       " \"city'\": 26551,\n",
       " 'harlin´s': 63113,\n",
       " 'triad': 10297,\n",
       " 'supermoral': 62473,\n",
       " 'ride': 1364,\n",
       " 'solicits': 77996,\n",
       " 'pores': 58826,\n",
       " 'intergroup': 59160,\n",
       " 'unloading': 39630,\n",
       " 'mistake': 1320,\n",
       " 'ajay': 7476,\n",
       " 'languages': 8899,\n",
       " \"safans'\": 76421,\n",
       " 'hortense': 27085,\n",
       " \"wilder's\": 16696,\n",
       " 'smoother': 25801,\n",
       " \"psychosis'\": 85703,\n",
       " 'unopened': 57680,\n",
       " 'chickened': 87325,\n",
       " 'fedex': 30820,\n",
       " 'hustling': 21718,\n",
       " 'rooted': 10239,\n",
       " 'critical': 2766,\n",
       " 'photoshopped': 67374,\n",
       " \"'heathers'\": 58652,\n",
       " 'grimm': 18418,\n",
       " 'personal': 962,\n",
       " 'immersion': 19205,\n",
       " 'humongous': 22393,\n",
       " 'archeological': 64108,\n",
       " 'dancers': 3968,\n",
       " 'cube': 3281,\n",
       " 'h2efw': 83565,\n",
       " 'orators': 81151,\n",
       " 'albatross': 80567,\n",
       " 'dooper': 59325,\n",
       " 'modelled': 29156,\n",
       " 'deviations': 29052,\n",
       " 'uttermost': 87231,\n",
       " 'dreama': 50158,\n",
       " 'acetylene': 58813,\n",
       " \"bride'\": 46239,\n",
       " 'sorcha': 43695,\n",
       " 'insufferable': 12072,\n",
       " \"l'altro\": 64747,\n",
       " 'paulson': 30351,\n",
       " 'overkill': 13068,\n",
       " 'strangeness': 12760,\n",
       " \"'near\": 80565,\n",
       " 'jasper': 24410,\n",
       " \"veronica's\": 79354,\n",
       " \"eclipse'\": 83792,\n",
       " 'steerage': 37458,\n",
       " \"five's\": 54762,\n",
       " 'neighbours': 10575,\n",
       " \"'ways'\": 49682,\n",
       " 'decaune': 55532,\n",
       " 'hemorrhage': 32395,\n",
       " 'tot': 32805,\n",
       " 'lingers': 13154,\n",
       " 'yamashiro': 63674,\n",
       " 'homosexuality': 6195,\n",
       " 'parodying': 14429,\n",
       " 'imperioli': 21866,\n",
       " 'inadequacies': 30682,\n",
       " 'fowzi': 87769,\n",
       " 'mishmash': 17203,\n",
       " 'raged': 68471,\n",
       " 'overshadow': 25041,\n",
       " 'moragn': 66917,\n",
       " 'discoverer': 63943,\n",
       " 'aida': 28335,\n",
       " 'imaginative': 3284,\n",
       " \"armand's\": 64528,\n",
       " 'swordsman': 12980,\n",
       " \"kikki's\": 77905,\n",
       " 'cats': 3977,\n",
       " \"o'neal\": 11167,\n",
       " 'masochistic': 11964,\n",
       " \"nastassja's\": 55272,\n",
       " 'wimped': 77421,\n",
       " 'klutzy': 41250,\n",
       " 'davids': 62073,\n",
       " 'gaging': 65176,\n",
       " 'where': 118,\n",
       " 'lees': 37513,\n",
       " 'desperado': 23867,\n",
       " 'rd': 42749,\n",
       " 'pitying': 18983,\n",
       " 'authors': 8790,\n",
       " 'agrument': 84120,\n",
       " 'liba': 51193,\n",
       " 'handedness': 33381,\n",
       " 'bishoff': 46907,\n",
       " 'caters': 21686,\n",
       " 'they': 33,\n",
       " 'emancipated': 37169,\n",
       " 'romances': 6971,\n",
       " 'boondock': 32994,\n",
       " \"'spacecamp'\": 78445,\n",
       " 'snoops': 44529,\n",
       " 'tebaldi': 50491,\n",
       " 'reconciled': 21460,\n",
       " 'forest¨': 80077,\n",
       " \"'private\": 43970,\n",
       " 'abuse': 2563,\n",
       " 'oberman': 76493,\n",
       " 'torpedoing': 50019,\n",
       " 'lists': 8597,\n",
       " 'nanouk': 66644,\n",
       " 'betts': 48160,\n",
       " 'pitbull': 61808,\n",
       " 'fagging': 54023,\n",
       " 'horsesh': 68262,\n",
       " 'twittering': 68340,\n",
       " 'mellower': 71425,\n",
       " \"akshaye's\": 51717,\n",
       " 'beats': 3938,\n",
       " 'demurring': 75788,\n",
       " 'grandiose': 11795,\n",
       " 'cass': 27327,\n",
       " \"ipod's\": 52424,\n",
       " 'kerchief': 31482,\n",
       " 'ethnographer': 80157,\n",
       " \"sigel's\": 82471,\n",
       " 'intercutting': 40077,\n",
       " 'seymour': 6718,\n",
       " 'monde': 44829,\n",
       " \"'synecdoche\": 73253,\n",
       " 'retold': 24304,\n",
       " 'washroom': 35135,\n",
       " 'wiggling': 25814,\n",
       " \"haliday's\": 60037,\n",
       " 'alegria': 54505,\n",
       " 'meriwether': 42523,\n",
       " 'imperious': 30083,\n",
       " 'golfer': 42924,\n",
       " 'footlight': 11302,\n",
       " 'mirrormask': 39733,\n",
       " \"capano's\": 49693,\n",
       " 'sidetracking': 72727,\n",
       " \"accomplice's\": 46961,\n",
       " 'supportive': 8837,\n",
       " 'delineated': 40067,\n",
       " 'terms': 1300,\n",
       " 'mallorqui': 66745,\n",
       " \"reeves'\": 23749,\n",
       " 'drone': 12364,\n",
       " 'wretchedly': 26075,\n",
       " 'crushing': 10376,\n",
       " 'carmelo': 86674,\n",
       " 'schoolkids': 67091,\n",
       " 'najimi': 51485,\n",
       " 'midi': 61837,\n",
       " 'bah': 20191,\n",
       " 'berbson': 72431,\n",
       " 'maximizes': 41826,\n",
       " 'shephard': 39466,\n",
       " 'jenner': 68014,\n",
       " 'mimis': 60412,\n",
       " \"elvira's\": 11273,\n",
       " 'comparison\\x97are': 67290,\n",
       " 'duping': 87514,\n",
       " 'mizu': 53220,\n",
       " 'mirroed': 72405,\n",
       " 'soda': 17441,\n",
       " 'determines': 19193,\n",
       " 'gotta': 3515,\n",
       " \"'power\": 36097,\n",
       " 'cheating': 4188,\n",
       " 'fanatasies': 55716,\n",
       " 'curr': 15444,\n",
       " 'rupee': 53983,\n",
       " 'watanabe': 16879,\n",
       " 'hep': 35778,\n",
       " 'novellas': 83940,\n",
       " 'fulls': 64569,\n",
       " 'ranted': 33999,\n",
       " 'murky': 7228,\n",
       " \"'waxworks\": 85619,\n",
       " 'sportage': 65564,\n",
       " 'aventura': 44028,\n",
       " 'belleau': 50055,\n",
       " 'aq': 49849,\n",
       " 'zues': 46048,\n",
       " 'creaks': 23778,\n",
       " 'symbolize': 22923,\n",
       " 'roasting': 26669,\n",
       " 'tellers': 29320,\n",
       " 'penetration': 31486,\n",
       " 'compassionate': 9251,\n",
       " 'refuted': 42522,\n",
       " 'choreography': 3823,\n",
       " 'incontrovertible': 54692,\n",
       " 'tantalising': 36627,\n",
       " 'beamont': 36670,\n",
       " 'flopsy': 46767,\n",
       " 'warner': 2989,\n",
       " \"cameroun's\": 81779,\n",
       " \"today's\": 1935,\n",
       " 'interventions': 32572,\n",
       " 'subtractions': 46765,\n",
       " 'latches': 25271,\n",
       " 'bravery\\x85': 52063,\n",
       " 'dyer': 11801,\n",
       " 'dustbins': 71631,\n",
       " 'transvestites': 46870,\n",
       " \"kmc's\": 86421,\n",
       " 'troop': 13468,\n",
       " 'knifed': 41268,\n",
       " 'fags': 34104,\n",
       " 'snooty': 21545,\n",
       " 'reaching': 4478,\n",
       " '3012': 71520,\n",
       " 'indescibably': 58805,\n",
       " 'atley': 85839,\n",
       " 'heretical': 26244,\n",
       " 'relevant': 3402,\n",
       " 'kiley': 16093,\n",
       " 'eerie': 3282,\n",
       " 'brücke': 72544,\n",
       " 'cmon': 45227,\n",
       " 'intertwining': 18270,\n",
       " 'toi': 48695,\n",
       " 'buildings': 4510,\n",
       " 'cryer': 43255,\n",
       " 'barky': 49587,\n",
       " 'bruckner': 30987,\n",
       " 'oftenly': 82965,\n",
       " \"travesty's\": 76060,\n",
       " 'detroit': 7224,\n",
       " 'crackling': 18559,\n",
       " 'bullwhip': 29772,\n",
       " 'oscillators': 77977,\n",
       " 'going': 167,\n",
       " 'leaguers': 74634,\n",
       " \"deanna's\": 30321,\n",
       " 'weathering': 84773,\n",
       " 'fiftieth': 86627,\n",
       " 'pitty': 53188,\n",
       " 'buns': 32289,\n",
       " 'cinnamon': 45318,\n",
       " 'termites': 34423,\n",
       " \"'mononoke\": 74602,\n",
       " 'bao': 54490,\n",
       " 'tobikage': 61400,\n",
       " 'jon': 2635,\n",
       " 'cytown': 44640,\n",
       " 'undramatic': 31251,\n",
       " 'ids': 87601,\n",
       " \"surgery'\": 59921,\n",
       " \"predecessor's\": 82439,\n",
       " 'wingfield': 86795,\n",
       " 'chucked': 23021,\n",
       " 'modernist': 24727,\n",
       " 'hateful': 6812,\n",
       " 'paleographic': 74059,\n",
       " 'dunnno': 53722,\n",
       " 'dirossario': 63733,\n",
       " \"rennie's\": 65767,\n",
       " \"wildmon's\": 60803,\n",
       " 'descended': 15662,\n",
       " 'depleting': 52728,\n",
       " \"'drugstore\": 63567,\n",
       " 'volunteers': 13448,\n",
       " 'enshrouded': 34156,\n",
       " \"fight'\": 73855,\n",
       " 'unrelenting': 14149,\n",
       " 'fizzled': 27839,\n",
       " 'avarice': 50248,\n",
       " 'affirming': 16325,\n",
       " \"coffy's\": 44310,\n",
       " \"dash's\": 44457,\n",
       " 'gabriella': 20520,\n",
       " 'slur': 35662,\n",
       " 'pueblos': 83178,\n",
       " 'hammered': 12865,\n",
       " 'dostoyevskian': 87730,\n",
       " \"'arms\": 73383,\n",
       " 'maille': 67975,\n",
       " 'dodesukaden': 75527,\n",
       " 'origins': 6320,\n",
       " 'proponent': 28038,\n",
       " 'lockup': 65296,\n",
       " 'ac': 32311,\n",
       " 'tints': 47355,\n",
       " 'communions': 80824,\n",
       " 'vividly': 6351,\n",
       " 'livien': 38218,\n",
       " \"schwimmer's\": 36538,\n",
       " 'bankrolling': 56332,\n",
       " \"'watch\": 46656,\n",
       " 'secretes': 85836,\n",
       " 'reviewer': 2216,\n",
       " \"schumacher's\": 20018,\n",
       " 'remarry': 26886,\n",
       " 'apposite': 26264,\n",
       " 'curving': 65516,\n",
       " 'cline': 33928,\n",
       " 'brotherconflict': 88019,\n",
       " 'catalina': 18911,\n",
       " \"tango'\": 73033,\n",
       " '35yr': 51943,\n",
       " 'spottiswoode': 63903,\n",
       " 'bluntly': 14747,\n",
       " 'mari': 43648,\n",
       " 'crashingly': 46509,\n",
       " 'filmatography': 62823,\n",
       " 'discombobulated': 69359,\n",
       " ...}"
      ]
     },
     "execution_count": 22,
     "metadata": {},
     "output_type": "execute_result"
    }
   ],
   "source": [
    "word_index = tokenizer.word_index\n",
    "word_index"
   ]
  },
  {
   "cell_type": "code",
   "execution_count": 23,
   "metadata": {
    "ExecuteTime": {
     "end_time": "2017-10-14T21:34:55.562704Z",
     "start_time": "2017-10-14T21:34:54.965490Z"
    },
    "collapsed": true,
    "deletable": true,
    "editable": true
   },
   "outputs": [],
   "source": [
    "data = pad_sequences(sequences, maxlen = maxlen)"
   ]
  },
  {
   "cell_type": "code",
   "execution_count": 24,
   "metadata": {
    "ExecuteTime": {
     "end_time": "2017-10-14T21:34:55.572685Z",
     "start_time": "2017-10-14T21:34:55.565704Z"
    },
    "collapsed": false,
    "deletable": true,
    "editable": true
   },
   "outputs": [
    {
     "data": {
      "text/plain": [
       "array([0, 0, 0, ..., 1, 1, 1])"
      ]
     },
     "execution_count": 24,
     "metadata": {},
     "output_type": "execute_result"
    }
   ],
   "source": [
    "labels = np.asarray(labels)\n",
    "labels"
   ]
  },
  {
   "cell_type": "code",
   "execution_count": 25,
   "metadata": {
    "ExecuteTime": {
     "end_time": "2017-10-14T21:34:55.683606Z",
     "start_time": "2017-10-14T21:34:55.575852Z"
    },
    "collapsed": false,
    "deletable": true,
    "editable": true
   },
   "outputs": [],
   "source": [
    "indices = np.arange(data.shape[0])\n",
    "np.random.shuffle(indices)\n",
    "data = data[indices]\n",
    "labels = labels[indices]"
   ]
  },
  {
   "cell_type": "code",
   "execution_count": 26,
   "metadata": {
    "ExecuteTime": {
     "end_time": "2017-10-14T21:34:55.780931Z",
     "start_time": "2017-10-14T21:34:55.685883Z"
    },
    "collapsed": true,
    "deletable": true,
    "editable": true
   },
   "outputs": [],
   "source": [
    "x_train = data[:training_samples]\n",
    "y_train = labels[:training_samples]\n",
    "x_val = data[training_samples: training_samples + validation_samples]\n",
    "y_val = labels[training_samples: training_samples + validation_samples]"
   ]
  },
  {
   "cell_type": "markdown",
   "metadata": {
    "deletable": true,
    "editable": true
   },
   "source": [
    "## Pre-process the embeddings"
   ]
  },
  {
   "cell_type": "code",
   "execution_count": 27,
   "metadata": {
    "ExecuteTime": {
     "end_time": "2017-10-14T21:34:55.888670Z",
     "start_time": "2017-10-14T21:34:55.784329Z"
    },
    "collapsed": true,
    "deletable": true,
    "editable": true
   },
   "outputs": [],
   "source": [
    "glove_dir = './'"
   ]
  },
  {
   "cell_type": "code",
   "execution_count": 28,
   "metadata": {
    "ExecuteTime": {
     "end_time": "2017-10-14T21:35:11.934484Z",
     "start_time": "2017-10-14T21:34:55.892938Z"
    },
    "collapsed": true,
    "deletable": true,
    "editable": true
   },
   "outputs": [],
   "source": [
    "embeddings_index = {}\n",
    "f = open(os.path.join(glove_dir, 'glove.6B.100d.txt'))\n",
    "for line in f:\n",
    "    values = line.split()\n",
    "    word = values[0]\n",
    "    coefs = np.asarray(values[1:], dtype='float32')\n",
    "    embeddings_index[word] = coefs\n",
    "f.close()"
   ]
  },
  {
   "cell_type": "markdown",
   "metadata": {
    "collapsed": true,
    "deletable": true,
    "editable": true
   },
   "source": [
    "Let's build an embedding matrix that we will be able to load into an embedding layer. It must be a matrix of shape (max_words, embedding_dim). Note that the index 0 is not supposed to stand for any word or token -- it's a placeholder."
   ]
  },
  {
   "cell_type": "code",
   "execution_count": 29,
   "metadata": {
    "ExecuteTime": {
     "end_time": "2017-10-14T21:35:12.019499Z",
     "start_time": "2017-10-14T21:35:11.937157Z"
    },
    "collapsed": true
   },
   "outputs": [],
   "source": [
    "embedding_dim = 100\n",
    "embedding_matrix = np.zeros((max_words, embedding_dim))\n",
    "for word, i in word_index.items():\n",
    "    embedding_vector = embeddings_index.get(word)\n",
    "    if i < max_words:\n",
    "        if embedding_vector is not None:\n",
    "            # Words not found in embedding index will be all-zeros.\n",
    "            embedding_matrix[i] = embedding_vector"
   ]
  },
  {
   "cell_type": "markdown",
   "metadata": {},
   "source": [
    "## Define a model"
   ]
  },
  {
   "cell_type": "code",
   "execution_count": 30,
   "metadata": {
    "ExecuteTime": {
     "end_time": "2017-10-14T21:35:12.133549Z",
     "start_time": "2017-10-14T21:35:12.021544Z"
    },
    "collapsed": true
   },
   "outputs": [],
   "source": [
    "from keras.models import Sequential\n",
    "from keras.layers import Embedding, Flatten, Dense"
   ]
  },
  {
   "cell_type": "code",
   "execution_count": 31,
   "metadata": {
    "ExecuteTime": {
     "end_time": "2017-10-14T21:35:12.346765Z",
     "start_time": "2017-10-14T21:35:12.137002Z"
    },
    "collapsed": false
   },
   "outputs": [
    {
     "name": "stdout",
     "output_type": "stream",
     "text": [
      "_________________________________________________________________\n",
      "Layer (type)                 Output Shape              Param #   \n",
      "=================================================================\n",
      "embedding_3 (Embedding)      (None, 100, 100)          1000000   \n",
      "_________________________________________________________________\n",
      "flatten_2 (Flatten)          (None, 10000)             0         \n",
      "_________________________________________________________________\n",
      "dense_2 (Dense)              (None, 32)                320032    \n",
      "_________________________________________________________________\n",
      "dense_3 (Dense)              (None, 1)                 33        \n",
      "=================================================================\n",
      "Total params: 1,320,065\n",
      "Trainable params: 1,320,065\n",
      "Non-trainable params: 0\n",
      "_________________________________________________________________\n"
     ]
    }
   ],
   "source": [
    "model = Sequential()\n",
    "model.add(Embedding(max_words, embedding_dim, input_length = maxlen))\n",
    "model.add(Flatten())\n",
    "model.add(Dense(32, activation = 'relu'))\n",
    "model.add(Dense(1, activation = 'sigmoid'))\n",
    "model.summary()"
   ]
  },
  {
   "cell_type": "markdown",
   "metadata": {},
   "source": [
    "## Load the GloVe embeddings in the model"
   ]
  },
  {
   "cell_type": "code",
   "execution_count": 32,
   "metadata": {
    "ExecuteTime": {
     "end_time": "2017-10-14T21:35:12.499969Z",
     "start_time": "2017-10-14T21:35:12.350003Z"
    },
    "collapsed": true
   },
   "outputs": [],
   "source": [
    "model.layers[0].set_weights([embedding_matrix])\n",
    "model.layers[0].trainable = False"
   ]
  },
  {
   "cell_type": "markdown",
   "metadata": {},
   "source": [
    "## Train and evaluate"
   ]
  },
  {
   "cell_type": "code",
   "execution_count": 33,
   "metadata": {
    "ExecuteTime": {
     "end_time": "2017-10-14T21:35:28.002182Z",
     "start_time": "2017-10-14T21:35:12.502810Z"
    },
    "collapsed": false
   },
   "outputs": [
    {
     "name": "stdout",
     "output_type": "stream",
     "text": [
      "Train on 200 samples, validate on 10000 samples\n",
      "Epoch 1/10\n",
      "1s - loss: 1.7629 - acc: 0.5000 - val_loss: 0.7055 - val_acc: 0.5126\n",
      "Epoch 2/10\n",
      "1s - loss: 0.5755 - acc: 0.6850 - val_loss: 0.7681 - val_acc: 0.5101\n",
      "Epoch 3/10\n",
      "1s - loss: 0.4750 - acc: 0.7850 - val_loss: 0.7484 - val_acc: 0.5158\n",
      "Epoch 4/10\n",
      "1s - loss: 0.4438 - acc: 0.8300 - val_loss: 0.6892 - val_acc: 0.5572\n",
      "Epoch 5/10\n",
      "1s - loss: 0.2569 - acc: 0.9900 - val_loss: 0.7687 - val_acc: 0.5286\n",
      "Epoch 6/10\n",
      "1s - loss: 0.1887 - acc: 0.9750 - val_loss: 1.1813 - val_acc: 0.5013\n",
      "Epoch 7/10\n",
      "1s - loss: 0.2346 - acc: 0.9050 - val_loss: 0.7167 - val_acc: 0.5708\n",
      "Epoch 8/10\n",
      "1s - loss: 0.0769 - acc: 1.0000 - val_loss: 1.2446 - val_acc: 0.5015\n",
      "Epoch 9/10\n",
      "1s - loss: 0.1679 - acc: 0.9550 - val_loss: 1.2608 - val_acc: 0.5084\n",
      "Epoch 10/10\n",
      "1s - loss: 0.0586 - acc: 0.9950 - val_loss: 0.8849 - val_acc: 0.5487\n"
     ]
    }
   ],
   "source": [
    "model.compile(optimizer='rmsprop',\n",
    "              loss='binary_crossentropy',\n",
    "              metrics=['acc'])\n",
    "history = model.fit(x_train, y_train,\n",
    "                    epochs=10,\n",
    "                    batch_size=32,\n",
    "                    validation_data=(x_val, y_val),\n",
    "                    verbose = 2)"
   ]
  },
  {
   "cell_type": "code",
   "execution_count": 34,
   "metadata": {
    "ExecuteTime": {
     "end_time": "2017-10-14T21:35:34.481106Z",
     "start_time": "2017-10-14T21:35:32.846468Z"
    },
    "collapsed": false
   },
   "outputs": [
    {
     "data": {
      "image/png": "[encoded data removed]",
      "text/plain": [
       "<matplotlib.figure.Figure at 0x7f764be69e48>"
      ]
     },
     "metadata": {},
     "output_type": "display_data"
    },
    {
     "data": {
      "image/png": "[encoded data removed]",
      "text/plain": [
       "<matplotlib.figure.Figure at 0x7f7642a0e518>"
      ]
     },
     "metadata": {},
     "output_type": "display_data"
    }
   ],
   "source": [
    "import matplotlib.pyplot as plt\n",
    "\n",
    "acc = history.history['acc']\n",
    "val_acc = history.history['val_acc']\n",
    "loss = history.history['loss']\n",
    "val_loss = history.history['val_loss']\n",
    "\n",
    "epochs = range(1, len(acc) + 1)\n",
    "\n",
    "plt.plot(epochs, acc, 'bo', label='Training acc')\n",
    "plt.plot(epochs, val_acc, 'b', label='Validation acc')\n",
    "plt.title('Training and validation accuracy')\n",
    "plt.legend()\n",
    "\n",
    "plt.figure()\n",
    "\n",
    "plt.plot(epochs, loss, 'bo', label='Training loss')\n",
    "plt.plot(epochs, val_loss, 'b', label='Validation loss')\n",
    "plt.title('Training and validation loss')\n",
    "plt.legend()\n",
    "\n",
    "plt.show()"
   ]
  },
  {
   "cell_type": "code",
   "execution_count": null,
   "metadata": {
    "collapsed": true
   },
   "outputs": [],
   "source": []
  }
 ],
 "metadata": {
  "anaconda-cloud": {},
  "kernelspec": {
   "display_name": "Python [default]",
   "language": "python",
   "name": "python3"
  },
  "language_info": {
   "codemirror_mode": {
    "name": "ipython",
    "version": 3
   },
   "file_extension": ".py",
   "mimetype": "text/x-python",
   "name": "python",
   "nbconvert_exporter": "python",
   "pygments_lexer": "ipython3",
   "version": "3.5.3"
  },
  "toc": {
   "nav_menu": {},
   "number_sections": true,
   "sideBar": true,
   "skip_h1_title": false,
   "toc_cell": false,
   "toc_position": {},
   "toc_section_display": "block",
   "toc_window_display": false
  },
  "varInspector": {
   "cols": {
    "lenName": 16,
    "lenType": 16,
    "lenVar": 40
   },
   "kernels_config": {
    "python": {
     "delete_cmd_postfix": "",
     "delete_cmd_prefix": "del ",
     "library": "var_list.py",
     "varRefreshCmd": "print(var_dic_list())"
    },
    "r": {
     "delete_cmd_postfix": ") ",
     "delete_cmd_prefix": "rm(",
     "library": "var_list.r",
     "varRefreshCmd": "cat(var_dic_list()) "
    }
   },
   "types_to_exclude": [
    "module",
    "function",
    "builtin_function_or_method",
    "instance",
    "_Feature"
   ],
   "window_display": false
  }
 },
 "nbformat": 4,
 "nbformat_minor": 2
}
