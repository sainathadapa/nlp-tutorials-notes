{
 "cells": [
  {
   "cell_type": "code",
   "execution_count": 1,
   "metadata": {
    "ExecuteTime": {
     "end_time": "2017-11-06T06:29:40.597399Z",
     "start_time": "2017-11-06T06:29:24.710095Z"
    }
   },
   "outputs": [
    {
     "name": "stderr",
     "output_type": "stream",
     "text": [
      "Using TensorFlow backend.\n"
     ]
    },
    {
     "data": {
      "text/plain": [
       "'2.0.8'"
      ]
     },
     "execution_count": 1,
     "metadata": {},
     "output_type": "execute_result"
    }
   ],
   "source": [
    "import keras\n",
    "keras.__version__"
   ]
  },
  {
   "cell_type": "markdown",
   "metadata": {},
   "source": [
    "There are two ways to obtain word embeddings:\n",
    "\n",
    "1. Learn word embeddings jointly with the main task you care about (e.g. document classification or sentiment prediction). In this setup, you would start with random word vectors, then learn your word vectors in the same way that you learn the weights of a neural network.\n",
    "2. Load into your model word embeddings that were pre-computed using a different machine learning task than the one you are trying to solve. These are called \"pre-trained word embeddings\"."
   ]
  },
  {
   "cell_type": "markdown",
   "metadata": {},
   "source": [
    "# Learning word embeddings with the Embedding layer"
   ]
  },
  {
   "cell_type": "code",
   "execution_count": 2,
   "metadata": {
    "ExecuteTime": {
     "end_time": "2017-11-06T06:30:32.221182Z",
     "start_time": "2017-11-06T06:30:32.215515Z"
    }
   },
   "outputs": [],
   "source": [
    "from keras.layers import Embedding"
   ]
  },
  {
   "cell_type": "code",
   "execution_count": 3,
   "metadata": {
    "ExecuteTime": {
     "end_time": "2017-11-06T06:30:47.460072Z",
     "start_time": "2017-11-06T06:30:47.451653Z"
    }
   },
   "outputs": [],
   "source": [
    "# the embedding layer takes at least two arguments\n",
    "# the number of possible tokens, here (1000) (1+maximum word index)\n",
    "# and the dimensionality of the embeddings, here 64\n",
    "embedding_layer = Embedding(1000, 64)"
   ]
  },
  {
   "cell_type": "markdown",
   "metadata": {},
   "source": [
    "- The Embedding layer is best understood as a dictionary mapping integer indices (which stand for specific words) to dense vectors.\n",
    "- The Embedding layer takes as input a 2D tensor of integers, of shape (samples, sequence_length), where each entry is a sequence of integers\n",
    "- It can embed sequences of variable lengths\n",
    "- All sequences in a batach must have the same length\n",
    "- This layer returns a 3D floating tensor, of shape (samples, sequence_length, embedding_dimensionality)"
   ]
  },
  {
   "cell_type": "markdown",
   "metadata": {},
   "source": [
    "# IMDB movie review sentiment prediciton task"
   ]
  },
  {
   "cell_type": "code",
   "execution_count": 4,
   "metadata": {
    "ExecuteTime": {
     "end_time": "2017-11-06T06:30:51.865907Z",
     "start_time": "2017-11-06T06:30:51.859409Z"
    }
   },
   "outputs": [],
   "source": [
    "from keras.datasets import imdb\n",
    "from keras import preprocessing"
   ]
  },
  {
   "cell_type": "code",
   "execution_count": 5,
   "metadata": {
    "ExecuteTime": {
     "end_time": "2017-11-06T06:30:52.996670Z",
     "start_time": "2017-11-06T06:30:52.990858Z"
    }
   },
   "outputs": [],
   "source": [
    "# number of words to consider as features\n",
    "max_features = 10000\n",
    "# cut texts after this number of words\n",
    "maxlen = 20"
   ]
  },
  {
   "cell_type": "code",
   "execution_count": 6,
   "metadata": {
    "ExecuteTime": {
     "end_time": "2017-11-06T06:30:59.641858Z",
     "start_time": "2017-11-06T06:30:54.051503Z"
    }
   },
   "outputs": [],
   "source": [
    "(X_train, y_train), (X_test, y_test) = imdb.load_data(num_words = max_features)"
   ]
  },
  {
   "cell_type": "code",
   "execution_count": 7,
   "metadata": {
    "ExecuteTime": {
     "end_time": "2017-11-06T06:31:05.347391Z",
     "start_time": "2017-11-06T06:31:05.340712Z"
    }
   },
   "outputs": [
    {
     "data": {
      "text/plain": [
       "(25000,)"
      ]
     },
     "execution_count": 7,
     "metadata": {},
     "output_type": "execute_result"
    }
   ],
   "source": [
    "X_train.shape"
   ]
  },
  {
   "cell_type": "code",
   "execution_count": 9,
   "metadata": {
    "ExecuteTime": {
     "end_time": "2017-11-06T06:31:19.690075Z",
     "start_time": "2017-11-06T06:31:19.682502Z"
    }
   },
   "outputs": [
    {
     "data": {
      "text/plain": [
       "array([ list([1, 14, 22, 16, 43, 530, 973, 1622, 1385, 65, 458, 4468, 66, 3941, 4, 173, 36, 256, 5, 25, 100, 43, 838, 112, 50, 670, 2, 9, 35, 480, 284, 5, 150, 4, 172, 112, 167, 2, 336, 385, 39, 4, 172, 4536, 1111, 17, 546, 38, 13, 447, 4, 192, 50, 16, 6, 147, 2025, 19, 14, 22, 4, 1920, 4613, 469, 4, 22, 71, 87, 12, 16, 43, 530, 38, 76, 15, 13, 1247, 4, 22, 17, 515, 17, 12, 16, 626, 18, 2, 5, 62, 386, 12, 8, 316, 8, 106, 5, 4, 2223, 5244, 16, 480, 66, 3785, 33, 4, 130, 12, 16, 38, 619, 5, 25, 124, 51, 36, 135, 48, 25, 1415, 33, 6, 22, 12, 215, 28, 77, 52, 5, 14, 407, 16, 82, 2, 8, 4, 107, 117, 5952, 15, 256, 4, 2, 7, 3766, 5, 723, 36, 71, 43, 530, 476, 26, 400, 317, 46, 7, 4, 2, 1029, 13, 104, 88, 4, 381, 15, 297, 98, 32, 2071, 56, 26, 141, 6, 194, 7486, 18, 4, 226, 22, 21, 134, 476, 26, 480, 5, 144, 30, 5535, 18, 51, 36, 28, 224, 92, 25, 104, 4, 226, 65, 16, 38, 1334, 88, 12, 16, 283, 5, 16, 4472, 113, 103, 32, 15, 16, 5345, 19, 178, 32])], dtype=object)"
      ]
     },
     "execution_count": 9,
     "metadata": {},
     "output_type": "execute_result"
    }
   ],
   "source": [
    "X_train[:1,]"
   ]
  },
  {
   "cell_type": "code",
   "execution_count": 10,
   "metadata": {
    "ExecuteTime": {
     "end_time": "2017-11-06T06:31:25.351833Z",
     "start_time": "2017-11-06T06:31:24.776409Z"
    }
   },
   "outputs": [],
   "source": [
    "# this turns our lists of integers into a 2D integer tensor of shape (samples, maxlen)\n",
    "X_train = preprocessing.sequence.pad_sequences(X_train, maxlen = maxlen)\n",
    "X_test  = preprocessing.sequence.pad_sequences(X_test, maxlen = maxlen)"
   ]
  },
  {
   "cell_type": "code",
   "execution_count": 11,
   "metadata": {
    "ExecuteTime": {
     "end_time": "2017-11-06T06:31:28.088543Z",
     "start_time": "2017-11-06T06:31:28.034862Z"
    }
   },
   "outputs": [],
   "source": [
    "?preprocessing.sequence.pad_sequences"
   ]
  },
  {
   "cell_type": "code",
   "execution_count": 12,
   "metadata": {
    "ExecuteTime": {
     "end_time": "2017-11-06T06:31:36.775727Z",
     "start_time": "2017-11-06T06:31:36.768044Z"
    }
   },
   "outputs": [
    {
     "data": {
      "text/plain": [
       "(25000, 20)"
      ]
     },
     "execution_count": 12,
     "metadata": {},
     "output_type": "execute_result"
    }
   ],
   "source": [
    "X_train.shape"
   ]
  },
  {
   "cell_type": "code",
   "execution_count": 13,
   "metadata": {
    "ExecuteTime": {
     "end_time": "2017-11-06T06:31:38.093929Z",
     "start_time": "2017-11-06T06:31:38.084382Z"
    }
   },
   "outputs": [
    {
     "data": {
      "text/plain": [
       "array([[  65,   16,   38, ...,   19,  178,   32],\n",
       "       [  23,    4, 1690, ...,   16,  145,   95],\n",
       "       [1352,   13,  191, ...,    7,  129,  113],\n",
       "       ..., \n",
       "       [  11, 1818, 7561, ...,    4, 3586,    2],\n",
       "       [  92,  401,  728, ...,   12,    9,   23],\n",
       "       [ 764,   40,    4, ...,  204,  131,    9]], dtype=int32)"
      ]
     },
     "execution_count": 13,
     "metadata": {},
     "output_type": "execute_result"
    }
   ],
   "source": [
    "X_train"
   ]
  },
  {
   "cell_type": "code",
   "execution_count": 14,
   "metadata": {
    "ExecuteTime": {
     "end_time": "2017-11-06T06:31:39.634141Z",
     "start_time": "2017-11-06T06:31:39.627749Z"
    }
   },
   "outputs": [],
   "source": [
    "from keras.models import Sequential\n",
    "from keras.layers import Flatten, Dense"
   ]
  },
  {
   "cell_type": "code",
   "execution_count": 15,
   "metadata": {
    "ExecuteTime": {
     "end_time": "2017-11-06T06:31:42.942806Z",
     "start_time": "2017-11-06T06:31:42.870582Z"
    }
   },
   "outputs": [
    {
     "name": "stdout",
     "output_type": "stream",
     "text": [
      "_________________________________________________________________\n",
      "Layer (type)                 Output Shape              Param #   \n",
      "=================================================================\n",
      "embedding_2 (Embedding)      (None, 20, 8)             80000     \n",
      "_________________________________________________________________\n",
      "flatten_1 (Flatten)          (None, 160)               0         \n",
      "_________________________________________________________________\n",
      "dense_1 (Dense)              (None, 1)                 161       \n",
      "=================================================================\n",
      "Total params: 80,161\n",
      "Trainable params: 80,161\n",
      "Non-trainable params: 0\n",
      "_________________________________________________________________\n"
     ]
    }
   ],
   "source": [
    "model = Sequential()\n",
    "model.add(Embedding(10000, 8, input_length = maxlen))\n",
    "# our activations have shape (samples, maxlen, 8) now\n",
    "model.add(Flatten())\n",
    "# shape is (samples, maxlen*8)\n",
    "model.add(Dense(1, activation = 'sigmoid'))\n",
    "model.compile(optimizer = 'rmsprop', loss = 'binary_crossentropy', metrics = ['acc'])\n",
    "model.summary()"
   ]
  },
  {
   "cell_type": "code",
   "execution_count": 16,
   "metadata": {
    "ExecuteTime": {
     "end_time": "2017-11-06T06:32:25.266265Z",
     "start_time": "2017-11-06T06:31:52.022101Z"
    }
   },
   "outputs": [
    {
     "name": "stdout",
     "output_type": "stream",
     "text": [
      "Train on 20000 samples, validate on 5000 samples\n",
      "Epoch 1/10\n",
      "7s - loss: 0.6560 - acc: 0.6482 - val_loss: 0.5906 - val_acc: 0.7146\n",
      "Epoch 2/10\n",
      "2s - loss: 0.5189 - acc: 0.7595 - val_loss: 0.5117 - val_acc: 0.7364\n",
      "Epoch 3/10\n",
      "2s - loss: 0.4512 - acc: 0.7933 - val_loss: 0.4949 - val_acc: 0.7470\n",
      "Epoch 4/10\n",
      "2s - loss: 0.4190 - acc: 0.8069 - val_loss: 0.4905 - val_acc: 0.7538\n",
      "Epoch 5/10\n",
      "2s - loss: 0.3965 - acc: 0.8198 - val_loss: 0.4914 - val_acc: 0.7572\n",
      "Epoch 6/10\n",
      "2s - loss: 0.3784 - acc: 0.8311 - val_loss: 0.4953 - val_acc: 0.7594\n",
      "Epoch 7/10\n",
      "2s - loss: 0.3624 - acc: 0.8419 - val_loss: 0.5004 - val_acc: 0.7574\n",
      "Epoch 8/10\n",
      "2s - loss: 0.3474 - acc: 0.8484 - val_loss: 0.5058 - val_acc: 0.7572\n",
      "Epoch 9/10\n",
      "2s - loss: 0.3330 - acc: 0.8582 - val_loss: 0.5122 - val_acc: 0.7528\n",
      "Epoch 10/10\n",
      "2s - loss: 0.3194 - acc: 0.8669 - val_loss: 0.5183 - val_acc: 0.7554\n"
     ]
    }
   ],
   "source": [
    "history = model.fit(X_train, y_train,\n",
    "                   epochs = 10, batch_size = 32, \n",
    "                   validation_split = 0.2, verbose = 2)"
   ]
  },
  {
   "cell_type": "markdown",
   "metadata": {},
   "source": [
    "# Using pre-trained word embeddings"
   ]
  },
  {
   "cell_type": "markdown",
   "metadata": {},
   "source": [
    "## Download imdb raw data"
   ]
  },
  {
   "cell_type": "code",
   "execution_count": 17,
   "metadata": {
    "ExecuteTime": {
     "end_time": "2017-11-06T06:33:55.089211Z",
     "start_time": "2017-11-06T06:32:40.881916Z"
    }
   },
   "outputs": [],
   "source": [
    "import os\n",
    "\n",
    "imdb_dir = './data/aclImdb'\n",
    "train_dir = os.path.join(imdb_dir, 'train')\n",
    "\n",
    "labels = []\n",
    "texts = []\n",
    "\n",
    "for label_type in ['neg', 'pos']:\n",
    "    dir_name = os.path.join(train_dir, label_type)\n",
    "    for fname in os.listdir(dir_name):\n",
    "        if fname[-4:] == '.txt':\n",
    "            f = open(os.path.join(dir_name, fname))\n",
    "            texts.append(f.read())\n",
    "            f.close()\n",
    "            if label_type == 'neg':\n",
    "                labels.append(0)\n",
    "            else:\n",
    "                labels.append(1)"
   ]
  },
  {
   "cell_type": "code",
   "execution_count": 18,
   "metadata": {
    "ExecuteTime": {
     "end_time": "2017-11-06T06:33:55.100032Z",
     "start_time": "2017-11-06T06:33:55.092458Z"
    }
   },
   "outputs": [
    {
     "data": {
      "text/plain": [
       "[0, 0, 0, 0, 0]"
      ]
     },
     "execution_count": 18,
     "metadata": {},
     "output_type": "execute_result"
    }
   ],
   "source": [
    "labels[:5]"
   ]
  },
  {
   "cell_type": "code",
   "execution_count": 19,
   "metadata": {
    "ExecuteTime": {
     "end_time": "2017-11-06T06:33:55.245807Z",
     "start_time": "2017-11-06T06:33:55.102475Z"
    }
   },
   "outputs": [
    {
     "data": {
      "text/plain": [
       "[\"Like most comments I saw this film under the name of The Witching which is the reissue title. Apparently Necromancy which is the original is better but I doubt it.<br /><br />Most scenes of the witching still include most necromancy scenes and these are still bad. In many ways I think the added nudity of the witching at least added some entertainment value! But don't be fooled -there's only 3 scenes with nudity and it's of the people standing around variety. No diabolique rumpy pumpy involved!<br /><br />This movie is so inherently awful it's difficult to know what to criticise first. The dialogue is awful and straight out of the Troma locker. At least Troma is tongue in cheek though. This is straight-faced boredom personified. The acting is variable with Pamela Franklin (Flora the possessed kid in The Innocents would you believe!) the worst with her high-pitched screechy voice. Welles seems merely waiting for his pay cheque. The other female lead has a creepy face so I don't know why Pamela thought she could trust her in the film! And the doctor is pretty bad too. He also looks worringly like Gene Wilder.<br /><br />It is ineptly filmed with scenes changing for no reason and editing is choppy. This is because the witching is a copy and paste job and not a subtle one at that. Only the lighting is OK. The sound is also dreadful and it's difficult to hear with the appalling new soundtrack which never shuts up. The 'ghost' mother is also equally rubbish but the actress is so hilariously bad at acting that at least it provides some unintentional laughs.<br /><br />Really this film (the witching at least) is only for the unwary. It can't have many sane fans as it's pretty unwatchable and I actually found it mind-numbingly dull! <br /><br />The best bit was when the credits rolled - enough said so simply better to this poor excuse for a movie LIKE THE PLAGUE!\",\n",
       " 'This is the worst movie I have seen for years! It starts ridicoulus and continues in the same way. I thnik when is something going to happen in this film,,,, and the the acting is worse. The ending lifts it a bit and saves the movie from a total flop. Mark Wahlberg is a bad actor in a bad movie. Sorry Tim Burton Batman was good but this one sucks.',\n",
       " 'This movie should not be watched as it was meant to be a flop. Ram Gopal Verma first wanted to make this a remake of classic bollywood movie \"Sholay\", but after having problems with the original makers decided to go ahead with the project and... i guess leave all the good parts of the movie (acting, script, songs, music, comedy, action etc) out and shoot the movie just because he already happen to hire the crew. Waste of money, waste of time. After making movies like Rangeela, Satya, and Company he pulled a Coppola (Godfather) on us; What were you thinking RGV? Anyways, the story is, though hard to follow, is almost like the Old sholay. Ajay Devgan playing Heero (Beeru, sholay) and Ajay, new kid on the block playing Ajay (Jay,sholay). Both \"bad yet funny\" friends help a cop capture a bad guy first. Later in the movie, now Retired cop hires them as personal security and safeguarding from the hands of a very most wanted Bubban played by Amitabh Bachan. In case you haven\\'t been watching Bollywood movies, the Good guys win in the end. There I just saved you 3 precious hours of your life!',\n",
       " \"Although Bette Davis did a WONDERFUL job as Mildred, I felt that the film wasn't the best I had seen. At the end of the movie I was left feeling like there was something missing in it.<br /><br />Bette Davis did a perfect job, though, and she made me hate her and pity her all the while. Leslie Howard did very good as the lovelorn Philip Carey, and I so pitied him throughout the movie for being in love with such a horrible dame. It's such a sad thing when one finds him/herself in love with a bad seed. And especially if it's someone like Philp Carey, who is a sensitive person, though pathetic.<br /><br />In the end, the acting was what came through and not the plot. The ending scene was particularly good, but I am not one to give it away. Although others may find this movie good, I was one who found it so-so. I should recommend this movie to those who like a bad seed so they can see what may happen to them if they find themselves in love with that horrible person.\",\n",
       " 'What a great word \"re-imagining\" is. Isn\\'t that what they call Dawn of the Dead MMIV (2004)? A clever word indeed - it disguises the term that everyone has grown to hate, \"remake\" that is, and makes it almost sound as if the process of making one was creative and involved the imagination. Well, damn, was I misled. At least I was seduced more by the thought of countless gore and unbridled violence than by the idea of \"re-imagining,\" though it played a role.<br /><br />Still, why make a remake? Directors do it for only a few reasons really: to update a movie for a modern audience, or because they personally love the original and want to make a tribute to it. An homage, if you will. Nonetheless, it all generally (I do admit exceptions) boils down to one thing: stealing someone\\'s idea and reshaping it (or \"re-imagining\" it) so that those who would never see it or understand it would pay money to see it. It\\'s like Coles\\'/Cliffs\\' notes; dump everything in a blender, purify all that is more puzzling and curious and throw in a few artificial flavors. In other words, a great marketing scheme.<br /><br />So what\\'s wrong with this one? Well, I\\'ll start with what I liked. I liked the opening scenes. Thanks to CGI and a bigger budget we could actually get a grasp of the chaos of the zombie holocaust Romero tried to communicate in the original through minimalist means. We see the city in ruins, thousands of zombies: chaos and death. Two words that look beautiful on screen. Then it all falls apart.<br /><br />This set-up leads nowhere. The movie does what almost every remake does. It adds more of everything except character, atmosphere, and story. It\\'s noisier, (in some sense) bloodier, and more full of main characters who appear only to die in nonsensical subplots. The setting, the mall which played a crucial role in the original film\\'s story and theme, is purely coincidental. The idea communicated in Romero\\'s film, the pure ecstatic joy of having \"a mall all to yourself as a fortress,\" is gone here. Further, this \"re-imagining\" has no moxie, no spirit, no balls. It assumes (probably quite rightly) that the audience has no attention span and doesn\\'t bother to get us interested in the characters or the story. The film is rushed and misses the quieter interactions of the four characters of the original. You actually grew to care about those people in Romero\\'s version because there was a certain realism to their existence despite the insanity outside the mall. Here, you don\\'t care when or who goes: what matters is how they go.<br /><br />What else is their to say? The film is not scary. It has one or two \"jump\" scenes and it tries to make up for the rest with gore and loud special effects. As a story it\\'s really too choppy to be followed and the conflicts between the characters are too underdeveloped to save it. The humor is also reduced to a few one-liners (and one really good character: Andy). After that, what remains? An ending that is plainly ridiculous and far inferior to the subdued, inevitable ambiguity of the original film. But, despite it being a pretty bad film (though not quite as bad as some other remakes), it should be remembered for one thing: it kicked The Passion of Christ from it\\'s number one spot in the box office. Well done zombies.']"
      ]
     },
     "execution_count": 19,
     "metadata": {},
     "output_type": "execute_result"
    }
   ],
   "source": [
    "texts[:5]"
   ]
  },
  {
   "cell_type": "markdown",
   "metadata": {},
   "source": [
    "## Tokenize the data"
   ]
  },
  {
   "cell_type": "code",
   "execution_count": 20,
   "metadata": {
    "ExecuteTime": {
     "end_time": "2017-11-06T06:34:44.694111Z",
     "start_time": "2017-11-06T06:34:44.686467Z"
    }
   },
   "outputs": [],
   "source": [
    "from keras.preprocessing.text import Tokenizer\n",
    "from keras.preprocessing.sequence import pad_sequences\n",
    "import numpy as np"
   ]
  },
  {
   "cell_type": "code",
   "execution_count": 21,
   "metadata": {
    "ExecuteTime": {
     "end_time": "2017-11-06T06:34:45.608443Z",
     "start_time": "2017-11-06T06:34:45.600297Z"
    }
   },
   "outputs": [],
   "source": [
    "maxlen = 100  # We will cut reviews after 100 words\n",
    "training_samples = 200  # We will be training on 200 samples\n",
    "validation_samples = 10000  # We will be validating on 10000 samples\n",
    "max_words = 10000  # We will only consider the top 10,000 words in the dataset"
   ]
  },
  {
   "cell_type": "code",
   "execution_count": 22,
   "metadata": {
    "ExecuteTime": {
     "end_time": "2017-11-06T06:34:56.027095Z",
     "start_time": "2017-11-06T06:34:46.313705Z"
    }
   },
   "outputs": [],
   "source": [
    "tokenizer = Tokenizer(num_words = max_words)\n",
    "tokenizer.fit_on_texts(texts)\n",
    "sequences = tokenizer.texts_to_sequences(texts)"
   ]
  },
  {
   "cell_type": "code",
   "execution_count": 23,
   "metadata": {
    "ExecuteTime": {
     "end_time": "2017-11-06T06:34:56.066286Z",
     "start_time": "2017-11-06T06:34:56.029262Z"
    }
   },
   "outputs": [
    {
     "data": {
      "text/plain": [
       "{'saville': 51592,\n",
       " 'presumbably': 74074,\n",
       " \"trent's\": 26225,\n",
       " 'poisen': 59411,\n",
       " 'sadism': 14414,\n",
       " \"'edward\": 67715,\n",
       " 'tenenbaums': 35075,\n",
       " 'indulgences': 33913,\n",
       " 'nicolie': 61259,\n",
       " 'recognise': 10214,\n",
       " 'macau': 71640,\n",
       " 'stymied': 37804,\n",
       " 'horatio': 20993,\n",
       " 'opposes': 29640,\n",
       " 'assuring': 38476,\n",
       " 'shuttlecraft': 71523,\n",
       " 'thinkthey': 67674,\n",
       " 'avco': 29253,\n",
       " 'dependency': 24977,\n",
       " 'fluctuations': 44526,\n",
       " 'sledging': 80681,\n",
       " 'intervals': 13247,\n",
       " 'bungled': 83200,\n",
       " 'runmanian': 72664,\n",
       " 'improvisationally': 53291,\n",
       " \"eve'\": 52222,\n",
       " 'electromagnetic': 42271,\n",
       " 'alex': 2359,\n",
       " 'yds': 65901,\n",
       " 'sondre': 40063,\n",
       " 'inexperience': 16689,\n",
       " 'throughing': 66809,\n",
       " 'set': 267,\n",
       " 'hume': 21585,\n",
       " \"trompettos'\": 56922,\n",
       " 'adjuster': 87187,\n",
       " 'caselli': 77349,\n",
       " 'horrorfilm': 78017,\n",
       " \"'una\": 69737,\n",
       " 'altaire': 48936,\n",
       " \"dudley's\": 69695,\n",
       " 'cnd': 75906,\n",
       " 'ebano': 65444,\n",
       " 'srk': 19240,\n",
       " 'stiff': 3446,\n",
       " 'cfto': 38637,\n",
       " 'different': 272,\n",
       " 'extremes': 9702,\n",
       " 'alotta': 82779,\n",
       " 'trimester': 67024,\n",
       " \"'nomads'\": 54550,\n",
       " 'tarzan': 1937,\n",
       " \"2'\": 13852,\n",
       " 'backs': 5492,\n",
       " 'cann': 37887,\n",
       " 'ahistorical': 53578,\n",
       " 'persbrandt': 38544,\n",
       " \"tongue's\": 69425,\n",
       " 'betrothed': 21813,\n",
       " 'cheated': 4569,\n",
       " 'majestically': 51121,\n",
       " 'enshrined': 82128,\n",
       " 'chelsea': 18091,\n",
       " 'enmity': 71348,\n",
       " 'imbeciles': 24755,\n",
       " \"usa's\": 28220,\n",
       " 'dogma': 9200,\n",
       " 'spiderbabe': 56002,\n",
       " 'chuck': 3455,\n",
       " 'rapidshare': 57252,\n",
       " 'interaction': 4333,\n",
       " 'conflict': 1938,\n",
       " 'glitzed': 69551,\n",
       " 'authoring': 87521,\n",
       " 'revue': 13801,\n",
       " 'simplified': 15029,\n",
       " 'gavroche': 41731,\n",
       " 'posttraumatic': 75269,\n",
       " 'awakenings': 37014,\n",
       " 'bombardment': 64466,\n",
       " 'unneeded': 19608,\n",
       " 'drops': 4237,\n",
       " 'interested': 924,\n",
       " 'expires': 26958,\n",
       " 'wookie': 44375,\n",
       " 'means': 814,\n",
       " 'dismissively': 55298,\n",
       " \"'realistically'\": 62765,\n",
       " 'activate': 42997,\n",
       " \"reeve's\": 29588,\n",
       " 'thooughly': 87861,\n",
       " 'syllabic': 85823,\n",
       " 'pamphlet': 43645,\n",
       " 'perceiving': 41613,\n",
       " 'philippine': 30915,\n",
       " \"carre'\": 50140,\n",
       " \"blasé'\": 45919,\n",
       " 'paternity': 46092,\n",
       " 'envoled': 60752,\n",
       " 'avant': 9884,\n",
       " 'fiddler': 48682,\n",
       " 'hildy': 58406,\n",
       " 'allurement': 63406,\n",
       " 'murderer': 2747,\n",
       " 'porretta': 53960,\n",
       " 'garbo': 4987,\n",
       " \"files'\": 26683,\n",
       " 'mannequins': 24959,\n",
       " 'uninfected': 79928,\n",
       " 'aestheically': 75414,\n",
       " 'radio': 1874,\n",
       " \"'baby\": 47595,\n",
       " 'ronnie': 14529,\n",
       " \"dassin's\": 27216,\n",
       " 'agonise': 53358,\n",
       " \"jirarudan's\": 60374,\n",
       " 'mammaries': 37418,\n",
       " 'forbes': 8757,\n",
       " 'eric': 2124,\n",
       " \"cappomaggi's\": 80923,\n",
       " 'outa': 45697,\n",
       " 'rhoda': 16742,\n",
       " 'runic': 31350,\n",
       " \"guard'\": 48130,\n",
       " 'phsycotic': 53271,\n",
       " 'mizer': 39572,\n",
       " \"neill's\": 85463,\n",
       " 'roubaix': 49609,\n",
       " 'colorizing': 79396,\n",
       " 'fallafel': 75848,\n",
       " 'cuba': 4189,\n",
       " 'candies': 36168,\n",
       " \"bobby's\": 22670,\n",
       " 'underdogs': 45646,\n",
       " 'hypercube': 24230,\n",
       " 'goobacks': 84876,\n",
       " 'darkling': 23621,\n",
       " '\\x85\\x85\\x85': 73247,\n",
       " 'tooling': 45681,\n",
       " 'magoo': 25525,\n",
       " 'suny': 81335,\n",
       " 'tenebrous': 84547,\n",
       " 'unbelievably': 3797,\n",
       " 'errand': 20493,\n",
       " 'gripped': 15343,\n",
       " 'spates': 59029,\n",
       " \"gurdebeke's\": 60774,\n",
       " \"mcguire'\": 84612,\n",
       " 'vcr': 8077,\n",
       " 'aniston': 8640,\n",
       " 'sods': 57068,\n",
       " 'firebomb': 64972,\n",
       " 'portions': 8432,\n",
       " 'subscription': 26536,\n",
       " 'cawley': 71527,\n",
       " 'organizational': 70523,\n",
       " 'echelons': 30237,\n",
       " 'vincente': 11351,\n",
       " 'genera': 32729,\n",
       " \"coward's\": 25549,\n",
       " 'instaneously': 56849,\n",
       " 'protesters': 21597,\n",
       " \"'underground'\": 84220,\n",
       " 'dll': 68544,\n",
       " 'vivek': 33248,\n",
       " 'picturised': 36757,\n",
       " \"finney's\": 27299,\n",
       " 'drenched': 14382,\n",
       " 'enjolras': 35434,\n",
       " 'rasmusser': 59022,\n",
       " 'shaky': 5084,\n",
       " 'decrees': 55882,\n",
       " 'prejudice': 5550,\n",
       " 'doberman': 36783,\n",
       " 'pussed': 77103,\n",
       " 'witherspoon\\x96she': 56458,\n",
       " 'discussed': 7053,\n",
       " \"'everyman'\": 44663,\n",
       " \"mcbain's\": 31096,\n",
       " 'spittle': 58959,\n",
       " 'compliments': 12239,\n",
       " \"carrera's\": 34021,\n",
       " 'becoming': 1570,\n",
       " 'tiled': 39013,\n",
       " 'leong': 42467,\n",
       " 'fortified': 30867,\n",
       " 'havegotten': 61288,\n",
       " 'belengur': 78398,\n",
       " 'vintage': 6590,\n",
       " \"damned'\": 86493,\n",
       " 'whovier': 59510,\n",
       " 'napalm': 20438,\n",
       " 'royal': 4871,\n",
       " 'tormento': 82115,\n",
       " \"pas'\": 86264,\n",
       " \"munnera'la\": 55479,\n",
       " 'interspecies': 55888,\n",
       " 'terrible': 391,\n",
       " 'excellently': 6258,\n",
       " 'displacement': 39021,\n",
       " 'mistrustful': 84749,\n",
       " 'steffen': 27252,\n",
       " 'vacancies': 57000,\n",
       " 'contaminants': 58790,\n",
       " 'helfgott': 87654,\n",
       " 'hallucinogen': 45027,\n",
       " 'sn': 74928,\n",
       " 'teegra': 30285,\n",
       " 'sheets\\x97what': 66612,\n",
       " 'joon': 51645,\n",
       " 'stetner': 83752,\n",
       " 'smuggling': 10231,\n",
       " 'keenly': 21374,\n",
       " \"presson's\": 84567,\n",
       " 'derangement': 38835,\n",
       " 'fidget': 81984,\n",
       " 'intimated': 38648,\n",
       " 'bizmarkie': 64073,\n",
       " 'begining': 27008,\n",
       " 'exquisitely': 12553,\n",
       " 'arachnophobia': 84489,\n",
       " 'favorable': 12731,\n",
       " 'fumes': 30777,\n",
       " \"that'll\": 9623,\n",
       " 'videos': 3356,\n",
       " 'definatly': 33863,\n",
       " 'miniscule': 19902,\n",
       " \"'pole\": 87760,\n",
       " 'oilfield': 86715,\n",
       " 'ardh': 27458,\n",
       " 'ricardo': 11937,\n",
       " 'intensify': 28353,\n",
       " 'macdonald': 7535,\n",
       " 'barzell': 81725,\n",
       " 'thelma': 6882,\n",
       " 'pelicangs': 51764,\n",
       " 'ethnocentric': 47258,\n",
       " \"melle's\": 86484,\n",
       " 'quarantine': 29232,\n",
       " 'occurrences': 12104,\n",
       " 'struggled': 10412,\n",
       " 'bollwood': 64434,\n",
       " 'apply': 6706,\n",
       " 'llama': 70810,\n",
       " 'tense': 3093,\n",
       " '21': 6415,\n",
       " 'corpulent': 25586,\n",
       " 'ducky': 61952,\n",
       " 'bryan': 9758,\n",
       " \"won'\": 56279,\n",
       " 'urbibe': 78157,\n",
       " 'improvises': 39131,\n",
       " \"party'\": 68957,\n",
       " 'metephorically': 72407,\n",
       " 'converging': 38497,\n",
       " \"don't's\": 70011,\n",
       " 'madame': 13579,\n",
       " \"reimbursement'\": 64131,\n",
       " 'tightening': 20611,\n",
       " 'abodes': 63978,\n",
       " 'cassettes': 34221,\n",
       " 'notti': 41629,\n",
       " 'ban': 15261,\n",
       " \"'razorback'\": 60660,\n",
       " 'blazing': 7597,\n",
       " 'spacer': 73407,\n",
       " 'costumes\\x97so': 53817,\n",
       " 'morph': 19562,\n",
       " 'intrinsically': 18786,\n",
       " 'hospitalised': 33175,\n",
       " 'hain': 14878,\n",
       " 'gravy': 24572,\n",
       " 'nazgul': 27168,\n",
       " 'impoverished': 13847,\n",
       " 'revolving': 7268,\n",
       " 'bleek': 29626,\n",
       " 'hellish': 17897,\n",
       " 'humanness': 38099,\n",
       " 'let': 384,\n",
       " 'demonic': 6018,\n",
       " 'tatanka': 39658,\n",
       " 'barbarash': 43711,\n",
       " 'ogres': 48937,\n",
       " 'lateesha': 56826,\n",
       " \"falcon'\": 69838,\n",
       " \"'opportunist'\": 45033,\n",
       " 'interventions': 32572,\n",
       " 'habitats': 30182,\n",
       " 'viscontian': 76838,\n",
       " \"lupin's\": 49382,\n",
       " 'socal': 40582,\n",
       " 'racial': 4323,\n",
       " 'labirinto': 77386,\n",
       " '16k': 60127,\n",
       " 'yr': 13165,\n",
       " 'pseudonyms': 56720,\n",
       " 'iron': 4574,\n",
       " 'eyebrow': 12849,\n",
       " 'rama': 14009,\n",
       " 'weber': 15148,\n",
       " 'cong': 34833,\n",
       " 'kermode': 65042,\n",
       " \"baichwal's\": 75982,\n",
       " 'kasem': 23886,\n",
       " 'dama': 34596,\n",
       " 'crybaby': 47820,\n",
       " 'isaacs': 18688,\n",
       " 'scuffed': 81428,\n",
       " 'input': 13067,\n",
       " 'dunny': 72322,\n",
       " 'jerkiest': 61943,\n",
       " \"'deliver\": 87905,\n",
       " 'ashby': 37108,\n",
       " 'grandeurs': 55530,\n",
       " 'nana': 10524,\n",
       " 'zinta': 27338,\n",
       " 'portentous': 42391,\n",
       " 'handpicks': 86150,\n",
       " \"'production'\": 61529,\n",
       " \"corpse's\": 54249,\n",
       " 'thunderblast': 50917,\n",
       " 'clergymen': 69159,\n",
       " \"schwartzman's\": 28584,\n",
       " 'indigestible': 42824,\n",
       " 'turbulent': 12716,\n",
       " 'vacationing': 24622,\n",
       " 'skulking': 36361,\n",
       " 'simonetta': 37864,\n",
       " \"'prix\": 83310,\n",
       " 'rerecorded': 78340,\n",
       " 'handelman': 72859,\n",
       " 'confucianism': 81716,\n",
       " 'devilish': 11207,\n",
       " 'defacement': 67895,\n",
       " 'franciscus': 30126,\n",
       " 'activists': 15844,\n",
       " 'unclassifiable': 69260,\n",
       " 'bolivarian': 86842,\n",
       " 'belabored': 27643,\n",
       " 'mappo': 76125,\n",
       " 'helge': 24533,\n",
       " 'rightist': 84499,\n",
       " 'perforamnce': 81668,\n",
       " 'preggo': 82785,\n",
       " 'womb': 26034,\n",
       " 'totes': 77623,\n",
       " 'rationale': 20063,\n",
       " 'fanatasies': 55716,\n",
       " 'monoxide': 45328,\n",
       " 'howler': 22549,\n",
       " 'kennedys': 38822,\n",
       " 'forego': 37815,\n",
       " 'segal': 8997,\n",
       " 'rivet': 71474,\n",
       " 'towner': 33847,\n",
       " 'kel': 25101,\n",
       " 'recommeded': 81742,\n",
       " 'hostile': 7774,\n",
       " 'abominibal': 60349,\n",
       " 'kicked': 4348,\n",
       " 'amid': 8551,\n",
       " 'manslayer': 62299,\n",
       " 'slayride': 58911,\n",
       " 'sortie': 25120,\n",
       " 'physchedelia': 78848,\n",
       " 'nath': 16930,\n",
       " 'hahahhaa': 52902,\n",
       " 'demolish': 38410,\n",
       " 'bethsheba': 74992,\n",
       " \"\\x91b'movie\": 61414,\n",
       " \"roth'\": 55889,\n",
       " 'ancien': 57568,\n",
       " 'ball': 1870,\n",
       " 'presentation': 2981,\n",
       " 'raking': 35140,\n",
       " 'overman': 31873,\n",
       " 'scavenger': 25413,\n",
       " 'smalltime': 33708,\n",
       " 'hooking': 21580,\n",
       " 'annabelle': 29677,\n",
       " 'foreheads': 35738,\n",
       " 'cliver': 21038,\n",
       " \"reviewer's\": 22719,\n",
       " 'ehmke': 71707,\n",
       " 'unabsorbing': 65017,\n",
       " 'château': 19668,\n",
       " 'permeable': 72414,\n",
       " 'catholic': 3091,\n",
       " \"'robbed'\": 72654,\n",
       " 'anyhow': 6367,\n",
       " \"lifeforce'\": 82063,\n",
       " 'undresses': 25571,\n",
       " 'congratulated': 21186,\n",
       " 'selflessness': 36856,\n",
       " 'spurious': 28966,\n",
       " 'embrace': 6620,\n",
       " 'hedaya': 45859,\n",
       " 'kaal': 48975,\n",
       " 'wain': 56470,\n",
       " 'yaphet': 15832,\n",
       " \"'sassiness'\": 80146,\n",
       " 'ethereal': 12380,\n",
       " 'coerces': 49174,\n",
       " 'neighborhood': 3239,\n",
       " \"jarol's\": 75962,\n",
       " 'evstigneev': 71402,\n",
       " 'electrons': 53522,\n",
       " 'uhhh': 50422,\n",
       " 'whoring': 29485,\n",
       " \"rick'\": 52768,\n",
       " 'sini': 35559,\n",
       " 'perrine': 42111,\n",
       " 'tastelessness': 34744,\n",
       " \"'foxy'\": 54220,\n",
       " 'copped': 23877,\n",
       " 'avati': 47620,\n",
       " 'arousal': 41559,\n",
       " 'domesticated': 22934,\n",
       " 'pitcher': 13236,\n",
       " 'halleck': 23727,\n",
       " 'conditionally': 66480,\n",
       " 'fuchsias': 68754,\n",
       " 'defecated': 63287,\n",
       " 'notre': 17833,\n",
       " 'chahracters': 63144,\n",
       " 'milfune': 52346,\n",
       " 'evinced': 30341,\n",
       " 'wolfgang': 23005,\n",
       " 'tinted': 17349,\n",
       " 'pore': 37028,\n",
       " 'acin': 87370,\n",
       " 'blotched': 60013,\n",
       " 'oooo': 29494,\n",
       " 'investigations': 13903,\n",
       " 'raindeer': 56288,\n",
       " \"'can\": 32088,\n",
       " 'woodman': 37901,\n",
       " 'domains': 71551,\n",
       " 'brentwood': 30065,\n",
       " \"ahmad's\": 34671,\n",
       " 'comraderie': 71139,\n",
       " \"housesitter'\": 58715,\n",
       " 'restraint': 7835,\n",
       " 'overacts': 9265,\n",
       " 'bdwy': 65917,\n",
       " 'farra': 59978,\n",
       " 'mb': 38987,\n",
       " 'somethin': 31144,\n",
       " 'required': 2598,\n",
       " 'poiré': 20087,\n",
       " \"lamp's\": 85534,\n",
       " \"spooner's\": 75708,\n",
       " 'receive': 3901,\n",
       " \"theater's\": 29029,\n",
       " 'modesty': 3974,\n",
       " 'carno': 69491,\n",
       " 'grandmasters': 83285,\n",
       " 'bagdad': 10082,\n",
       " 'hensley': 27913,\n",
       " 'embarrassed': 2940,\n",
       " 'uttara': 75804,\n",
       " 'franics': 57903,\n",
       " 'dougherty': 79647,\n",
       " 'rossen': 56101,\n",
       " 'detracted': 18236,\n",
       " 'gillen': 22047,\n",
       " 'yaarrrghhh': 58835,\n",
       " 'sycophantic': 24546,\n",
       " 'wade': 16229,\n",
       " 'nancys': 70894,\n",
       " 'plasticine': 38777,\n",
       " \"'moebius'\": 79470,\n",
       " '97': 13010,\n",
       " \"keefe's\": 88144,\n",
       " 'hilliard': 10550,\n",
       " 'jackie': 2346,\n",
       " 'vermette': 78465,\n",
       " 'recherché': 83245,\n",
       " 'outstay': 30119,\n",
       " 'stronger': 3398,\n",
       " 'barnstorming': 87553,\n",
       " 'kuriyama': 25243,\n",
       " 'schiller': 36325,\n",
       " 'klusak': 55763,\n",
       " 'zim': 40722,\n",
       " 'otoko': 68219,\n",
       " 'pinjar': 13879,\n",
       " \"cooks'\": 85546,\n",
       " 'vanload': 55972,\n",
       " 'pants': 4504,\n",
       " 'skull': 5237,\n",
       " 'accorsi': 40135,\n",
       " 'caravan': 22899,\n",
       " \"tersteeghe's\": 69688,\n",
       " 'aikidoist': 52694,\n",
       " 'bungy': 76054,\n",
       " 'brooker': 64427,\n",
       " 'orgolini': 74902,\n",
       " 'mollify': 74466,\n",
       " \"ethan's\": 87274,\n",
       " 'sheeesh': 54188,\n",
       " 'directv': 32008,\n",
       " 'averaging': 48153,\n",
       " 'jurking': 57141,\n",
       " 'colombian': 20401,\n",
       " \"eachother's\": 75722,\n",
       " 'jacquin': 76284,\n",
       " 'gonzales': 25947,\n",
       " 'demunn': 18356,\n",
       " 'conceive': 14400,\n",
       " \"geyrhalter's\": 77360,\n",
       " 'vowed': 26437,\n",
       " 'sous': 46842,\n",
       " 'supermutant': 82787,\n",
       " 'depardieu': 8323,\n",
       " 'veblen': 84621,\n",
       " 'heartthrobs': 50301,\n",
       " 'frencified': 68964,\n",
       " 'goddesses': 28457,\n",
       " 'itc': 53589,\n",
       " 'wolhiem': 51653,\n",
       " 'amy': 4239,\n",
       " 'sistuh': 76509,\n",
       " 'calves': 40933,\n",
       " \"i'f\": 55552,\n",
       " 'overthrow': 14504,\n",
       " 'transgenderism': 62837,\n",
       " 'nouvelles': 55233,\n",
       " 'swindles': 87511,\n",
       " 'purchasers': 42974,\n",
       " 'someones': 11800,\n",
       " 'deepen': 78456,\n",
       " 'freewheelers': 48230,\n",
       " 'creepfest': 64913,\n",
       " 'interacial': 68158,\n",
       " 'figtings': 83736,\n",
       " 'suppressing': 19639,\n",
       " 'jarrow': 54308,\n",
       " \"marrow's\": 45035,\n",
       " \"waffle's\": 66900,\n",
       " \"donahue's\": 56268,\n",
       " \"herrmann's\": 52950,\n",
       " 'unenlightened': 84075,\n",
       " 'ascerbic': 58381,\n",
       " 'chairperson': 84862,\n",
       " 'cleaned': 10828,\n",
       " 'anthology\\x97a': 60190,\n",
       " 'nickeloden': 84637,\n",
       " \"'clerks'\": 57076,\n",
       " 'tanking': 47123,\n",
       " 'shoplifting': 46165,\n",
       " \"'slam\": 60565,\n",
       " 'nabakov': 81469,\n",
       " 'hispanics': 27853,\n",
       " 'height': 5668,\n",
       " \"'fights'\": 45422,\n",
       " 'sheeple': 60955,\n",
       " 'economics': 21009,\n",
       " \"dancin'\": 47095,\n",
       " 'thalmus': 31913,\n",
       " 'awa': 38807,\n",
       " 'adventuresome': 31839,\n",
       " 'unabashed': 14214,\n",
       " 'jangling': 44813,\n",
       " 'fortitude': 28871,\n",
       " 'yokia': 80212,\n",
       " 'preventing': 11554,\n",
       " 'diplomacy': 27173,\n",
       " 'dissociate': 53413,\n",
       " 'chapple': 68316,\n",
       " 'volvo': 59865,\n",
       " \"'murdered'\": 76978,\n",
       " 'underworlds': 85360,\n",
       " 'neglecting': 20077,\n",
       " \"nicholls'\": 69517,\n",
       " 'ward': 3670,\n",
       " 'ravensback': 68874,\n",
       " \"army'\": 34529,\n",
       " 'timeline': 15736,\n",
       " 'necklines': 43577,\n",
       " 'engender': 46567,\n",
       " 'wrung': 45132,\n",
       " 'quentin': 6656,\n",
       " 'meteor': 7123,\n",
       " 'sable': 25232,\n",
       " 'sublime': 6456,\n",
       " 'forget': 854,\n",
       " 'cheech': 8356,\n",
       " 'hafte': 86621,\n",
       " 'ciphers': 34782,\n",
       " 'overtime': 24556,\n",
       " 'reiterate': 22317,\n",
       " 'affable': 14169,\n",
       " 'ultimatum': 6719,\n",
       " '1202': 69557,\n",
       " 'hardback': 46262,\n",
       " \"q'\": 35340,\n",
       " \"blake's\": 23217,\n",
       " 'genre’s': 67621,\n",
       " 'comedienne': 12065,\n",
       " \"theodorakis'\": 72555,\n",
       " 'noirest': 57231,\n",
       " 'swd': 73806,\n",
       " \"stahl's\": 53769,\n",
       " 'pundits': 72173,\n",
       " '\\x85um\\x85discriminating': 58490,\n",
       " \"humans'\": 65295,\n",
       " 'landscape': 3863,\n",
       " 'g2': 69283,\n",
       " \"'intentional'\": 60101,\n",
       " 'uhum': 64197,\n",
       " 'forgets': 7727,\n",
       " 'deliver': 1641,\n",
       " \"wannabe's\": 56994,\n",
       " 'recogniton': 53138,\n",
       " 'hinged': 42369,\n",
       " 'stirba': 15160,\n",
       " 'smurf': 32677,\n",
       " 'villager': 30602,\n",
       " 'strategic': 24936,\n",
       " 'misstakes': 86967,\n",
       " \"how'd\": 60234,\n",
       " 'morti': 86706,\n",
       " 'kristel': 17041,\n",
       " 'strolls': 29429,\n",
       " 'constitutional': 21203,\n",
       " 'unalloyed': 50744,\n",
       " 'keyhole': 40387,\n",
       " 'interferring': 80000,\n",
       " 'hurler': 75971,\n",
       " 'hinton': 52442,\n",
       " 'héctor': 37253,\n",
       " 'goodhearted': 49093,\n",
       " 'employs': 9907,\n",
       " 'bicycle': 10149,\n",
       " 'depose': 76393,\n",
       " 'built': 2166,\n",
       " \"command'\": 50797,\n",
       " 'paura': 86704,\n",
       " 'yielded': 35926,\n",
       " 'awake\\x85barely': 52156,\n",
       " 'raho': 36255,\n",
       " 'ardently': 72603,\n",
       " 'acquits': 22110,\n",
       " 'myles': 17141,\n",
       " 'rochefort': 25264,\n",
       " 'femur': 55584,\n",
       " 'dwivedi': 30173,\n",
       " 'oaks': 78415,\n",
       " \"thinnes'\": 58865,\n",
       " 'nie': 44249,\n",
       " 'henshall': 72531,\n",
       " 'fenton': 11521,\n",
       " 'thumbtanic': 30028,\n",
       " 'lugosi': 2782,\n",
       " 'davitelj': 84937,\n",
       " 'egotist': 29400,\n",
       " 'twanging': 56373,\n",
       " 'lulling': 41882,\n",
       " 'boisterously': 49630,\n",
       " 'marthesheimer': 86098,\n",
       " 'guitar': 5507,\n",
       " 'repellent': 10671,\n",
       " 'eeeevil': 81465,\n",
       " 'assassain': 84542,\n",
       " 'mangy': 37988,\n",
       " 'behaves': 9156,\n",
       " 'ensued': 22818,\n",
       " 'peeve': 35248,\n",
       " 'kasam': 87126,\n",
       " \"publicist's\": 61341,\n",
       " 'sascha': 24943,\n",
       " 'soderberghian': 58632,\n",
       " 'dobler': 68037,\n",
       " 'feistyness': 79538,\n",
       " 'polanski': 4883,\n",
       " 'appearences': 73345,\n",
       " \"pretty'\": 85026,\n",
       " 'ludwing': 78083,\n",
       " \"h'\": 40996,\n",
       " 'holmes': 3145,\n",
       " 'plucky': 15575,\n",
       " 'barbs': 26746,\n",
       " 'carapace': 53175,\n",
       " 'seeber': 48732,\n",
       " 'reflection': 5062,\n",
       " 'titling': 36507,\n",
       " 'suoi': 76839,\n",
       " 'figuratively': 14481,\n",
       " 'satisfied': 4090,\n",
       " 'cineliterate': 77240,\n",
       " 'goins': 81351,\n",
       " \"biggie's\": 35652,\n",
       " \"'expect\": 80454,\n",
       " 'jung': 22544,\n",
       " 'fields': 5297,\n",
       " 'sketches': 7277,\n",
       " \"ou's\": 68258,\n",
       " 'fetid': 25246,\n",
       " 'sadomania': 62626,\n",
       " 'humoured': 31978,\n",
       " 'nickerson': 49077,\n",
       " 'deign': 28097,\n",
       " 'snazzy': 36342,\n",
       " 'imposed': 10664,\n",
       " \"'necklace'\": 41585,\n",
       " 'bekker': 65702,\n",
       " 'become': 410,\n",
       " '155': 73366,\n",
       " 'rajini': 40493,\n",
       " 'toysrus': 52827,\n",
       " 'brooke': 7543,\n",
       " 'psychologically': 9537,\n",
       " 'silverlake': 40181,\n",
       " '16ieme': 72500,\n",
       " 'prophess': 80185,\n",
       " 'fulsome': 36144,\n",
       " 'inspire': 5984,\n",
       " 'simplifying': 42186,\n",
       " 'valdez': 62910,\n",
       " 'substances': 19063,\n",
       " 'transformations': 12309,\n",
       " 'trampoline': 31340,\n",
       " 'pinkie': 47847,\n",
       " \"sho's\": 27351,\n",
       " 'osteopath': 40029,\n",
       " 'kaye': 11701,\n",
       " 'off\\x85': 57715,\n",
       " 'brogues': 84150,\n",
       " \"wallace's\": 20283,\n",
       " 'piscapo': 75600,\n",
       " \"quaid's\": 22073,\n",
       " 'magisterial': 67887,\n",
       " 'leviticus': 56387,\n",
       " \"'rewarded'\": 66692,\n",
       " 'thugee': 73696,\n",
       " 'stances': 28889,\n",
       " 'hinder': 31120,\n",
       " 'pinho': 67478,\n",
       " 'lateness': 64299,\n",
       " 'glom': 61545,\n",
       " 'fruitless': 20745,\n",
       " 'shill': 54247,\n",
       " 'f5': 86067,\n",
       " 'cello': 30689,\n",
       " 'byington': 27415,\n",
       " 'jacketed': 29028,\n",
       " 'womanizer': 16030,\n",
       " 'clarifying': 33474,\n",
       " 'berkinsale': 63845,\n",
       " 'slobbery': 55878,\n",
       " 'alluded': 16017,\n",
       " 'laath': 58309,\n",
       " 'tuna': 27694,\n",
       " 'shield': 8387,\n",
       " 'fingerprint': 54026,\n",
       " 'sigrid': 31013,\n",
       " 'geno': 34700,\n",
       " 'ideological': 14077,\n",
       " 'basora': 78080,\n",
       " 'addiction': 6680,\n",
       " 'reginald': 11257,\n",
       " 'grief': 5125,\n",
       " 'grasshopper': 20450,\n",
       " 'preacherman': 30129,\n",
       " 'redhead': 14454,\n",
       " 'laramie': 27221,\n",
       " 'accomplish': 5266,\n",
       " 'substitution': 31665,\n",
       " 'gogo': 36370,\n",
       " 'bhiku': 79053,\n",
       " \"years'\": 20162,\n",
       " 'grumpiness': 36901,\n",
       " 'hamer': 44428,\n",
       " 'sunnier': 48182,\n",
       " 'statute': 33430,\n",
       " 'obsolescence': 51402,\n",
       " 'hamada': 74595,\n",
       " 'with': 16,\n",
       " 'solved': 8063,\n",
       " 'mamá': 50040,\n",
       " 'recruit': 10363,\n",
       " 'inadvertantly': 67605,\n",
       " 'littering': 24032,\n",
       " 'streaming': 19753,\n",
       " 'aluminium': 18857,\n",
       " 'puny': 26667,\n",
       " 'fix': 4294,\n",
       " 'kazetachi': 75202,\n",
       " 'ashen': 65260,\n",
       " 'automata': 85994,\n",
       " 'distraction': 6836,\n",
       " 'huhuhuhuhu': 59390,\n",
       " 'notify': 33387,\n",
       " 'nymphomaniacs': 45311,\n",
       " 'allah': 16959,\n",
       " 'prashant': 13507,\n",
       " 'stupednous': 82955,\n",
       " '3dvd': 65079,\n",
       " 'imperious': 30083,\n",
       " 'calvi': 60140,\n",
       " 'deflowering': 83689,\n",
       " 'landing\\x85': 87541,\n",
       " 'ariszted': 79458,\n",
       " \"shelly's\": 80586,\n",
       " 'meretricious': 28071,\n",
       " 'apace': 66192,\n",
       " \"surfing's\": 86853,\n",
       " 'infertile': 41401,\n",
       " 'carer': 41243,\n",
       " \"boman's\": 72620,\n",
       " 'filmdirector': 59185,\n",
       " 'unproblematic': 54792,\n",
       " 'figment': 19037,\n",
       " 'wronged': 11072,\n",
       " 'cultural': 2658,\n",
       " 'drugsas': 60493,\n",
       " \"nietzsche's\": 39566,\n",
       " 'mudd': 84509,\n",
       " 'insiders': 26330,\n",
       " \"miller's\": 14872,\n",
       " 'batboy': 88004,\n",
       " 'psychotically': 65208,\n",
       " \"fineman's\": 77661,\n",
       " 'memory': 1752,\n",
       " \"huston's\": 18628,\n",
       " 'igloos': 79258,\n",
       " 'quagmire': 29279,\n",
       " \"vampire'\": 36301,\n",
       " 'visited': 5369,\n",
       " 'dominance': 20299,\n",
       " 'reprehensible': 16377,\n",
       " 'kazakhstani': 61491,\n",
       " 'emotionally': 2145,\n",
       " 'bombeshells': 86626,\n",
       " 'takin': 41231,\n",
       " 'dumland': 86427,\n",
       " 'centerstage': 67084,\n",
       " 'typos': 58152,\n",
       " 'twisters': 17387,\n",
       " 'wrinklies': 48699,\n",
       " 'waving': 9349,\n",
       " 'unjustified': 23950,\n",
       " 'drapes': 21318,\n",
       " 'antics': 3890,\n",
       " 'désirée': 51077,\n",
       " \"wang's\": 27937,\n",
       " 'other': 82,\n",
       " 'siodmark': 42404,\n",
       " 'blanka': 59145,\n",
       " 'giraud': 79471,\n",
       " 'grabbin': 54290,\n",
       " 'wilkinson': 39034,\n",
       " 'prevalence': 87526,\n",
       " 'avariciously': 69508,\n",
       " 'vessela': 69336,\n",
       " \"household's\": 81108,\n",
       " 'gleib': 72577,\n",
       " 'publishing': 20985,\n",
       " 'disappointed': 682,\n",
       " 'prescribed': 38358,\n",
       " 'venantino': 24335,\n",
       " 'wimped': 77421,\n",
       " 'battlecry': 53839,\n",
       " 'kimmy': 29266,\n",
       " 'ooo': 84144,\n",
       " 'warehouses': 25866,\n",
       " 'receiver': 34809,\n",
       " 'cougar': 44336,\n",
       " 'shakespear': 58701,\n",
       " 'sexily': 37421,\n",
       " \"rigg's\": 59830,\n",
       " 'gerrit': 42161,\n",
       " 'lathe': 80300,\n",
       " 'dave': 3838,\n",
       " 'dumblaine': 80618,\n",
       " 'tellytubbies': 67248,\n",
       " 'sat': 1822,\n",
       " 'harley': 20300,\n",
       " 'theorize': 81436,\n",
       " 'stevson': 64477,\n",
       " 'costanza': 41364,\n",
       " 'willian': 37987,\n",
       " 'cryin': 42965,\n",
       " 'impulsive': 19917,\n",
       " 'reliquary': 68312,\n",
       " 'noam': 9412,\n",
       " 'quebec': 20529,\n",
       " \"pelleske's\": 57439,\n",
       " 'juices': 23493,\n",
       " 'peat': 45563,\n",
       " \"thalberg's\": 79963,\n",
       " 'slogans': 42834,\n",
       " 'ntsc': 27592,\n",
       " 'unleashes': 15651,\n",
       " 'curry': 15584,\n",
       " 'brassiere': 43203,\n",
       " 'byrnes': 65756,\n",
       " 'aired': 3179,\n",
       " \"novel's\": 14693,\n",
       " 'ohs': 56968,\n",
       " 'isobel': 29961,\n",
       " \"terrorist's\": 41198,\n",
       " \"stitch''s\": 68336,\n",
       " 'sit': 866,\n",
       " 'longstreet': 39496,\n",
       " 'perishes': 74900,\n",
       " 'vilsmaier': 55656,\n",
       " 'augury': 64053,\n",
       " 'schoolfriend': 63818,\n",
       " 'succesfully': 79613,\n",
       " 'wtc2': 48744,\n",
       " 'targetted': 58526,\n",
       " 'floored': 18514,\n",
       " 'weakness': 5284,\n",
       " 'tide': 7814,\n",
       " 'coupling': 19397,\n",
       " 'derivitive': 67043,\n",
       " \"krisner's\": 60499,\n",
       " 'brick': 8309,\n",
       " 'conglomerate': 26303,\n",
       " \"donlan's\": 87712,\n",
       " 'prevailing': 17423,\n",
       " 'orientals': 25936,\n",
       " 'about': 41,\n",
       " 'americanism': 32354,\n",
       " 'grandly': 79825,\n",
       " \"middle'\": 76094,\n",
       " 'massaging': 46398,\n",
       " 'creoles': 85809,\n",
       " 'swaile': 85857,\n",
       " 'documentary': 659,\n",
       " 'altho': 25591,\n",
       " 'rashid': 25953,\n",
       " 'kathy': 6940,\n",
       " \"ragland's\": 73398,\n",
       " 'heatbeats': 63226,\n",
       " 'grilo': 82588,\n",
       " \"millar's\": 82518,\n",
       " 'tissues': 17613,\n",
       " 'gratitous': 78389,\n",
       " 'holies': 62045,\n",
       " 'momentarily': 12050,\n",
       " 'designer': 5424,\n",
       " 'aimanov': 54538,\n",
       " 'afv': 47601,\n",
       " 'utlimately': 51277,\n",
       " 'leporids': 72191,\n",
       " 'clicked': 16038,\n",
       " 'vowels': 52173,\n",
       " 'devours': 27934,\n",
       " 'flyers': 74322,\n",
       " \"pullman's\": 31644,\n",
       " 'commercial': 2150,\n",
       " 'fourthly': 63357,\n",
       " 'stv': 36719,\n",
       " 'leggy': 27892,\n",
       " 'actually': 162,\n",
       " 'remember': 374,\n",
       " 'surfacing': 36322,\n",
       " 'nooooo': 31671,\n",
       " 'wookies': 63542,\n",
       " \"poehler's\": 34887,\n",
       " \"napier's\": 45617,\n",
       " 'regretful': 26639,\n",
       " 'proves': 1529,\n",
       " 'liga': 85764,\n",
       " 'liye': 65847,\n",
       " 'tickles': 28688,\n",
       " 'valhalla': 37449,\n",
       " 'locales': 9119,\n",
       " 'shady': 8846,\n",
       " \"technology's\": 82922,\n",
       " \"'marianne\": 80911,\n",
       " 'scaled': 26750,\n",
       " 'neighborhoods': 15990,\n",
       " 'haifa': 45202,\n",
       " 'mehta': 57254,\n",
       " 'bwp': 69787,\n",
       " 'tet': 30958,\n",
       " 'entendres': 25438,\n",
       " 'scuzziness': 43427,\n",
       " \"goonies'\": 38503,\n",
       " \"'under\": 39341,\n",
       " 'pembleton': 34161,\n",
       " 'jiménez': 37254,\n",
       " 'imagining': 7576,\n",
       " 'rita': 5596,\n",
       " \"creame's\": 53731,\n",
       " 'omg': 11981,\n",
       " 'ruscico': 43881,\n",
       " 'expenditure': 49597,\n",
       " 'songling': 39473,\n",
       " 'cinderella': 2382,\n",
       " 'eagle': 7995,\n",
       " 'tawana': 61964,\n",
       " \"lenzi's\": 36972,\n",
       " 'halop': 87086,\n",
       " \"answer'\": 76396,\n",
       " 'rue': 21205,\n",
       " ...}"
      ]
     },
     "execution_count": 23,
     "metadata": {},
     "output_type": "execute_result"
    }
   ],
   "source": [
    "word_index = tokenizer.word_index\n",
    "word_index"
   ]
  },
  {
   "cell_type": "code",
   "execution_count": 24,
   "metadata": {
    "ExecuteTime": {
     "end_time": "2017-11-06T06:34:56.558384Z",
     "start_time": "2017-11-06T06:34:56.071402Z"
    }
   },
   "outputs": [],
   "source": [
    "data = pad_sequences(sequences, maxlen = maxlen)"
   ]
  },
  {
   "cell_type": "code",
   "execution_count": 25,
   "metadata": {
    "ExecuteTime": {
     "end_time": "2017-11-06T06:34:56.567696Z",
     "start_time": "2017-11-06T06:34:56.560797Z"
    }
   },
   "outputs": [
    {
     "data": {
      "text/plain": [
       "array([0, 0, 0, ..., 1, 1, 1])"
      ]
     },
     "execution_count": 25,
     "metadata": {},
     "output_type": "execute_result"
    }
   ],
   "source": [
    "labels = np.asarray(labels)\n",
    "labels"
   ]
  },
  {
   "cell_type": "code",
   "execution_count": 26,
   "metadata": {
    "ExecuteTime": {
     "end_time": "2017-11-06T06:34:56.669792Z",
     "start_time": "2017-11-06T06:34:56.570590Z"
    }
   },
   "outputs": [],
   "source": [
    "indices = np.arange(data.shape[0])\n",
    "np.random.shuffle(indices)\n",
    "data = data[indices]\n",
    "labels = labels[indices]"
   ]
  },
  {
   "cell_type": "code",
   "execution_count": 27,
   "metadata": {
    "ExecuteTime": {
     "end_time": "2017-11-06T06:34:56.749476Z",
     "start_time": "2017-11-06T06:34:56.672173Z"
    }
   },
   "outputs": [],
   "source": [
    "x_train = data[:training_samples]\n",
    "y_train = labels[:training_samples]\n",
    "x_val = data[training_samples: training_samples + validation_samples]\n",
    "y_val = labels[training_samples: training_samples + validation_samples]"
   ]
  },
  {
   "cell_type": "markdown",
   "metadata": {},
   "source": [
    "## Pre-process the embeddings"
   ]
  },
  {
   "cell_type": "code",
   "execution_count": 28,
   "metadata": {
    "ExecuteTime": {
     "end_time": "2017-11-06T06:35:49.313748Z",
     "start_time": "2017-11-06T06:35:49.308919Z"
    }
   },
   "outputs": [],
   "source": [
    "glove_dir = './data/glove'"
   ]
  },
  {
   "cell_type": "code",
   "execution_count": 29,
   "metadata": {
    "ExecuteTime": {
     "end_time": "2017-11-06T06:36:04.522600Z",
     "start_time": "2017-11-06T06:35:50.000705Z"
    }
   },
   "outputs": [],
   "source": [
    "embeddings_index = {}\n",
    "f = open(os.path.join(glove_dir, 'glove.6B.100d.txt'))\n",
    "for line in f:\n",
    "    values = line.split()\n",
    "    word = values[0]\n",
    "    coefs = np.asarray(values[1:], dtype='float32')\n",
    "    embeddings_index[word] = coefs\n",
    "f.close()"
   ]
  },
  {
   "cell_type": "markdown",
   "metadata": {
    "collapsed": true
   },
   "source": [
    "Let's build an embedding matrix that we will be able to load into an embedding layer. It must be a matrix of shape (max_words, embedding_dim). Note that the index 0 is not supposed to stand for any word or token -- it's a placeholder."
   ]
  },
  {
   "cell_type": "code",
   "execution_count": 30,
   "metadata": {
    "ExecuteTime": {
     "end_time": "2017-11-06T06:36:08.341949Z",
     "start_time": "2017-11-06T06:36:08.253877Z"
    }
   },
   "outputs": [],
   "source": [
    "embedding_dim = 100\n",
    "embedding_matrix = np.zeros((max_words, embedding_dim))\n",
    "for word, i in word_index.items():\n",
    "    embedding_vector = embeddings_index.get(word)\n",
    "    if i < max_words:\n",
    "        if embedding_vector is not None:\n",
    "            # Words not found in embedding index will be all-zeros.\n",
    "            embedding_matrix[i] = embedding_vector"
   ]
  },
  {
   "cell_type": "markdown",
   "metadata": {},
   "source": [
    "## Define a model"
   ]
  },
  {
   "cell_type": "code",
   "execution_count": 31,
   "metadata": {
    "ExecuteTime": {
     "end_time": "2017-11-06T06:36:09.902053Z",
     "start_time": "2017-11-06T06:36:09.895409Z"
    }
   },
   "outputs": [],
   "source": [
    "from keras.models import Sequential\n",
    "from keras.layers import Embedding, Flatten, Dense"
   ]
  },
  {
   "cell_type": "code",
   "execution_count": 32,
   "metadata": {
    "ExecuteTime": {
     "end_time": "2017-11-06T06:36:11.300248Z",
     "start_time": "2017-11-06T06:36:11.249857Z"
    }
   },
   "outputs": [
    {
     "name": "stdout",
     "output_type": "stream",
     "text": [
      "_________________________________________________________________\n",
      "Layer (type)                 Output Shape              Param #   \n",
      "=================================================================\n",
      "embedding_3 (Embedding)      (None, 100, 100)          1000000   \n",
      "_________________________________________________________________\n",
      "flatten_2 (Flatten)          (None, 10000)             0         \n",
      "_________________________________________________________________\n",
      "dense_2 (Dense)              (None, 32)                320032    \n",
      "_________________________________________________________________\n",
      "dense_3 (Dense)              (None, 1)                 33        \n",
      "=================================================================\n",
      "Total params: 1,320,065\n",
      "Trainable params: 1,320,065\n",
      "Non-trainable params: 0\n",
      "_________________________________________________________________\n"
     ]
    }
   ],
   "source": [
    "model = Sequential()\n",
    "model.add(Embedding(max_words, embedding_dim, input_length = maxlen))\n",
    "model.add(Flatten())\n",
    "model.add(Dense(32, activation = 'relu'))\n",
    "model.add(Dense(1, activation = 'sigmoid'))\n",
    "model.summary()"
   ]
  },
  {
   "cell_type": "markdown",
   "metadata": {},
   "source": [
    "## Load the GloVe embeddings in the model"
   ]
  },
  {
   "cell_type": "code",
   "execution_count": 33,
   "metadata": {
    "ExecuteTime": {
     "end_time": "2017-11-06T06:36:14.176312Z",
     "start_time": "2017-11-06T06:36:14.111457Z"
    }
   },
   "outputs": [],
   "source": [
    "model.layers[0].set_weights([embedding_matrix])\n",
    "model.layers[0].trainable = False"
   ]
  },
  {
   "cell_type": "markdown",
   "metadata": {},
   "source": [
    "## Train and evaluate"
   ]
  },
  {
   "cell_type": "code",
   "execution_count": 34,
   "metadata": {
    "ExecuteTime": {
     "end_time": "2017-11-06T06:36:22.589583Z",
     "start_time": "2017-11-06T06:36:15.300089Z"
    }
   },
   "outputs": [
    {
     "name": "stdout",
     "output_type": "stream",
     "text": [
      "Train on 200 samples, validate on 10000 samples\n",
      "Epoch 1/10\n",
      "0s - loss: 1.7629 - acc: 0.5000 - val_loss: 0.7055 - val_acc: 0.5126\n",
      "Epoch 2/10\n",
      "0s - loss: 0.5755 - acc: 0.6850 - val_loss: 0.7681 - val_acc: 0.5101\n",
      "Epoch 3/10\n",
      "0s - loss: 0.4750 - acc: 0.7850 - val_loss: 0.7484 - val_acc: 0.5158\n",
      "Epoch 4/10\n",
      "0s - loss: 0.4438 - acc: 0.8300 - val_loss: 0.6892 - val_acc: 0.5572\n",
      "Epoch 5/10\n",
      "0s - loss: 0.2569 - acc: 0.9900 - val_loss: 0.7687 - val_acc: 0.5286\n",
      "Epoch 6/10\n",
      "0s - loss: 0.1887 - acc: 0.9750 - val_loss: 1.1813 - val_acc: 0.5013\n",
      "Epoch 7/10\n",
      "0s - loss: 0.2346 - acc: 0.9050 - val_loss: 0.7167 - val_acc: 0.5708\n",
      "Epoch 8/10\n",
      "0s - loss: 0.0769 - acc: 1.0000 - val_loss: 1.2446 - val_acc: 0.5015\n",
      "Epoch 9/10\n",
      "0s - loss: 0.1679 - acc: 0.9550 - val_loss: 1.2608 - val_acc: 0.5084\n",
      "Epoch 10/10\n",
      "0s - loss: 0.0586 - acc: 0.9950 - val_loss: 0.8849 - val_acc: 0.5487\n"
     ]
    }
   ],
   "source": [
    "model.compile(optimizer='rmsprop',\n",
    "              loss='binary_crossentropy',\n",
    "              metrics=['acc'])\n",
    "history = model.fit(x_train, y_train,\n",
    "                    epochs=10,\n",
    "                    batch_size=32,\n",
    "                    validation_data=(x_val, y_val),\n",
    "                    verbose = 2)"
   ]
  },
  {
   "cell_type": "code",
   "execution_count": 35,
   "metadata": {
    "ExecuteTime": {
     "end_time": "2017-11-06T06:36:35.451777Z",
     "start_time": "2017-11-06T06:36:22.592932Z"
    }
   },
   "outputs": [
    {
     "data": {
      "image/png": "[encoded data removed]",
      "text/plain": [
       "<matplotlib.figure.Figure at 0x7f20ed81c9b0>"
      ]
     },
     "metadata": {},
     "output_type": "display_data"
    },
    {
     "data": {
      "image/png": "[encoded data removed]",
      "text/plain": [
       "<matplotlib.figure.Figure at 0x7f216f328a20>"
      ]
     },
     "metadata": {},
     "output_type": "display_data"
    }
   ],
   "source": [
    "import matplotlib.pyplot as plt\n",
    "\n",
    "acc = history.history['acc']\n",
    "val_acc = history.history['val_acc']\n",
    "loss = history.history['loss']\n",
    "val_loss = history.history['val_loss']\n",
    "\n",
    "epochs = range(1, len(acc) + 1)\n",
    "\n",
    "plt.plot(epochs, acc, 'bo', label='Training acc')\n",
    "plt.plot(epochs, val_acc, 'b', label='Validation acc')\n",
    "plt.title('Training and validation accuracy')\n",
    "plt.legend()\n",
    "\n",
    "plt.figure()\n",
    "\n",
    "plt.plot(epochs, loss, 'bo', label='Training loss')\n",
    "plt.plot(epochs, val_loss, 'b', label='Validation loss')\n",
    "plt.title('Training and validation loss')\n",
    "plt.legend()\n",
    "\n",
    "plt.show()"
   ]
  },
  {
   "cell_type": "code",
   "execution_count": null,
   "metadata": {
    "collapsed": true
   },
   "outputs": [],
   "source": []
  }
 ],
 "metadata": {
  "anaconda-cloud": {},
  "kernelspec": {
   "display_name": "Python [default]",
   "language": "python",
   "name": "python3"
  },
  "language_info": {
   "codemirror_mode": {
    "name": "ipython",
    "version": 3
   },
   "file_extension": ".py",
   "mimetype": "text/x-python",
   "name": "python",
   "nbconvert_exporter": "python",
   "pygments_lexer": "ipython3",
   "version": "3.5.3"
  },
  "toc": {
   "nav_menu": {},
   "number_sections": true,
   "sideBar": true,
   "skip_h1_title": false,
   "toc_cell": false,
   "toc_position": {},
   "toc_section_display": "block",
   "toc_window_display": true
  },
  "varInspector": {
   "cols": {
    "lenName": 16,
    "lenType": 16,
    "lenVar": 40
   },
   "kernels_config": {
    "python": {
     "delete_cmd_postfix": "",
     "delete_cmd_prefix": "del ",
     "library": "var_list.py",
     "varRefreshCmd": "print(var_dic_list())"
    },
    "r": {
     "delete_cmd_postfix": ") ",
     "delete_cmd_prefix": "rm(",
     "library": "var_list.r",
     "varRefreshCmd": "cat(var_dic_list()) "
    }
   },
   "types_to_exclude": [
    "module",
    "function",
    "builtin_function_or_method",
    "instance",
    "_Feature"
   ],
   "window_display": false
  }
 },
 "nbformat": 4,
 "nbformat_minor": 2
}
